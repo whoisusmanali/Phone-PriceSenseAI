{
 "cells": [
  {
   "cell_type": "markdown",
   "id": "797b93df",
   "metadata": {},
   "source": [
    "# FlipCart Phones Data Web Scraping"
   ]
  },
  {
   "cell_type": "code",
   "execution_count": 216,
   "id": "0fb9e974",
   "metadata": {},
   "outputs": [],
   "source": [
    "#import important libraries\n",
    "import pandas as pd\n",
    "import numpy as np\n",
    "from bs4 import BeautifulSoup\n",
    "import requests\n",
    "from datetime import datetime\n",
    "import csv"
   ]
  },
  {
   "cell_type": "code",
   "execution_count": 217,
   "id": "37465583",
   "metadata": {},
   "outputs": [],
   "source": [
    "url = 'https://www.flipkart.com/mobiles/pr?sid=tyy%2C4io&p%5B%5D=facets.brand%255B%255D%3D&ctx=eyJjYXJkQ29udGV4dCI6eyJhdHRyaWJ1dGVzIjp7InRpdGxlIjp7Im11bHRpVmFsdWVkQXR0cmlidXRlIjp7ImtleSI6InRpdGxlIiwiaW5mZXJlbmNlVHlwZSI6IlRJVExFIiwidmFsdWVzIjpbIlNob3AgTm93Il0sInZhbHVlVHlwZSI6Ik1VTFRJX1ZBTFVFRCJ9fX19fQ%3D%3D&otracker=clp_metro_expandable_3_7.metroExpandable.METRO_EXPANDABLE_Shop%2BNow_mobile-phones-store_O1WYX08RHODP_wp4&fm=neo%2Fmerchandising&iid=M_4e0e5fa0-a883-4ce6-978f-bc6f6dbe2151_7.O1WYX08RHODP&ppt=hp&ppn=homepage&ssid=6rg6uvho8w0000001686888534336'"
   ]
  },
  {
   "cell_type": "code",
   "execution_count": 239,
   "id": "21c80c17",
   "metadata": {},
   "outputs": [],
   "source": [
    "def get_url(brand):\n",
    "    \"Getting the full url\"\n",
    "    template = 'https://www.flipkart.com/mobiles/pr?sid=tyy%2C4io&p%5B%5D=facets.brand%255B%255D%3D{}&ctx=eyJjYXJkQ29udGV4dCI6eyJhdHRyaWJ1dGVzIjp7InRpdGxlIjp7Im11bHRpVmFsdWVkQXR0cmlidXRlIjp7ImtleSI6InRpdGxlIiwiaW5mZXJlbmNlVHlwZSI6IlRJVExFIiwidmFsdWVzIjpbIlNob3AgTm93Il0sInZhbHVlVHlwZSI6Ik1VTFRJX1ZBTFVFRCJ9fX19fQ%3D%3D&otracker=clp_metro_expandable_3_7.metroExpandable.METRO_EXPANDABLE_Shop%2BNow_mobile-phones-store_O1WYX08RHODP_wp4&fm=neo%2Fmerchandising&iid=M_4e0e5fa0-a883-4ce6-978f-bc6f6dbe2151_7.O1WYX08RHODP&ppt=hp&ppn=homepage&ssid=6rg6uvho8w0000001686888534336'\n",
    "    url= template.format(brand)\n",
    "    return url"
   ]
  },
  {
   "cell_type": "code",
   "execution_count": 240,
   "id": "2eca3fca",
   "metadata": {},
   "outputs": [],
   "source": [
    "url = get_url('poco')"
   ]
  },
  {
   "cell_type": "code",
   "execution_count": 241,
   "id": "2ce6b0bd",
   "metadata": {},
   "outputs": [
    {
     "data": {
      "text/plain": [
       "<Response [200]>"
      ]
     },
     "execution_count": 241,
     "metadata": {},
     "output_type": "execute_result"
    }
   ],
   "source": [
    "response = requests.get(url)\n",
    "response"
   ]
  },
  {
   "cell_type": "code",
   "execution_count": 242,
   "id": "31fd1e42",
   "metadata": {},
   "outputs": [
    {
     "data": {
      "text/plain": [
       "'OK'"
      ]
     },
     "execution_count": 242,
     "metadata": {},
     "output_type": "execute_result"
    }
   ],
   "source": [
    "response.reason"
   ]
  },
  {
   "cell_type": "code",
   "execution_count": 243,
   "id": "59ab6650",
   "metadata": {},
   "outputs": [
    {
     "data": {
      "text/plain": [
       "<!DOCTYPE html>\n",
       "<html lang=\"en\"><head><link href=\"https://rukminim1.flixcart.com\" rel=\"preconnect\"/><link href=\"//static-assets-web.flixcart.com/fk-p-linchpin-web/fk-cp-zion/css/app_modules.chunk.905c37.css\" rel=\"stylesheet\"/><link href=\"//static-assets-web.flixcart.com/fk-p-linchpin-web/fk-cp-zion/css/app.chunk.914d0a.css\" rel=\"stylesheet\"/><meta content=\"text/html; charset=utf-8\" http-equiv=\"Content-type\"/><meta content=\"IE=Edge\" http-equiv=\"X-UA-Compatible\"/><meta content=\"102988293558\" property=\"fb:page_id\"/><meta content=\"658873552,624500995,100000233612389\" property=\"fb:admins\"/><meta content=\"noodp\" name=\"robots\"/><link href=\"https:///www/promos/new/20150528-140547-favicon-retina.ico\" rel=\"shortcut icon\"/><link href=\"/osdd.xml?v=2\" rel=\"search\" type=\"application/opensearchdescription+xml\"/><meta content=\"website\" property=\"og:type\"/><meta content=\"Flipkart.com\" name=\"og_site_name\" property=\"og:site_name\"/><link href=\"/apple-touch-icon-57x57.png\" rel=\"apple-touch-icon\" sizes=\"57x57\"/><link href=\"/apple-touch-icon-72x72.png\" rel=\"apple-touch-icon\" sizes=\"72x72\"/><link href=\"/apple-touch-icon-114x114.png\" rel=\"apple-touch-icon\" sizes=\"114x114\"/><link href=\"/apple-touch-icon-144x144.png\" rel=\"apple-touch-icon\" sizes=\"144x144\"/><link href=\"/apple-touch-icon-57x57.png\" rel=\"apple-touch-icon\"/><meta content=\"app\" name=\"twitter:card\"/><meta content=\"@flipkart\" name=\"twitter:site\"/><meta content=\"@flipkart\" name=\"twitter:creator\"/><meta content=\"Mobile Price List | Compare Mobiles on Buy Online @ Flipkart.\" name=\"twitter:title\"/><meta content=\"Shop for electronics, apparels &amp; more using our Flipkart app Free shipping &amp; COD.\" name=\"twitter:description\"/><meta content=\"in\" name=\"twitter:app:country\"/><meta content=\"Flipkart\" name=\"al:ios:app_name\"/><meta content=\"742044692\" name=\"al:ios:app_store_id\"/><meta content=\"Flipkart\" name=\"twitter:app:name:iphone\"/><meta content=\"742044692\" name=\"twitter:app:id:iphone\"/><meta content=\"http://dl.flipkart.com/dl/home?\" name=\"twitter:app:url:iphone\"/><meta content=\"Flipkart\" name=\"twitter:app:name:ipad\"/><meta content=\"742044692\" name=\"twitter:app:id:ipad\"/><meta content=\"http://dl.flipkart.com/dl/home?\" name=\"twitter:app:url:ipad\"/><meta content=\"Flipkart\" name=\"twitter:app:name:googleplay\"/><meta content=\"com.flipkart.android\" name=\"twitter:app:id:googleplay\"/><meta content=\"http://dl.flipkart.com/dl/home?\" name=\"twitter:app:url:googleplay\"/><style>#container {\n",
       "\t\t\theight: 100%;\n",
       "\t\t}</style> <link href=\"///fk-cp-zion/css/Browse.chunk.eb4d21.css\" rel=\"stylesheet\"/><title>Mobile Price List | Compare Mobiles on Buy Online @ Flipkart.</title><meta content=\"Mobile Price List | Compare Mobiles on Buy Online @ Flipkart.\" name=\"og_title\" property=\"og:title\"><meta content=\"Mobiles, Mobiles online,mobile price\" name=\"Keywords\"> <meta content=\"Buy Mobile by comparing prices of different mobile brands.Check specification and read user reviews to choose the best mobile phone at Flipkart.\" name=\"Description\"><meta content=\"Buy Mobile by comparing prices of different mobile brands.Check specification and read user reviews to choose the best mobile phone at Flipkart.\" property=\"og:description\"> <meta content=\"noindex\" name=\"robots\"> <meta content=\"https://www.flipkart.com/mobile-phones-store\" name=\"og_url\" property=\"og:url\"><meta content=\"F4EEB3A0AFFDD385992A06E6920C0AC3\" name=\"msvalidate.01\"> <!--[if IE 9 ]>\n",
       "\t<script nonce=\"3104953045934506010\">\n",
       "\t\twindow.browserVersion = 'IE9';\n",
       "\t\tdocument.documentElement.className += ' ie9';\n",
       "\t</script>\n",
       "\t<![endif]--><!--[if !IE]><!--><script nonce=\"3104953045934506010\">if (/*@cc_on!@*/false) {\n",
       "\t\t\twindow.browserVersion = 'IE10';\n",
       "\t\t\tdocument.documentElement.className += ' ie10';\n",
       "\t\t}</script><!--<![endif]--> <link href=\"https://www.flipkart.com/mobiles/pr?sid=tyy%2C4io&amp;p%5B%5D=facets.brand%255B%255D%3Dpoco&amp;ctx=eyJjYXJkQ29udGV4dCI6eyJhdHRyaWJ1dGVzIjp7InRpdGxlIjp7Im11bHRpVmFsdWVkQXR0cmlidXRlIjp7ImtleSI6InRpdGxlIiwiaW5mZXJlbmNlVHlwZSI6IlRJVExFIiwidmFsdWVzIjpbIlNob3AgTm93Il0sInZhbHVlVHlwZSI6Ik1VTFRJX1ZBTFVFRCJ9fX19fQ%3D%3D&amp;otracker=clp_metro_expandable_3_7.metroExpandable.METRO_EXPANDABLE_Shop%2BNow_mobile-phones-store_O1WYX08RHODP_wp4&amp;fm=neo%2Fmerchandising&amp;iid=M_4e0e5fa0-a883-4ce6-978f-bc6f6dbe2151_7.O1WYX08RHODP&amp;ppt=hp&amp;ppn=homepage&amp;ssid=6rg6uvho8w0000001686888534336&amp;page=2\" id=\"next-page-link-tag\" rel=\"next\"/><script nonce=\"3104953045934506010\">!function(){if(\"PerformancePaintTiming\" in window){var e=window.__perf={e:[]};e.o=new PerformanceObserver(function(n){e.e=e.e.concat(n.getEntries())});try{e.o.observe({entryTypes:[\"paint\"]})}catch(e){}}}();\n",
       "\n",
       "\t\tif (requestAnimationFrame && performance && performance.mark) {\n",
       "\t\t\trequestAnimationFrame(function () {\n",
       "\t\t\t\twindow.first_paint = performance.now();\n",
       "\t\t\t\tperformance.mark(\"first_paint\");\n",
       "\t\t\t});\n",
       "\t\t}\n",
       "\n",
       "        // web-vitals polyfill for FID\n",
       "        !function(n,e){var t,o,i,c=[],f={passive:!0,capture:!0},r=new Date,a=\"pointerup\",u=\"pointercancel\";function p(n,c){t||(t=c,o=n,i=new Date,w(e),s())}function s(){o>=0&&o<i-r&&(c.forEach(function(n){n(o,t)}),c=[])}function l(t){if(t.cancelable){var o=(t.timeStamp>1e12?new Date:performance.now())-t.timeStamp;\"pointerdown\"==t.type?function(t,o){function i(){p(t,o),r()}function c(){r()}function r(){e(a,i,f),e(u,c,f)}n(a,i,f),n(u,c,f)}(o,t):p(o,t)}}function w(n){[\"click\",\"mousedown\",\"keydown\",\"touchstart\",\"pointerdown\"].forEach(function(e){n(e,l,f)})}w(n),self.perfMetrics=self.perfMetrics||{},self.perfMetrics.onFirstInputDelay=function(n){c.push(n),s()}}(addEventListener,removeEventListener);</script><script async=\"\" src=\"https://www.googletagmanager.com/gtag/js?id=AW-594691041\"></script><script nonce=\"3104953045934506010\">window.dataLayer = window.dataLayer || [];\n",
       "\t\tfunction gtag(){dataLayer.push(arguments)};\n",
       "\t\tgtag('js', new Date());</script></meta></meta></meta></meta></meta></meta></meta></head><body><div id=\"container\"><div><div class=\"_1kfTjk\"><div class=\"_1rH5Jn\"><div class=\"_1TmfNK\"></div><div class=\"_2Xfa2_\"><div class=\"_3_C9Hx\"><div class=\"_3qX0zy\"><a href=\"/\"><img alt=\"Flipkart\" class=\"_2xm1JU\" src=\"//static-assets-web.flixcart.com/fk-p-linchpin-web/fk-cp-zion/img/flipkart-plus_8d85f4.png\" title=\"Flipkart\" width=\"75\"/></a><a class=\"_21ljIi\" href=\"/plus\">Explore<!-- --> <span class=\"_2FVHGh\">Plus</span><img src=\"//static-assets-web.flixcart.com/fk-p-linchpin-web/fk-cp-zion/img/plus_aef861.png\" width=\"10\"/></a></div></div><div class=\"_1cmsER\"><form action=\"/search\" class=\"_2M8cLY header-form-search\" method=\"GET\"><div class=\"col-12-12 _2oO9oE\"><div class=\"_3OO5Xc\"><input autocomplete=\"off\" class=\"_3704LK\" name=\"q\" placeholder=\"Search for products, brands and more\" title=\"Search for products, brands and more\" type=\"text\" value=\"\"/></div><button class=\"L0Z3Pu\" type=\"submit\"><svg class=\"\" height=\"20\" viewbox=\"0 0 17 18\" width=\"20\" xmlns=\"http://www.w3.org/2000/svg\"><g fill=\"#2874F1\" fill-rule=\"evenodd\"><path class=\"_34RNph\" d=\"m11.618 9.897l4.225 4.212c.092.092.101.232.02.313l-1.465 1.46c-.081.081-.221.072-.314-.02l-4.216-4.203\"></path><path class=\"_34RNph\" d=\"m6.486 10.901c-2.42 0-4.381-1.956-4.381-4.368 0-2.413 1.961-4.369 4.381-4.369 2.42 0 4.381 1.956 4.381 4.369 0 2.413-1.961 4.368-4.381 4.368m0-10.835c-3.582 0-6.486 2.895-6.486 6.467 0 3.572 2.904 6.467 6.486 6.467 3.582 0 6.486-2.895 6.486-6.467 0-3.572-2.904-6.467-6.486-6.467\"></path></g></svg></button><input name=\"otracker\" type=\"hidden\" value=\"search\"/><input name=\"otracker1\" type=\"hidden\" value=\"search\"/><input name=\"marketplace\" type=\"hidden\" value=\"FLIPKART\"/><input name=\"as-show\" type=\"hidden\" value=\"off\"/><input name=\"as\" type=\"hidden\" value=\"off\"/></div><ul class=\"col-12-12 _1MRYA1\"></ul></form></div><div class=\"go_DOp _2errNR\"><div class=\"_28p97w\"><div class=\"_1psGvi _3BvnxG\"><div><a class=\"_1_3w1N\" href=\"/account/login?ret=/mobiles/pr%3Fsid%3Dtyy%252C4io%26p%255B%255D%3Dfacets.brand%25255B%25255D%253Dpoco%26ctx%3DeyJjYXJkQ29udGV4dCI6eyJhdHRyaWJ1dGVzIjp7InRpdGxlIjp7Im11bHRpVmFsdWVkQXR0cmlidXRlIjp7ImtleSI6InRpdGxlIiwiaW5mZXJlbmNlVHlwZSI6IlRJVExFIiwidmFsdWVzIjpbIlNob3AgTm93Il0sInZhbHVlVHlwZSI6Ik1VTFRJX1ZBTFVFRCJ9fX19fQ%253D%253D%26otracker%3Dclp_metro_expandable_3_7.metroExpandable.METRO_EXPANDABLE_Shop%252BNow_mobile-phones-store_O1WYX08RHODP_wp4%26fm%3Dneo%252Fmerchandising%26iid%3DM_4e0e5fa0-a883-4ce6-978f-bc6f6dbe2151_7.O1WYX08RHODP%26ppt%3Dhp%26ppn%3Dhomepage%26ssid%3D6rg6uvho8w0000001686888534336\">Login</a></div></div></div></div><div class=\"go_DOp\"><a class=\"_3-PJz-\" href=\"https://seller.flipkart.com/sell-online/?utm_source=fkwebsite&amp;utm_medium=websitedirect\"><span>Become a Seller</span></a></div><div class=\"go_DOp\"><div class=\"_28p97w\"><div class=\"_1psGvi _3BvnxG\"><div><div class=\"exehdJ\"> <!-- -->More<!-- --> </div></div></div><svg class=\"zZ3yfL\" height=\"8\" viewbox=\"0 0 16 27\" width=\"4.7\" xmlns=\"http://www.w3.org/2000/svg\"><path class=\"_2gTTdy\" d=\"M16 23.207L6.11 13.161 16 3.093 12.955 0 0 13.161l12.955 13.161z\" fill=\"#fff\"></path></svg></div></div><div class=\"go_DOp\"><div class=\"_1psGvi\"><div class=\"YUhWwv\"><a class=\"_3SkBxJ\" href=\"/viewcart?exploreMode=true&amp;preference=FLIPKART\"><svg class=\"V3C5bO\" height=\"14\" viewbox=\"0 0 16 16\" width=\"14\" xmlns=\"http://www.w3.org/2000/svg\"><path class=\"_1bS9ic\" d=\"M15.32 2.405H4.887C3 2.405 2.46.805 2.46.805L2.257.21C2.208.085 2.083 0 1.946 0H.336C.1 0-.064.24.024.46l.644 1.945L3.11 9.767c.047.137.175.23.32.23h8.418l-.493 1.958H3.768l.002.003c-.017 0-.033-.003-.05-.003-1.06 0-1.92.86-1.92 1.92s.86 1.92 1.92 1.92c.99 0 1.805-.75 1.91-1.712l5.55.076c.12.922.91 1.636 1.867 1.636 1.04 0 1.885-.844 1.885-1.885 0-.866-.584-1.593-1.38-1.814l2.423-8.832c.12-.433-.206-.86-.655-.86\" fill=\"#fff\"></path></svg><span>Cart</span></a></div></div></div></div><div class=\"_1TmfNK\"></div></div><div class=\"_1mUdNz\"></div></div><div class=\"_331-kn\"></div><div class=\"_36fx1h _6t1WkM _3HqJxg\"><div class=\"_1YokD2 _2GoDe3\"><div class=\"_1YokD2 _3Mn1Gg col-2-12\" style=\"flex:0 0 280px;max-width:280px;padding:0px 10px 0px 0px\"><div class=\"_1YokD2 _3Mn1Gg col-12-12\"><div class=\"_1AtVbE col-12-12\"><div class=\"_1KOcBL\"><section class=\"JWMl0H _2hbLCH\"><div class=\"_2ssEMF\"><div class=\"_3V8rao\"><span>Filters</span></div><div class=\"_2id1nE\"><span>Clear all</span></div></div><div class=\"_2vLW0p\"><div class=\"_1xc7yr\"><div class=\"_3ztiZO\"><div class=\"_151IuQ\">✕</div><div class=\"_3sckoD\">POCO</div></div></div><div class=\"_2w_U27 _2fYv1H\"><span>Show  more</span></div></div></section><div class=\"_2q_g77\"><section class=\"_2aDURW\"><div class=\"_2lfNTw\"><span>CATEGORIES</span></div><div><div class=\"TB_InB\"><span><svg class=\"_2Iqv73\" height=\"10\" viewbox=\"0 0 16 27\" width=\"10\" xmlns=\"http://www.w3.org/2000/svg\"><path class=\"_3zK8He\" d=\"M16 23.207L6.11 13.161 16 3.093 12.955 0 0 13.161l12.955 13.161z\" fill=\"#fff\"></path></svg></span><a class=\"_2qvBBJ _2Mji8F\" href=\"/mobiles-accessories/pr?sid=tyy&amp;p[]=facets.brand%255B%255D%3DPOCO&amp;otracker=categorytree\" title=\"Mobiles &amp; Accessories\">Mobiles &amp; Accessories</a></div></div><div><div class=\"TB_InB\"><span><svg class=\"_2Iqv73\" height=\"10\" viewbox=\"0 0 16 27\" width=\"10\" xmlns=\"http://www.w3.org/2000/svg\"><path class=\"\" d=\"M16 23.207L6.11 13.161 16 3.093 12.955 0 0 13.161l12.955 13.161z\" fill=\"#fff\"></path></svg></span><a class=\"_1jJQdf _2Mji8F\" href=\"/mobiles/pr?sid=tyy,4io&amp;p[]=facets.brand%255B%255D%3DPOCO&amp;otracker=categorytree\" title=\"Mobiles\">Mobiles</a></div></div></section></div><section class=\"_2yz7eI _2hbLCH\"><div class=\"_3KxRU6 _2ssEMF\"><div class=\"UR1L2I _3V8rao\"><span>Price</span></div></div><div class=\"_2NBiOm\"><div class=\"_1nneZ0\"><div class=\"_2TbXIJ\" style=\"height:0;width:0\"></div><div class=\"_2TbXIJ\" style=\"height:0;width:0\"></div><div class=\"_2TbXIJ\" style=\"height:0;width:0\"></div><div class=\"_2TbXIJ\" style=\"height:0;width:0\"></div><div class=\"_2TbXIJ\" style=\"height:0;width:0\"></div></div></div><div class=\"_2r34SG\"><div class=\"_12FhcQ\"><div class=\"_31Kbhn _28DFQy\"><div class=\"_3FdLqY\"></div></div><div class=\"_31Kbhn WC_zGJ\"><div class=\"_3FdLqY\"></div></div><div class=\"_2IN3-t\"></div><div class=\"_2IN3-t _1mRwrD\"></div></div><div class=\"_15GU70\"><div class=\"_1ftpgI\" style=\"width:undefinedpx\">.</div><div class=\"_1ftpgI\" style=\"width:undefinedpx\">.</div><div class=\"_1ftpgI\" style=\"width:undefinedpx\">.</div><div class=\"_1ftpgI\" style=\"width:undefinedpx\">.</div><div class=\"_1ftpgI\" style=\"width:undefinedpx\">.</div><div class=\"_1ftpgI\" style=\"width:0px\">.</div></div></div><div class=\"_2b0bUo\"><div class=\"_1YAKP4\"><select class=\"_2YxCDZ\"><option class=\"_3AsjWR\" selected=\"\" value=\"Min\">Min</option><option class=\"_3AsjWR\" value=\"10000\">₹10000</option><option class=\"_3AsjWR\" value=\"15000\">₹15000</option><option class=\"_3AsjWR\" value=\"20000\">₹20000</option><option class=\"_3AsjWR\" value=\"30000\">₹30000</option></select></div><div class=\"_3zohzR\">to</div><div class=\"_3uDYxP\"><select class=\"_2YxCDZ\"><option class=\"_3AsjWR\" value=\"10000\">₹10000</option><option class=\"_3AsjWR\" value=\"15000\">₹15000</option><option class=\"_3AsjWR\" value=\"20000\">₹20000</option><option class=\"_3AsjWR\" value=\"30000\">₹30000</option><option class=\"_3AsjWR\" selected=\"\" value=\"Max\">₹30000+</option></select></div></div></section><section class=\"_167Mu3 _2hbLCH\"><div class=\"_213eRC _2ssEMF\"><div class=\"_2gmUFU _3V8rao\">Brand</div><svg class=\"ttx38n _3DyGEM\" height=\"27\" viewbox=\"0 0 16 27\" width=\"16\" xmlns=\"http://www.w3.org/2000/svg\"><path class=\"IIvmWM\" d=\"M16 23.207L6.11 13.161 16 3.093 12.955 0 0 13.161l12.955 13.161z\" fill=\"#fff\"></path></svg></div><div class=\"_3FPh42\"><div class=\"_2d0we9\"><div class=\"Dqv36E\"><div class=\"_35AjG4\">✕</div><div class=\"HbxufK\"><span>Clear all</span></div></div><div class=\"_2pBqj6\"><svg class=\"_3WAvPc\" height=\"20\" viewbox=\"0 0 17 18\" width=\"20\" xmlns=\"http://www.w3.org/2000/svg\"><g fill=\"#2874F1\" fill-rule=\"evenodd\"><path class=\"-OwdlC\" d=\"m11.618 9.897l4.225 4.212c.092.092.101.232.02.313l-1.465 1.46c-.081.081-.221.072-.314-.02l-4.216-4.203\"></path><path class=\"-OwdlC\" d=\"m6.486 10.901c-2.42 0-4.381-1.956-4.381-4.368 0-2.413 1.961-4.369 4.381-4.369 2.42 0 4.381 1.956 4.381 4.369 0 2.413-1.961 4.368-4.381 4.368m0-10.835c-3.582 0-6.486 2.895-6.486 6.467 0 3.572 2.904 6.467 6.486 6.467 3.582 0 6.486-2.895 6.486-6.467 0-3.572-2.904-6.467-6.486-6.467\"></path></g></svg><input class=\"_34uFYj\" placeholder=\"Search Brand\" type=\"text\" value=\"\"/></div><div class=\"_4921Z t0pPfW\" title=\"POCO\"><div class=\"_1Y4Vhm _4FO7b6\"><label class=\"_2iDkf8 t0pPfW\"><input checked=\"\" class=\"_30VH1S\" readonly=\"\" type=\"checkbox\"/><div class=\"_24_Dny\"></div><div class=\"_3879cV\">POCO</div></label></div></div><div class=\"_4921Z t0pPfW\" title=\"SAMSUNG\"><div class=\"_1Y4Vhm _4FO7b6\"><label class=\"_2iDkf8 t0pPfW\"><input class=\"_30VH1S\" readonly=\"\" type=\"checkbox\"/><div class=\"_24_Dny\"></div><div class=\"_3879cV\">SAMSUNG</div></label></div></div><div class=\"_4921Z t0pPfW\" title=\"APPLE\"><div class=\"_1Y4Vhm _4FO7b6\"><label class=\"_2iDkf8 t0pPfW\"><input class=\"_30VH1S\" readonly=\"\" type=\"checkbox\"/><div class=\"_24_Dny\"></div><div class=\"_3879cV\">APPLE</div></label></div></div><div class=\"_4921Z t0pPfW\" title=\"realme\"><div class=\"_1Y4Vhm _4FO7b6\"><label class=\"_2iDkf8 t0pPfW\"><input class=\"_30VH1S\" readonly=\"\" type=\"checkbox\"/><div class=\"_24_Dny\"></div><div class=\"_3879cV\">realme</div></label></div></div><div class=\"_4921Z t0pPfW\" title=\"Infinix\"><div class=\"_1Y4Vhm _4FO7b6\"><label class=\"_2iDkf8 t0pPfW\"><input class=\"_30VH1S\" readonly=\"\" type=\"checkbox\"/><div class=\"_24_Dny\"></div><div class=\"_3879cV\">Infinix</div></label></div></div><div class=\"_4921Z t0pPfW\" title=\"OPPO\"><div class=\"_1Y4Vhm _4FO7b6\"><label class=\"_2iDkf8 t0pPfW\"><input class=\"_30VH1S\" readonly=\"\" type=\"checkbox\"/><div class=\"_24_Dny\"></div><div class=\"_3879cV\">OPPO</div></label></div></div></div><div class=\"QvtND5 _2w_U27\"><span>152 MORE</span></div></div></section><section class=\"_2hbLCH _24gLJx\"><label class=\"_2iDkf8 shbqsL\"><input class=\"_30VH1S\" readonly=\"\" type=\"checkbox\"/><div class=\"_24_Dny _3tCU7L\"></div><div class=\"_3879cV\"><div class=\"_3U-Vxu\"><img class=\"_3U-Vxu\" height=\"21\" src=\"//static-assets-web.flixcart.com/fk-p-linchpin-web/fk-cp-zion/img/fa_62673a.png\"/></div></div></label><div class=\"Bv11UC\"><span class=\"question\">?</span></div></section><section class=\"_167Mu3 _2hbLCH\"><div class=\"_213eRC _2ssEMF\"><div class=\"_2gmUFU _3V8rao\">Customer Ratings</div><svg class=\"ttx38n _3DyGEM\" height=\"27\" viewbox=\"0 0 16 27\" width=\"16\" xmlns=\"http://www.w3.org/2000/svg\"><path class=\"IIvmWM\" d=\"M16 23.207L6.11 13.161 16 3.093 12.955 0 0 13.161l12.955 13.161z\" fill=\"#fff\"></path></svg></div><div class=\"_3FPh42\"><div class=\"_2d0we9\"><div class=\"_4921Z t0pPfW\" title=\"4★ &amp; above\"><div class=\"_1Y4Vhm _4FO7b6\"><label class=\"_2iDkf8 t0pPfW\"><input class=\"_30VH1S\" readonly=\"\" type=\"checkbox\"/><div class=\"_24_Dny\"></div><div class=\"_3879cV\">4★ &amp; above</div></label></div></div><div class=\"_4921Z t0pPfW\" title=\"3★ &amp; above\"><div class=\"_1Y4Vhm _4FO7b6\"><label class=\"_2iDkf8 t0pPfW\"><input class=\"_30VH1S\" readonly=\"\" type=\"checkbox\"/><div class=\"_24_Dny\"></div><div class=\"_3879cV\">3★ &amp; above</div></label></div></div></div></div></section><section class=\"_167Mu3 _2hbLCH\"><div class=\"_213eRC _2ssEMF\"><div class=\"_2gmUFU _3V8rao\">GST Invoice Available</div><svg class=\"ttx38n\" height=\"27\" viewbox=\"0 0 16 27\" width=\"16\" xmlns=\"http://www.w3.org/2000/svg\"><path class=\"IIvmWM\" d=\"M16 23.207L6.11 13.161 16 3.093 12.955 0 0 13.161l12.955 13.161z\" fill=\"#fff\"></path></svg></div></section><section class=\"_167Mu3 _2hbLCH\"><div class=\"_213eRC _2ssEMF\"><div class=\"_2gmUFU _3V8rao\">RAM</div><svg class=\"ttx38n _3DyGEM\" height=\"27\" viewbox=\"0 0 16 27\" width=\"16\" xmlns=\"http://www.w3.org/2000/svg\"><path class=\"IIvmWM\" d=\"M16 23.207L6.11 13.161 16 3.093 12.955 0 0 13.161l12.955 13.161z\" fill=\"#fff\"></path></svg></div><div class=\"_3FPh42\"><div class=\"_2d0we9\"><div class=\"_4921Z t0pPfW\" title=\"4 GB\"><div class=\"_1Y4Vhm _4FO7b6\"><label class=\"_2iDkf8 t0pPfW\"><input class=\"_30VH1S\" readonly=\"\" type=\"checkbox\"/><div class=\"_24_Dny\"></div><div class=\"_3879cV\">4 GB</div></label></div></div><div class=\"_4921Z t0pPfW\" title=\"3 GB\"><div class=\"_1Y4Vhm _4FO7b6\"><label class=\"_2iDkf8 t0pPfW\"><input class=\"_30VH1S\" readonly=\"\" type=\"checkbox\"/><div class=\"_24_Dny\"></div><div class=\"_3879cV\">3 GB</div></label></div></div><div class=\"_4921Z t0pPfW\" title=\"2 GB\"><div class=\"_1Y4Vhm _4FO7b6\"><label class=\"_2iDkf8 t0pPfW\"><input class=\"_30VH1S\" readonly=\"\" type=\"checkbox\"/><div class=\"_24_Dny\"></div><div class=\"_3879cV\">2 GB</div></label></div></div><div class=\"_4921Z t0pPfW\" title=\"6 GB\"><div class=\"_1Y4Vhm _4FO7b6\"><label class=\"_2iDkf8 t0pPfW\"><input class=\"_30VH1S\" readonly=\"\" type=\"checkbox\"/><div class=\"_24_Dny\"></div><div class=\"_3879cV\">6 GB</div></label></div></div><div class=\"_4921Z t0pPfW\" title=\"8 GB and Above\"><div class=\"_1Y4Vhm _4FO7b6\"><label class=\"_2iDkf8 t0pPfW\"><input class=\"_30VH1S\" readonly=\"\" type=\"checkbox\"/><div class=\"_24_Dny\"></div><div class=\"_3879cV\">8 GB and Above</div></label></div></div></div></div></section><section class=\"_167Mu3 _2hbLCH\"><div class=\"_213eRC _2ssEMF\"><div class=\"_2gmUFU _3V8rao\">Internal Storage</div><svg class=\"ttx38n\" height=\"27\" viewbox=\"0 0 16 27\" width=\"16\" xmlns=\"http://www.w3.org/2000/svg\"><path class=\"IIvmWM\" d=\"M16 23.207L6.11 13.161 16 3.093 12.955 0 0 13.161l12.955 13.161z\" fill=\"#fff\"></path></svg></div></section><section class=\"_167Mu3 _2hbLCH\"><div class=\"_213eRC _2ssEMF\"><div class=\"_2gmUFU _3V8rao\">Battery Capacity</div><svg class=\"ttx38n\" height=\"27\" viewbox=\"0 0 16 27\" width=\"16\" xmlns=\"http://www.w3.org/2000/svg\"><path class=\"IIvmWM\" d=\"M16 23.207L6.11 13.161 16 3.093 12.955 0 0 13.161l12.955 13.161z\" fill=\"#fff\"></path></svg></div></section><section class=\"_167Mu3 _2hbLCH\"><div class=\"_213eRC _2ssEMF\"><div class=\"_2gmUFU _3V8rao\">Screen Size</div><svg class=\"ttx38n\" height=\"27\" viewbox=\"0 0 16 27\" width=\"16\" xmlns=\"http://www.w3.org/2000/svg\"><path class=\"IIvmWM\" d=\"M16 23.207L6.11 13.161 16 3.093 12.955 0 0 13.161l12.955 13.161z\" fill=\"#fff\"></path></svg></div></section><section class=\"_167Mu3 _2hbLCH\"><div class=\"_213eRC _2ssEMF\"><div class=\"_2gmUFU _3V8rao\">Primary Camera</div><svg class=\"ttx38n\" height=\"27\" viewbox=\"0 0 16 27\" width=\"16\" xmlns=\"http://www.w3.org/2000/svg\"><path class=\"IIvmWM\" d=\"M16 23.207L6.11 13.161 16 3.093 12.955 0 0 13.161l12.955 13.161z\" fill=\"#fff\"></path></svg></div></section><section class=\"_167Mu3 _2hbLCH\"><div class=\"_213eRC _2ssEMF\"><div class=\"_2gmUFU _3V8rao\">Secondary Camera</div><svg class=\"ttx38n\" height=\"27\" viewbox=\"0 0 16 27\" width=\"16\" xmlns=\"http://www.w3.org/2000/svg\"><path class=\"IIvmWM\" d=\"M16 23.207L6.11 13.161 16 3.093 12.955 0 0 13.161l12.955 13.161z\" fill=\"#fff\"></path></svg></div></section><section class=\"_167Mu3 _2hbLCH\"><div class=\"_213eRC _2ssEMF\"><div class=\"_2gmUFU _3V8rao\">Processor Brand</div><svg class=\"ttx38n\" height=\"27\" viewbox=\"0 0 16 27\" width=\"16\" xmlns=\"http://www.w3.org/2000/svg\"><path class=\"IIvmWM\" d=\"M16 23.207L6.11 13.161 16 3.093 12.955 0 0 13.161l12.955 13.161z\" fill=\"#fff\"></path></svg></div></section><section class=\"_167Mu3 _2hbLCH\"><div class=\"_213eRC _2ssEMF\"><div class=\"_2gmUFU _3V8rao\">Speciality</div><svg class=\"ttx38n\" height=\"27\" viewbox=\"0 0 16 27\" width=\"16\" xmlns=\"http://www.w3.org/2000/svg\"><path class=\"IIvmWM\" d=\"M16 23.207L6.11 13.161 16 3.093 12.955 0 0 13.161l12.955 13.161z\" fill=\"#fff\"></path></svg></div></section><section class=\"_167Mu3 _2hbLCH\"><div class=\"_213eRC _2ssEMF\"><div class=\"_2gmUFU _3V8rao\">Resolution Type</div><svg class=\"ttx38n\" height=\"27\" viewbox=\"0 0 16 27\" width=\"16\" xmlns=\"http://www.w3.org/2000/svg\"><path class=\"IIvmWM\" d=\"M16 23.207L6.11 13.161 16 3.093 12.955 0 0 13.161l12.955 13.161z\" fill=\"#fff\"></path></svg></div></section><section class=\"_167Mu3 _2hbLCH\"><div class=\"_213eRC _2ssEMF\"><div class=\"_2gmUFU _3V8rao\">Operating System</div><svg class=\"ttx38n\" height=\"27\" viewbox=\"0 0 16 27\" width=\"16\" xmlns=\"http://www.w3.org/2000/svg\"><path class=\"IIvmWM\" d=\"M16 23.207L6.11 13.161 16 3.093 12.955 0 0 13.161l12.955 13.161z\" fill=\"#fff\"></path></svg></div></section><section class=\"_167Mu3 _2hbLCH\"><div class=\"_213eRC _2ssEMF\"><div class=\"_2gmUFU _3V8rao\">Network Type</div><svg class=\"ttx38n\" height=\"27\" viewbox=\"0 0 16 27\" width=\"16\" xmlns=\"http://www.w3.org/2000/svg\"><path class=\"IIvmWM\" d=\"M16 23.207L6.11 13.161 16 3.093 12.955 0 0 13.161l12.955 13.161z\" fill=\"#fff\"></path></svg></div></section><section class=\"_167Mu3 _2hbLCH\"><div class=\"_213eRC _2ssEMF\"><div class=\"_2gmUFU _3V8rao\">Sim Type</div><svg class=\"ttx38n\" height=\"27\" viewbox=\"0 0 16 27\" width=\"16\" xmlns=\"http://www.w3.org/2000/svg\"><path class=\"IIvmWM\" d=\"M16 23.207L6.11 13.161 16 3.093 12.955 0 0 13.161l12.955 13.161z\" fill=\"#fff\"></path></svg></div></section><section class=\"_167Mu3 _2hbLCH\"><div class=\"_213eRC _2ssEMF\"><div class=\"_2gmUFU _3V8rao\">Availability</div><svg class=\"ttx38n\" height=\"27\" viewbox=\"0 0 16 27\" width=\"16\" xmlns=\"http://www.w3.org/2000/svg\"><path class=\"IIvmWM\" d=\"M16 23.207L6.11 13.161 16 3.093 12.955 0 0 13.161l12.955 13.161z\" fill=\"#fff\"></path></svg></div></section><section class=\"_167Mu3 _2hbLCH\"><div class=\"_213eRC _2ssEMF\"><div class=\"_2gmUFU _3V8rao\">Discount</div><svg class=\"ttx38n _3DyGEM\" height=\"27\" viewbox=\"0 0 16 27\" width=\"16\" xmlns=\"http://www.w3.org/2000/svg\"><path class=\"IIvmWM\" d=\"M16 23.207L6.11 13.161 16 3.093 12.955 0 0 13.161l12.955 13.161z\" fill=\"#fff\"></path></svg></div><div class=\"_3FPh42\"><div class=\"_2d0we9\"><div class=\"_4921Z t0pPfW\" title=\"40% or more\"><div class=\"_1Y4Vhm _4FO7b6\"><label class=\"_2iDkf8 t0pPfW\"><input class=\"_30VH1S\" readonly=\"\" type=\"checkbox\"/><div class=\"_24_Dny\"></div><div class=\"_3879cV\">40% or more</div></label></div></div><div class=\"_4921Z t0pPfW\" title=\"30% or more\"><div class=\"_1Y4Vhm _4FO7b6\"><label class=\"_2iDkf8 t0pPfW\"><input class=\"_30VH1S\" readonly=\"\" type=\"checkbox\"/><div class=\"_24_Dny\"></div><div class=\"_3879cV\">30% or more</div></label></div></div><div class=\"_4921Z t0pPfW\" title=\"20% or more\"><div class=\"_1Y4Vhm _4FO7b6\"><label class=\"_2iDkf8 t0pPfW\"><input class=\"_30VH1S\" readonly=\"\" type=\"checkbox\"/><div class=\"_24_Dny\"></div><div class=\"_3879cV\">20% or more</div></label></div></div><div class=\"_4921Z t0pPfW\" title=\"10% or more\"><div class=\"_1Y4Vhm _4FO7b6\"><label class=\"_2iDkf8 t0pPfW\"><input class=\"_30VH1S\" readonly=\"\" type=\"checkbox\"/><div class=\"_24_Dny\"></div><div class=\"_3879cV\">10% or more</div></label></div></div><div class=\"_4921Z t0pPfW\" title=\"50% or more\"><div class=\"_1Y4Vhm _4FO7b6\"><label class=\"_2iDkf8 _2uGXy_ t0pPfW\"><input class=\"_30VH1S\" readonly=\"\" type=\"checkbox\"/><div class=\"_24_Dny\"></div><div class=\"_3879cV\">50% or more</div></label></div></div></div></div></section><section class=\"_167Mu3 _2hbLCH\"><div class=\"_213eRC _2ssEMF\"><div class=\"_2gmUFU _3V8rao\">Offers</div><svg class=\"ttx38n _3DyGEM\" height=\"27\" viewbox=\"0 0 16 27\" width=\"16\" xmlns=\"http://www.w3.org/2000/svg\"><path class=\"IIvmWM\" d=\"M16 23.207L6.11 13.161 16 3.093 12.955 0 0 13.161l12.955 13.161z\" fill=\"#fff\"></path></svg></div><div class=\"_3FPh42\"><div class=\"_2d0we9\"><div class=\"_4921Z t0pPfW\" title=\"No Cost EMI\"><div class=\"_1Y4Vhm _4FO7b6\"><label class=\"_2iDkf8 t0pPfW\"><input class=\"_30VH1S\" readonly=\"\" type=\"checkbox\"/><div class=\"_24_Dny\"></div><div class=\"_3879cV\">No Cost EMI</div></label></div></div><div class=\"_4921Z t0pPfW\" title=\"Special Price\"><div class=\"_1Y4Vhm _4FO7b6\"><label class=\"_2iDkf8 t0pPfW\"><input class=\"_30VH1S\" readonly=\"\" type=\"checkbox\"/><div class=\"_24_Dny\"></div><div class=\"_3879cV\">Special Price</div></label></div></div><div class=\"_4921Z t0pPfW\" title=\"Buy More, Save More\"><div class=\"_1Y4Vhm _4FO7b6\"><label class=\"_2iDkf8 _2uGXy_ t0pPfW\"><input class=\"_30VH1S\" readonly=\"\" type=\"checkbox\"/><div class=\"_24_Dny\"></div><div class=\"_3879cV\">Buy More, Save More</div></label></div></div></div></div></section><section class=\"_167Mu3 _2hbLCH\"><div class=\"_213eRC _2ssEMF\"><div class=\"_2gmUFU _3V8rao\">Type</div><svg class=\"ttx38n\" height=\"27\" viewbox=\"0 0 16 27\" width=\"16\" xmlns=\"http://www.w3.org/2000/svg\"><path class=\"IIvmWM\" d=\"M16 23.207L6.11 13.161 16 3.093 12.955 0 0 13.161l12.955 13.161z\" fill=\"#fff\"></path></svg></div></section><section class=\"_167Mu3 _2hbLCH\"><div class=\"_213eRC _2ssEMF\"><div class=\"_2gmUFU _3V8rao\">Operating System Version Name</div><svg class=\"ttx38n\" height=\"27\" viewbox=\"0 0 16 27\" width=\"16\" xmlns=\"http://www.w3.org/2000/svg\"><path class=\"IIvmWM\" d=\"M16 23.207L6.11 13.161 16 3.093 12.955 0 0 13.161l12.955 13.161z\" fill=\"#fff\"></path></svg></div></section><section class=\"_167Mu3 _2hbLCH\"><div class=\"_213eRC _2ssEMF\"><div class=\"_2gmUFU _3V8rao\">Clock Speed</div><svg class=\"ttx38n\" height=\"27\" viewbox=\"0 0 16 27\" width=\"16\" xmlns=\"http://www.w3.org/2000/svg\"><path class=\"IIvmWM\" d=\"M16 23.207L6.11 13.161 16 3.093 12.955 0 0 13.161l12.955 13.161z\" fill=\"#fff\"></path></svg></div></section><section class=\"_167Mu3 _2hbLCH\"><div class=\"_213eRC _2ssEMF\"><div class=\"_2gmUFU _3V8rao\">Features</div><svg class=\"ttx38n\" height=\"27\" viewbox=\"0 0 16 27\" width=\"16\" xmlns=\"http://www.w3.org/2000/svg\"><path class=\"IIvmWM\" d=\"M16 23.207L6.11 13.161 16 3.093 12.955 0 0 13.161l12.955 13.161z\" fill=\"#fff\"></path></svg></div></section><section class=\"_167Mu3 _2hbLCH\"><div class=\"_213eRC _2ssEMF\"><div class=\"_2gmUFU _3V8rao\">Number of Cores</div><svg class=\"ttx38n\" height=\"27\" viewbox=\"0 0 16 27\" width=\"16\" xmlns=\"http://www.w3.org/2000/svg\"><path class=\"IIvmWM\" d=\"M16 23.207L6.11 13.161 16 3.093 12.955 0 0 13.161l12.955 13.161z\" fill=\"#fff\"></path></svg></div></section></div></div><div class=\"_1AtVbE col-12-12\"><a class=\"_1nY1tt\" href=\"/buying-guide/mobiles?sid=tyy,4io&amp;otracker=bg_from_browse_lhs\" title=\"Buying Guide\"><div><span>Need help?</span></div><div class=\"_1mVNvF\"><span>Help me decide</span><svg class=\"ViewtL\" height=\"27\" viewbox=\"0 0 16 27\" width=\"16\" xmlns=\"http://www.w3.org/2000/svg\"><path class=\"_2Zt1Py\" d=\"M16 23.207L6.11 13.161 16 3.093 12.955 0 0 13.161l12.955 13.161z\" fill=\"#fff\"></path></svg></div><img alt=\"Buying Guide\" src=\"//static-assets-web.flixcart.com/fk-p-linchpin-web/fk-cp-zion/img/buying-guide-illustration_4dd325.png\"/></a></div></div></div><div class=\"_1YokD2 _3Mn1Gg\" style=\"flex-grow:1;overflow:auto\"><div class=\"_1YokD2 _2GoDe3 col-12-12\" style=\"background-color:#ffffff;align-items:flex-end\"><div class=\"_1AtVbE\" style=\"flex-grow:1;overflow:auto\"><div class=\"W_R1IA\"><div class=\"_1MR4o5\"><div class=\"_3GIHBu\"><a class=\"_2whKao\" href=\"/\">Home</a><svg class=\"_39X-Og\" height=\"27\" viewbox=\"0 0 16 27\" width=\"16\" xmlns=\"http://www.w3.org/2000/svg\"><path class=\"DpXnhQ\" d=\"M16 23.207L6.11 13.161 16 3.093 12.955 0 0 13.161l12.955 13.161z\" fill=\"#fff\"></path></svg></div><div class=\"_3GIHBu\"><a class=\"_2whKao\" href=\"/mobiles-accessories/pr?sid=tyy&amp;marketplace=FLIPKART\">Mobiles &amp; Accessories</a><svg class=\"_39X-Og\" height=\"27\" viewbox=\"0 0 16 27\" width=\"16\" xmlns=\"http://www.w3.org/2000/svg\"><path class=\"DpXnhQ\" d=\"M16 23.207L6.11 13.161 16 3.093 12.955 0 0 13.161l12.955 13.161z\" fill=\"#fff\"></path></svg></div><div class=\"_3GIHBu\"><a class=\"_2whKao\" href=\"/mobiles/pr?sid=tyy,4io&amp;marketplace=FLIPKART\">Mobiles</a><svg class=\"_39X-Og\" height=\"27\" viewbox=\"0 0 16 27\" width=\"16\" xmlns=\"http://www.w3.org/2000/svg\"><path class=\"DpXnhQ\" d=\"M16 23.207L6.11 13.161 16 3.093 12.955 0 0 13.161l12.955 13.161z\" fill=\"#fff\"></path></svg></div></div><div class=\"col gu12 _1c0opE uJ3Xih\"><div class=\"_1D76KH\"><a href=\"https://www.flipkart.com/mobiles/coolpad~brand/pr?sid=tyy,4io\">Coolpad Mobiles</a> ,<a href=\"https://www.flipkart.com/mobiles/cellecor~brand/pr?sid=tyy,4io\">Cellecor Mobiles</a> ,<a href=\"https://www.flipkart.com/mobiles-accessories/pr?sid=tyy\">Mobiles &amp; Accessories</a> ,<a href=\"https://www.flipkart.com/mobiles/lava~brand/pr?sid=tyy,4io\">Lava Mobiles</a> ,<a href=\"https://www.flipkart.com/mobiles/mi~brand/pr?sid=tyy,4io\">Mi Mobiles</a> ,<a href=\"https://www.flipkart.com/mobiles/honor~brand/pr?sid=tyy,4io\">Honor Mobiles</a> ,<a href=\"https://www.flipkart.com/mobiles/redmi~brand/pr?sid=tyy,4io\">REDMI Mobiles</a> ,<a href=\"https://www.flipkart.com/mobiles/blackberry~brand/pr?sid=tyy,4io\">Blackberry Mobiles</a> ,<a href=\"https://www.flipkart.com/mobiles/asus~brand/pr?sid=tyy,4io\">Asus Mobiles</a> ,<a href=\"https://www.flipkart.com/mobiles/samsung~brand/pr?sid=tyy,4io\">SAMSUNG Mobiles</a><br/></div></div><h1 class=\"_10Ermr\">Mobiles</h1><span class=\"_2tDckM\">(Showing 1 – 24 products of 140 products)</span><div class=\"_5THWM1\"><span class=\"_2i7N3j\">Sort By</span><div class=\"_10UF8M _3LsR0e\">Popularity</div><div class=\"_10UF8M\">Price -- Low to High</div><div class=\"_10UF8M\">Price -- High to Low</div><div class=\"_10UF8M\">Newest First</div></div></div></div></div><div class=\"_1AtVbE col-12-12\"><div class=\"_13oc-S\"><div data-id=\"MOBGK8WZUTGDEZFA\" style=\"width:100%\"><div class=\"_2kHMtA\"><a class=\"_1fQZEK\" href=\"/poco-c50-royal-blue-32-gb/p/itma43af9d14952e?pid=MOBGK8WZUTGDEZFA&amp;lid=LSTMOBGK8WZUTGDEZFAWKBDLT&amp;marketplace=FLIPKART&amp;store=tyy%2F4io&amp;spotlightTagId=BestsellerId_tyy%2F4io&amp;srno=b_1_1&amp;otracker=clp_metro_expandable_3_7.metroExpandable.METRO_EXPANDABLE_Shop%2BNow_mobile-phones-store_O1WYX08RHODP_wp4&amp;fm=organic&amp;iid=d705bd05-ac38-4cf3-87e4-104d57017383.MOBGK8WZUTGDEZFA.SEARCH&amp;ppt=None&amp;ppn=None&amp;ssid=3tk3mmftvk0000001686973846402\" rel=\"noopener noreferrer\" target=\"_blank\"><div></div><div class=\"MIXNux\"><div class=\"_2QcLo-\"><div><div class=\"CXW8mj\" style=\"height:200px;width:200px\"><img alt=\"POCO C50 (Royal Blue, 32 GB)\" class=\"_396cs4\" loading=\"eager\" src=\"https://rukminim1.flixcart.com/image/312/312/xif0q/mobile/t/a/x/-original-imaghmtch6qfmfxg.jpeg?q=70\"/></div></div></div><div class=\"_3wLduG\"><div class=\"_3PzNI-\"><span class=\"f3A4_V\"><label class=\"_2iDkf8\"><input class=\"_30VH1S\" readonly=\"\" type=\"checkbox\"/><div class=\"_24_Dny\"></div></label></span><label class=\"_6Up2sF\"><span>Add to Compare</span></label></div></div><div class=\"_2hVSre _3nq8ih\"><div class=\"_36FSn5\"><svg class=\"_1l0elc\" height=\"16\" viewbox=\"0 0 20 16\" width=\"16\" xmlns=\"http://www.w3.org/2000/svg\"><path class=\"eX72wL\" d=\"M8.695 16.682C4.06 12.382 1 9.536 1 6.065 1 3.219 3.178 1 5.95 1c1.566 0 3.069.746 4.05 1.915C10.981 1.745 12.484 1 14.05 1 16.822 1 19 3.22 19 6.065c0 3.471-3.06 6.316-7.695 10.617L10 17.897l-1.305-1.215z\" fill=\"#2874F0\" fill-rule=\"evenodd\" opacity=\".9\" stroke=\"#FFF\"></path></svg></div></div></div><div class=\"_3pLy-c row\"><div class=\"col col-7-12\"><div class=\"_4rR01T\">POCO C50 (Royal Blue, 32 GB)</div><div class=\"gUuXy-\"><span class=\"_1lRcqv\" id=\"productRating_LSTMOBGK8WZUTGDEZFAWKBDLT_MOBGK8WZUTGDEZFA_\"><div class=\"_3LWZlK\">4.2<img class=\"_1wB99o\" src=\"data:image/svg+xml;base64,PHN2ZyB4bWxucz0iaHR0cDovL3d3dy53My5vcmcvMjAwMC9zdmciIHdpZHRoPSIxMyIgaGVpZ2h0PSIxMiI+PHBhdGggZmlsbD0iI0ZGRiIgZD0iTTYuNSA5LjQzOWwtMy42NzQgMi4yMy45NC00LjI2LTMuMjEtMi44ODMgNC4yNTQtLjQwNEw2LjUuMTEybDEuNjkgNC4wMSA0LjI1NC40MDQtMy4yMSAyLjg4Mi45NCA0LjI2eiIvPjwvc3ZnPg==\"/></div></span><span class=\"_2_R_DZ\"><span><span>33,561 Ratings </span><span class=\"_13vcmD\">&amp;</span><span> 1,506 Reviews</span></span></span></div><div class=\"fMghEO\"><ul class=\"_1xgFaf\"><li class=\"rgWa7D\">2 GB RAM | 32 GB ROM | Expandable Upto 512 GB</li><li class=\"rgWa7D\">16.56 cm (6.52 inch) HD+ Display</li><li class=\"rgWa7D\">8MP Dual Camera | 5MP Front Camera</li><li class=\"rgWa7D\">5000 mAh Lithium Polymer Battery</li><li class=\"rgWa7D\">Mediatek Helio A22 Processor, Upto 2.0 GHz Processor</li><li class=\"rgWa7D\">1 Year Manufacturer Warranty for Phone and 6 Months Warranty for In the Box Accessories</li></ul></div></div><div class=\"col col-5-12 nlI3QM\"><div class=\"_3tbKJL\"><div class=\"_25b18c\"><div class=\"_30jeq3 _1_WHN1\">₹5,649</div><div class=\"_3I9_wc _27UcVY\">₹<!-- -->8,999</div><div class=\"_3Ay6Sb\"><span>37% off</span></div></div><div class=\"_3tcB5a p8ucoS\"><div><div class=\"_2Tpdn3\" style=\"color:#000000;font-size:12px;font-weight:400\">Free delivery by</div><div class=\"_2Tpdn3\" style=\"color:#000000;font-size:12px;font-style:normal;font-weight:700\"> Today</div></div></div></div><div class=\"_13J9qT\"><img height=\"21\" src=\"//static-assets-web.flixcart.com/fk-p-linchpin-web/fk-cp-zion/img/fa_62673a.png\"/></div><div class=\"_2ZdXDB\"><div class=\"_3xFhiH\"><div class=\"_2Tpdn3 _18hQoS\" style=\"color:#000000;font-size:14px;font-style:normal;font-weight:400\">Upto </div><div class=\"_2Tpdn3 _18hQoS\" style=\"color:#000000;font-size:14px;font-style:normal;font-weight:700\">₹5,100</div><div class=\"_2Tpdn3 _18hQoS\" style=\"color:#000000;font-size:14px;font-style:normal;font-weight:400\"> Off on Exchange</div></div></div><div class=\"_2ZdXDB\"><div class=\"_3xFhiH\"><div class=\"_2Tpdn3 _18hQoS\" style=\"color:#26A541;font-size:14px;font-weight:700\">Bank Offer</div></div></div></div></div></a></div></div></div></div><div class=\"_1AtVbE col-12-12\"><div class=\"_13oc-S\"><div data-id=\"MOBGDRGPD6YGVHXZ\" style=\"width:100%\"><div class=\"_2kHMtA\"><a class=\"_1fQZEK\" href=\"/poco-m4-5g-cool-blue-64-gb/p/itm7b27dd2f5da7e?pid=MOBGDRGPD6YGVHXZ&amp;lid=LSTMOBGDRGPD6YGVHXZXRTTHJ&amp;marketplace=FLIPKART&amp;store=tyy%2F4io&amp;srno=b_1_2&amp;otracker=clp_metro_expandable_3_7.metroExpandable.METRO_EXPANDABLE_Shop%2BNow_mobile-phones-store_O1WYX08RHODP_wp4&amp;fm=organic&amp;iid=d705bd05-ac38-4cf3-87e4-104d57017383.MOBGDRGPD6YGVHXZ.SEARCH&amp;ppt=None&amp;ppn=None&amp;ssid=3tk3mmftvk0000001686973846402\" rel=\"noopener noreferrer\" target=\"_blank\"><div class=\"MIXNux\"><div class=\"_2QcLo-\"><div><div class=\"CXW8mj\" style=\"height:200px;width:200px\"><img alt=\"POCO M4 5G (Cool Blue, 64 GB)\" class=\"_396cs4\" loading=\"eager\" src=\"https://rukminim1.flixcart.com/image/312/312/l2jcccw0/mobile/i/p/o/-original-imagdu8j9vxscfdh.jpeg?q=70\"/></div></div></div><div class=\"_3wLduG\"><div class=\"_3PzNI-\"><span class=\"f3A4_V\"><label class=\"_2iDkf8\"><input class=\"_30VH1S\" readonly=\"\" type=\"checkbox\"/><div class=\"_24_Dny\"></div></label></span><label class=\"_6Up2sF\"><span>Add to Compare</span></label></div></div><div class=\"_2hVSre _3nq8ih\"><div class=\"_36FSn5\"><svg class=\"_1l0elc\" height=\"16\" viewbox=\"0 0 20 16\" width=\"16\" xmlns=\"http://www.w3.org/2000/svg\"><path class=\"eX72wL\" d=\"M8.695 16.682C4.06 12.382 1 9.536 1 6.065 1 3.219 3.178 1 5.95 1c1.566 0 3.069.746 4.05 1.915C10.981 1.745 12.484 1 14.05 1 16.822 1 19 3.22 19 6.065c0 3.471-3.06 6.316-7.695 10.617L10 17.897l-1.305-1.215z\" fill=\"#2874F0\" fill-rule=\"evenodd\" opacity=\".9\" stroke=\"#FFF\"></path></svg></div></div></div><div class=\"_3pLy-c row\"><div class=\"col col-7-12\"><div class=\"_4rR01T\">POCO M4 5G (Cool Blue, 64 GB)</div><div class=\"gUuXy-\"><span class=\"_1lRcqv\" id=\"productRating_LSTMOBGDRGPD6YGVHXZXRTTHJ_MOBGDRGPD6YGVHXZ_\"><div class=\"_3LWZlK\">4.2<img class=\"_1wB99o\" src=\"data:image/svg+xml;base64,PHN2ZyB4bWxucz0iaHR0cDovL3d3dy53My5vcmcvMjAwMC9zdmciIHdpZHRoPSIxMyIgaGVpZ2h0PSIxMiI+PHBhdGggZmlsbD0iI0ZGRiIgZD0iTTYuNSA5LjQzOWwtMy42NzQgMi4yMy45NC00LjI2LTMuMjEtMi44ODMgNC4yNTQtLjQwNEw2LjUuMTEybDEuNjkgNC4wMSA0LjI1NC40MDQtMy4yMSAyLjg4Mi45NCA0LjI2eiIvPjwvc3ZnPg==\"/></div></span><span class=\"_2_R_DZ\"><span><span>77,128 Ratings </span><span class=\"_13vcmD\">&amp;</span><span> 5,430 Reviews</span></span></span></div><div class=\"fMghEO\"><ul class=\"_1xgFaf\"><li class=\"rgWa7D\">4 GB RAM | 64 GB ROM | Expandable Upto 512 GB</li><li class=\"rgWa7D\">16.71 cm (6.58 inch) Full HD+ Display</li><li class=\"rgWa7D\">50MP + 2MP | 8MP Front Camera</li><li class=\"rgWa7D\">5000 mAh Lithium Ion Polymer Battery</li><li class=\"rgWa7D\">Mediatek Dimensity 700 Processor</li><li class=\"rgWa7D\">1 Year Warranty for Handset and 6 Months for Accessories</li></ul></div></div><div class=\"col col-5-12 nlI3QM\"><div class=\"_3tbKJL\"><div class=\"_25b18c\"><div class=\"_30jeq3 _1_WHN1\">₹11,999</div><div class=\"_3I9_wc _27UcVY\">₹<!-- -->15,999</div><div class=\"_3Ay6Sb\"><span>25% off</span></div></div><div class=\"_3tcB5a p8ucoS\"><div><div class=\"_2Tpdn3\" style=\"color:#000000;font-size:12px;font-weight:400\">Free delivery by</div><div class=\"_2Tpdn3\" style=\"color:#000000;font-size:12px;font-style:normal;font-weight:700\"> Today</div></div></div></div><div class=\"_13J9qT\"><img height=\"21\" src=\"//static-assets-web.flixcart.com/fk-p-linchpin-web/fk-cp-zion/img/fa_62673a.png\"/></div><div class=\"_2ZdXDB\"><div class=\"_3xFhiH\"><div class=\"_2Tpdn3 _18hQoS\" style=\"color:#000000;font-size:14px;font-style:normal;font-weight:400\">Upto </div><div class=\"_2Tpdn3 _18hQoS\" style=\"color:#000000;font-size:14px;font-style:normal;font-weight:700\">₹11,450</div><div class=\"_2Tpdn3 _18hQoS\" style=\"color:#000000;font-size:14px;font-style:normal;font-weight:400\"> Off on Exchange</div></div></div><div class=\"_2ZdXDB\"><div class=\"_3xFhiH\"><div class=\"_2Tpdn3 _18hQoS\" style=\"color:#000000;font-size:12px;font-weight:400\">No Cost EMI from ₹2,000/month</div></div></div></div></div></a></div></div></div></div><div class=\"_1AtVbE col-12-12\"><div class=\"_13oc-S\"><div data-id=\"MOBGZCQFCWNDK89P\" style=\"width:100%\"><div class=\"_2kHMtA\"><a class=\"_1fQZEK\" href=\"/poco-c51-royal-blue-64-gb/p/itm1e4e8373537a7?pid=MOBGZCQFCWNDK89P&amp;lid=LSTMOBGZCQFCWNDK89PTMGT86&amp;marketplace=FLIPKART&amp;store=tyy%2F4io&amp;spotlightTagId=BestsellerId_tyy%2F4io&amp;srno=b_1_3&amp;otracker=clp_metro_expandable_3_7.metroExpandable.METRO_EXPANDABLE_Shop%2BNow_mobile-phones-store_O1WYX08RHODP_wp4&amp;fm=organic&amp;iid=d705bd05-ac38-4cf3-87e4-104d57017383.MOBGZCQFCWNDK89P.SEARCH&amp;ppt=None&amp;ppn=None&amp;ssid=3tk3mmftvk0000001686973846402\" rel=\"noopener noreferrer\" target=\"_blank\"><div></div><div class=\"MIXNux\"><div class=\"_2QcLo-\"><div><div class=\"CXW8mj\" style=\"height:200px;width:200px\"><img alt=\"POCO C51 (Royal Blue, 64 GB)\" class=\"_396cs4\" loading=\"eager\" src=\"https://rukminim1.flixcart.com/image/312/312/xif0q/mobile/6/v/0/c51-mzb0dxkin-poco-original-imagzdpycgrcdc8z.jpeg?q=70\"/></div></div></div><div class=\"_3wLduG\"><div class=\"_3PzNI-\"><span class=\"f3A4_V\"><label class=\"_2iDkf8\"><input class=\"_30VH1S\" readonly=\"\" type=\"checkbox\"/><div class=\"_24_Dny\"></div></label></span><label class=\"_6Up2sF\"><span>Add to Compare</span></label></div></div><div class=\"_2hVSre _3nq8ih\"><div class=\"_36FSn5\"><svg class=\"_1l0elc\" height=\"16\" viewbox=\"0 0 20 16\" width=\"16\" xmlns=\"http://www.w3.org/2000/svg\"><path class=\"eX72wL\" d=\"M8.695 16.682C4.06 12.382 1 9.536 1 6.065 1 3.219 3.178 1 5.95 1c1.566 0 3.069.746 4.05 1.915C10.981 1.745 12.484 1 14.05 1 16.822 1 19 3.22 19 6.065c0 3.471-3.06 6.316-7.695 10.617L10 17.897l-1.305-1.215z\" fill=\"#2874F0\" fill-rule=\"evenodd\" opacity=\".9\" stroke=\"#FFF\"></path></svg></div></div></div><div class=\"_3pLy-c row\"><div class=\"col col-7-12\"><div class=\"_4rR01T\">POCO C51 (Royal Blue, 64 GB)</div><div class=\"gUuXy-\"><span class=\"_1lRcqv\" id=\"productRating_LSTMOBGZCQFCWNDK89PTMGT86_MOBGZCQFCWNDK89P_\"><div class=\"_3LWZlK\">4.3<img class=\"_1wB99o\" src=\"data:image/svg+xml;base64,PHN2ZyB4bWxucz0iaHR0cDovL3d3dy53My5vcmcvMjAwMC9zdmciIHdpZHRoPSIxMyIgaGVpZ2h0PSIxMiI+PHBhdGggZmlsbD0iI0ZGRiIgZD0iTTYuNSA5LjQzOWwtMy42NzQgMi4yMy45NC00LjI2LTMuMjEtMi44ODMgNC4yNTQtLjQwNEw2LjUuMTEybDEuNjkgNC4wMSA0LjI1NC40MDQtMy4yMSAyLjg4Mi45NCA0LjI2eiIvPjwvc3ZnPg==\"/></div></span><span class=\"_2_R_DZ\"><span><span>15,175 Ratings </span><span class=\"_13vcmD\">&amp;</span><span> 572 Reviews</span></span></span></div><div class=\"fMghEO\"><ul class=\"_1xgFaf\"><li class=\"rgWa7D\">4 GB RAM | 64 GB ROM | Expandable Upto 1 TB</li><li class=\"rgWa7D\">16.56 cm (6.52 inch) HD+ Display</li><li class=\"rgWa7D\">8MP Dual Rear Camera | 5MP Front Camera</li><li class=\"rgWa7D\">5000 mAh Battery</li><li class=\"rgWa7D\">Helio G36 Processor</li><li class=\"rgWa7D\">1 Year Manufacturer Warranty for Phone and 6 Months Warranty for in the Box Accessories</li></ul></div></div><div class=\"col col-5-12 nlI3QM\"><div class=\"_3tbKJL\"><div class=\"_25b18c\"><div class=\"_30jeq3 _1_WHN1\">₹6,999</div><div class=\"_3I9_wc _27UcVY\">₹<!-- -->9,999</div><div class=\"_3Ay6Sb\"><span>30% off</span></div></div><div class=\"_3tcB5a p8ucoS\"><div><div class=\"_2Tpdn3\" style=\"color:#000000;font-size:12px;font-weight:400\">Free delivery by</div><div class=\"_2Tpdn3\" style=\"color:#000000;font-size:12px;font-style:normal;font-weight:700\"> Today</div></div></div></div><div class=\"_13J9qT\"><img height=\"21\" src=\"//static-assets-web.flixcart.com/fk-p-linchpin-web/fk-cp-zion/img/fa_62673a.png\"/></div><div class=\"_2ZdXDB\"><div class=\"_3xFhiH\"><div class=\"_2Tpdn3 _18hQoS\" style=\"color:#000000;font-size:14px;font-style:normal;font-weight:400\">Upto </div><div class=\"_2Tpdn3 _18hQoS\" style=\"color:#000000;font-size:14px;font-style:normal;font-weight:700\">₹6,400</div><div class=\"_2Tpdn3 _18hQoS\" style=\"color:#000000;font-size:14px;font-style:normal;font-weight:400\"> Off on Exchange</div></div></div><div class=\"_2ZdXDB\"><div class=\"_3xFhiH\"><div class=\"_2Tpdn3 _18hQoS\" style=\"color:#000000;font-size:12px;font-weight:400\">No Cost EMI from ₹1,167/month</div></div></div></div></div></a></div></div></div></div><div class=\"_1AtVbE col-12-12\"><div class=\"_13oc-S\"><div data-id=\"MOBGZCQFWM5HZHXX\" style=\"width:100%\"><div class=\"_2kHMtA\"><a class=\"_1fQZEK\" href=\"/poco-c51-power-black-64-gb/p/itm62bcd2634619e?pid=MOBGZCQFWM5HZHXX&amp;lid=LSTMOBGZCQFWM5HZHXXVV2MKC&amp;marketplace=FLIPKART&amp;store=tyy%2F4io&amp;srno=b_1_4&amp;otracker=clp_metro_expandable_3_7.metroExpandable.METRO_EXPANDABLE_Shop%2BNow_mobile-phones-store_O1WYX08RHODP_wp4&amp;fm=organic&amp;iid=d705bd05-ac38-4cf3-87e4-104d57017383.MOBGZCQFWM5HZHXX.SEARCH&amp;ppt=None&amp;ppn=None&amp;ssid=3tk3mmftvk0000001686973846402\" rel=\"noopener noreferrer\" target=\"_blank\"><div class=\"MIXNux\"><div class=\"_2QcLo-\"><div><div class=\"CXW8mj\" style=\"height:200px;width:200px\"><img alt=\"POCO C51 (Power Black, 64 GB)\" class=\"_396cs4\" loading=\"eager\" src=\"https://rukminim1.flixcart.com/image/312/312/xif0q/mobile/o/t/a/c51-mzb0e6din-poco-original-imagzdzzraqzsrzc.jpeg?q=70\"/></div></div></div><div class=\"_3wLduG\"><div class=\"_3PzNI-\"><span class=\"f3A4_V\"><label class=\"_2iDkf8\"><input class=\"_30VH1S\" readonly=\"\" type=\"checkbox\"/><div class=\"_24_Dny\"></div></label></span><label class=\"_6Up2sF\"><span>Add to Compare</span></label></div></div><div class=\"_2hVSre _3nq8ih\"><div class=\"_36FSn5\"><svg class=\"_1l0elc\" height=\"16\" viewbox=\"0 0 20 16\" width=\"16\" xmlns=\"http://www.w3.org/2000/svg\"><path class=\"eX72wL\" d=\"M8.695 16.682C4.06 12.382 1 9.536 1 6.065 1 3.219 3.178 1 5.95 1c1.566 0 3.069.746 4.05 1.915C10.981 1.745 12.484 1 14.05 1 16.822 1 19 3.22 19 6.065c0 3.471-3.06 6.316-7.695 10.617L10 17.897l-1.305-1.215z\" fill=\"#2874F0\" fill-rule=\"evenodd\" opacity=\".9\" stroke=\"#FFF\"></path></svg></div></div></div><div class=\"_3pLy-c row\"><div class=\"col col-7-12\"><div class=\"_4rR01T\">POCO C51 (Power Black, 64 GB)</div><div class=\"gUuXy-\"><span class=\"_1lRcqv\" id=\"productRating_LSTMOBGZCQFWM5HZHXXVV2MKC_MOBGZCQFWM5HZHXX_\"><div class=\"_3LWZlK\">4.3<img class=\"_1wB99o\" src=\"data:image/svg+xml;base64,PHN2ZyB4bWxucz0iaHR0cDovL3d3dy53My5vcmcvMjAwMC9zdmciIHdpZHRoPSIxMyIgaGVpZ2h0PSIxMiI+PHBhdGggZmlsbD0iI0ZGRiIgZD0iTTYuNSA5LjQzOWwtMy42NzQgMi4yMy45NC00LjI2LTMuMjEtMi44ODMgNC4yNTQtLjQwNEw2LjUuMTEybDEuNjkgNC4wMSA0LjI1NC40MDQtMy4yMSAyLjg4Mi45NCA0LjI2eiIvPjwvc3ZnPg==\"/></div></span><span class=\"_2_R_DZ\"><span><span>15,175 Ratings </span><span class=\"_13vcmD\">&amp;</span><span> 572 Reviews</span></span></span></div><div class=\"fMghEO\"><ul class=\"_1xgFaf\"><li class=\"rgWa7D\">4 GB RAM | 64 GB ROM | Expandable Upto 1 TB</li><li class=\"rgWa7D\">16.56 cm (6.52 inch) HD+ Display</li><li class=\"rgWa7D\">8MP Dual Rear Camera | 5MP Front Camera</li><li class=\"rgWa7D\">5000 mAh Battery</li><li class=\"rgWa7D\">Helio G36 Processor</li><li class=\"rgWa7D\">1 Year Manufacturer Warranty for Phone and 6 Months Warranty for in the Box Accessories</li></ul></div></div><div class=\"col col-5-12 nlI3QM\"><div class=\"_3tbKJL\"><div class=\"_25b18c\"><div class=\"_30jeq3 _1_WHN1\">₹6,999</div><div class=\"_3I9_wc _27UcVY\">₹<!-- -->9,999</div><div class=\"_3Ay6Sb\"><span>30% off</span></div></div><div class=\"_3tcB5a p8ucoS\"><div><div class=\"_2Tpdn3\" style=\"color:#000000;font-size:12px;font-weight:400\">Free delivery by</div><div class=\"_2Tpdn3\" style=\"color:#000000;font-size:12px;font-style:normal;font-weight:700\"> Today</div></div></div></div><div class=\"_13J9qT\"><img height=\"21\" src=\"//static-assets-web.flixcart.com/fk-p-linchpin-web/fk-cp-zion/img/fa_62673a.png\"/></div><div class=\"_2ZdXDB\"><div class=\"_3xFhiH\"><div class=\"_2Tpdn3 _18hQoS\" style=\"color:#000000;font-size:14px;font-style:normal;font-weight:400\">Upto </div><div class=\"_2Tpdn3 _18hQoS\" style=\"color:#000000;font-size:14px;font-style:normal;font-weight:700\">₹6,400</div><div class=\"_2Tpdn3 _18hQoS\" style=\"color:#000000;font-size:14px;font-style:normal;font-weight:400\"> Off on Exchange</div></div></div><div class=\"_2ZdXDB\"><div class=\"_3xFhiH\"><div class=\"_2Tpdn3 _18hQoS\" style=\"color:#000000;font-size:12px;font-weight:400\">No Cost EMI from ₹1,167/month</div></div></div></div></div></a></div></div></div></div><div class=\"_1AtVbE col-12-12\"><div class=\"_13oc-S\"><div data-id=\"MOBGDRGPZTSHNQ5H\" style=\"width:100%\"><div class=\"_2kHMtA\"><a class=\"_1fQZEK\" href=\"/poco-m4-5g-power-black-64-gb/p/itmdca739218a8a0?pid=MOBGDRGPZTSHNQ5H&amp;lid=LSTMOBGDRGPZTSHNQ5HK2U5VI&amp;marketplace=FLIPKART&amp;store=tyy%2F4io&amp;srno=b_1_5&amp;otracker=clp_metro_expandable_3_7.metroExpandable.METRO_EXPANDABLE_Shop%2BNow_mobile-phones-store_O1WYX08RHODP_wp4&amp;fm=organic&amp;iid=d705bd05-ac38-4cf3-87e4-104d57017383.MOBGDRGPZTSHNQ5H.SEARCH&amp;ppt=None&amp;ppn=None&amp;ssid=3tk3mmftvk0000001686973846402\" rel=\"noopener noreferrer\" target=\"_blank\"><div class=\"MIXNux\"><div class=\"_2QcLo-\"><div><div class=\"CXW8mj\" style=\"height:200px;width:200px\"><img alt=\"POCO M4 5G (Power Black, 64 GB)\" class=\"_396cs4\" loading=\"eager\" src=\"https://rukminim1.flixcart.com/image/312/312/l2jcccw0/mobile/i/1/y/-original-imagdu8gtefvchbn.jpeg?q=70\"/></div></div></div><div class=\"_3wLduG\"><div class=\"_3PzNI-\"><span class=\"f3A4_V\"><label class=\"_2iDkf8\"><input class=\"_30VH1S\" readonly=\"\" type=\"checkbox\"/><div class=\"_24_Dny\"></div></label></span><label class=\"_6Up2sF\"><span>Add to Compare</span></label></div></div><div class=\"_2hVSre _3nq8ih\"><div class=\"_36FSn5\"><svg class=\"_1l0elc\" height=\"16\" viewbox=\"0 0 20 16\" width=\"16\" xmlns=\"http://www.w3.org/2000/svg\"><path class=\"eX72wL\" d=\"M8.695 16.682C4.06 12.382 1 9.536 1 6.065 1 3.219 3.178 1 5.95 1c1.566 0 3.069.746 4.05 1.915C10.981 1.745 12.484 1 14.05 1 16.822 1 19 3.22 19 6.065c0 3.471-3.06 6.316-7.695 10.617L10 17.897l-1.305-1.215z\" fill=\"#2874F0\" fill-rule=\"evenodd\" opacity=\".9\" stroke=\"#FFF\"></path></svg></div></div></div><div class=\"_3pLy-c row\"><div class=\"col col-7-12\"><div class=\"_4rR01T\">POCO M4 5G (Power Black, 64 GB)</div><div class=\"gUuXy-\"><span class=\"_1lRcqv\" id=\"productRating_LSTMOBGDRGPZTSHNQ5HK2U5VI_MOBGDRGPZTSHNQ5H_\"><div class=\"_3LWZlK\">4.2<img class=\"_1wB99o\" src=\"data:image/svg+xml;base64,PHN2ZyB4bWxucz0iaHR0cDovL3d3dy53My5vcmcvMjAwMC9zdmciIHdpZHRoPSIxMyIgaGVpZ2h0PSIxMiI+PHBhdGggZmlsbD0iI0ZGRiIgZD0iTTYuNSA5LjQzOWwtMy42NzQgMi4yMy45NC00LjI2LTMuMjEtMi44ODMgNC4yNTQtLjQwNEw2LjUuMTEybDEuNjkgNC4wMSA0LjI1NC40MDQtMy4yMSAyLjg4Mi45NCA0LjI2eiIvPjwvc3ZnPg==\"/></div></span><span class=\"_2_R_DZ\"><span><span>77,128 Ratings </span><span class=\"_13vcmD\">&amp;</span><span> 5,430 Reviews</span></span></span></div><div class=\"fMghEO\"><ul class=\"_1xgFaf\"><li class=\"rgWa7D\">4 GB RAM | 64 GB ROM | Expandable Upto 512 GB</li><li class=\"rgWa7D\">16.71 cm (6.58 inch) Full HD+ Display</li><li class=\"rgWa7D\">50MP + 2MP | 8MP Front Camera</li><li class=\"rgWa7D\">5000 mAh Lithium Ion Polymer Battery</li><li class=\"rgWa7D\">Mediatek Dimensity 700 Processor</li><li class=\"rgWa7D\">1 Year Warranty for Handset and 6 Months for Accessories</li></ul></div></div><div class=\"col col-5-12 nlI3QM\"><div class=\"_3tbKJL\"><div class=\"_25b18c\"><div class=\"_30jeq3 _1_WHN1\">₹11,999</div><div class=\"_3I9_wc _27UcVY\">₹<!-- -->15,999</div><div class=\"_3Ay6Sb\"><span>25% off</span></div></div><div class=\"_3tcB5a p8ucoS\"><div><div class=\"_2Tpdn3\" style=\"color:#000000;font-size:12px;font-weight:400\">Free delivery by</div><div class=\"_2Tpdn3\" style=\"color:#000000;font-size:12px;font-style:normal;font-weight:700\"> Today</div></div></div></div><div class=\"_13J9qT\"><img height=\"21\" src=\"//static-assets-web.flixcart.com/fk-p-linchpin-web/fk-cp-zion/img/fa_62673a.png\"/></div><div class=\"_2ZdXDB\"><div class=\"_3xFhiH\"><div class=\"_2Tpdn3 _18hQoS\" style=\"color:#000000;font-size:14px;font-style:normal;font-weight:400\">Upto </div><div class=\"_2Tpdn3 _18hQoS\" style=\"color:#000000;font-size:14px;font-style:normal;font-weight:700\">₹11,450</div><div class=\"_2Tpdn3 _18hQoS\" style=\"color:#000000;font-size:14px;font-style:normal;font-weight:400\"> Off on Exchange</div></div></div><div class=\"_2ZdXDB\"><div class=\"_3xFhiH\"><div class=\"_2Tpdn3 _18hQoS\" style=\"color:#000000;font-size:12px;font-weight:400\">No Cost EMI from ₹2,000/month</div></div></div></div></div></a></div></div></div></div><div class=\"_1AtVbE col-12-12\"><div class=\"_13oc-S\"><div data-id=\"MOBGMXSW9PHJVQCA\" style=\"width:100%\"><div class=\"_2kHMtA\"><a class=\"_1fQZEK\" href=\"/poco-c55-power-black-64-gb/p/itme567bcd596fe9?pid=MOBGMXSW9PHJVQCA&amp;lid=LSTMOBGMXSW9PHJVQCALTZQ3D&amp;marketplace=FLIPKART&amp;store=tyy%2F4io&amp;spotlightTagId=FkPickId_tyy%2F4io&amp;srno=b_1_6&amp;otracker=clp_metro_expandable_3_7.metroExpandable.METRO_EXPANDABLE_Shop%2BNow_mobile-phones-store_O1WYX08RHODP_wp4&amp;fm=organic&amp;iid=d705bd05-ac38-4cf3-87e4-104d57017383.MOBGMXSW9PHJVQCA.SEARCH&amp;ppt=None&amp;ppn=None&amp;ssid=3tk3mmftvk0000001686973846402\" rel=\"noopener noreferrer\" target=\"_blank\"><div></div><div class=\"MIXNux\"><div class=\"_2QcLo-\"><div><div class=\"CXW8mj\" style=\"height:200px;width:200px\"><img alt=\"POCO C55 (Power Black, 64 GB)\" class=\"_396cs4\" loading=\"eager\" src=\"https://rukminim1.flixcart.com/image/312/312/xif0q/mobile/b/y/g/-original-imagnfzybft7wzmp.jpeg?q=70\"/></div></div></div><div class=\"_3wLduG\"><div class=\"_3PzNI-\"><span class=\"f3A4_V\"><label class=\"_2iDkf8\"><input class=\"_30VH1S\" readonly=\"\" type=\"checkbox\"/><div class=\"_24_Dny\"></div></label></span><label class=\"_6Up2sF\"><span>Add to Compare</span></label></div></div><div class=\"_2hVSre _3nq8ih\"><div class=\"_36FSn5\"><svg class=\"_1l0elc\" height=\"16\" viewbox=\"0 0 20 16\" width=\"16\" xmlns=\"http://www.w3.org/2000/svg\"><path class=\"eX72wL\" d=\"M8.695 16.682C4.06 12.382 1 9.536 1 6.065 1 3.219 3.178 1 5.95 1c1.566 0 3.069.746 4.05 1.915C10.981 1.745 12.484 1 14.05 1 16.822 1 19 3.22 19 6.065c0 3.471-3.06 6.316-7.695 10.617L10 17.897l-1.305-1.215z\" fill=\"#2874F0\" fill-rule=\"evenodd\" opacity=\".9\" stroke=\"#FFF\"></path></svg></div></div></div><div class=\"_3pLy-c row\"><div class=\"col col-7-12\"><div class=\"_4rR01T\">POCO C55 (Power Black, 64 GB)</div><div class=\"gUuXy-\"><span class=\"_1lRcqv\" id=\"productRating_LSTMOBGMXSW9PHJVQCALTZQ3D_MOBGMXSW9PHJVQCA_\"><div class=\"_3LWZlK\">4.2<img class=\"_1wB99o\" src=\"data:image/svg+xml;base64,PHN2ZyB4bWxucz0iaHR0cDovL3d3dy53My5vcmcvMjAwMC9zdmciIHdpZHRoPSIxMyIgaGVpZ2h0PSIxMiI+PHBhdGggZmlsbD0iI0ZGRiIgZD0iTTYuNSA5LjQzOWwtMy42NzQgMi4yMy45NC00LjI2LTMuMjEtMi44ODMgNC4yNTQtLjQwNEw2LjUuMTEybDEuNjkgNC4wMSA0LjI1NC40MDQtMy4yMSAyLjg4Mi45NCA0LjI2eiIvPjwvc3ZnPg==\"/></div></span><span class=\"_2_R_DZ\"><span><span>22,621 Ratings </span><span class=\"_13vcmD\">&amp;</span><span> 1,255 Reviews</span></span></span></div><div class=\"fMghEO\"><ul class=\"_1xgFaf\"><li class=\"rgWa7D\">4 GB RAM | 64 GB ROM | Expandable Upto 1 TB</li><li class=\"rgWa7D\">17.04 cm (6.71 inch) HD+ Display</li><li class=\"rgWa7D\">50MP Dual Rear Camera | 5MP Front Camera</li><li class=\"rgWa7D\">5000 mAh Battery</li><li class=\"rgWa7D\">Mediatek Helio G85 Processor</li><li class=\"rgWa7D\">1 Year Manufacturer Warranty for Phone and 6 Months Warranty for In the Box Accessories</li></ul></div></div><div class=\"col col-5-12 nlI3QM\"><div class=\"_3tbKJL\"><div class=\"_25b18c\"><div class=\"_30jeq3 _1_WHN1\">₹7,749</div><div class=\"_3I9_wc _27UcVY\">₹<!-- -->11,999</div><div class=\"_3Ay6Sb\"><span>35% off</span></div></div><div class=\"_3tcB5a p8ucoS\"><div><div class=\"_2Tpdn3\" style=\"color:#000000;font-size:12px;font-weight:400\">Free delivery by</div><div class=\"_2Tpdn3\" style=\"color:#000000;font-size:12px;font-style:normal;font-weight:700\"> Today</div></div></div></div><div class=\"_13J9qT\"><img height=\"21\" src=\"//static-assets-web.flixcart.com/fk-p-linchpin-web/fk-cp-zion/img/fa_62673a.png\"/></div><div class=\"_2ZdXDB\"><div class=\"_3xFhiH\"><div class=\"_2Tpdn3 _18hQoS\" style=\"color:#000000;font-size:14px;font-style:normal;font-weight:400\">Upto </div><div class=\"_2Tpdn3 _18hQoS\" style=\"color:#000000;font-size:14px;font-style:normal;font-weight:700\">₹7,200</div><div class=\"_2Tpdn3 _18hQoS\" style=\"color:#000000;font-size:14px;font-style:normal;font-weight:400\"> Off on Exchange</div></div></div><div class=\"_2ZdXDB\"><div class=\"_3xFhiH\"><div class=\"_2Tpdn3 _18hQoS\" style=\"color:#000000;font-size:12px;font-weight:400\">No Cost EMI from ₹1,292/month</div></div></div></div></div></a></div></div></div></div><div class=\"_1AtVbE col-12-12\"><div class=\"_13oc-S\"><div data-id=\"MOBGMXSW55C7ZJE7\" style=\"width:100%\"><div class=\"_2kHMtA\"><a class=\"_1fQZEK\" href=\"/poco-c55-cool-blue-64-gb/p/itm166c52f5d5dc0?pid=MOBGMXSW55C7ZJE7&amp;lid=LSTMOBGMXSW55C7ZJE7OFBLA7&amp;marketplace=FLIPKART&amp;store=tyy%2F4io&amp;spotlightTagId=BestsellerId_tyy%2F4io&amp;srno=b_1_7&amp;otracker=clp_metro_expandable_3_7.metroExpandable.METRO_EXPANDABLE_Shop%2BNow_mobile-phones-store_O1WYX08RHODP_wp4&amp;fm=organic&amp;iid=d705bd05-ac38-4cf3-87e4-104d57017383.MOBGMXSW55C7ZJE7.SEARCH&amp;ppt=None&amp;ppn=None&amp;ssid=3tk3mmftvk0000001686973846402\" rel=\"noopener noreferrer\" target=\"_blank\"><div></div><div class=\"MIXNux\"><div class=\"_2QcLo-\"><div><div class=\"CXW8mj\" style=\"height:200px;width:200px\"><img alt=\"POCO C55 (Cool Blue, 64 GB)\" class=\"_396cs4\" loading=\"eager\" src=\"https://rukminim1.flixcart.com/image/312/312/xif0q/mobile/y/9/g/-original-imagnfzyhh8gz8sd.jpeg?q=70\"/></div></div></div><div class=\"_3wLduG\"><div class=\"_3PzNI-\"><span class=\"f3A4_V\"><label class=\"_2iDkf8\"><input class=\"_30VH1S\" readonly=\"\" type=\"checkbox\"/><div class=\"_24_Dny\"></div></label></span><label class=\"_6Up2sF\"><span>Add to Compare</span></label></div></div><div class=\"_2hVSre _3nq8ih\"><div class=\"_36FSn5\"><svg class=\"_1l0elc\" height=\"16\" viewbox=\"0 0 20 16\" width=\"16\" xmlns=\"http://www.w3.org/2000/svg\"><path class=\"eX72wL\" d=\"M8.695 16.682C4.06 12.382 1 9.536 1 6.065 1 3.219 3.178 1 5.95 1c1.566 0 3.069.746 4.05 1.915C10.981 1.745 12.484 1 14.05 1 16.822 1 19 3.22 19 6.065c0 3.471-3.06 6.316-7.695 10.617L10 17.897l-1.305-1.215z\" fill=\"#2874F0\" fill-rule=\"evenodd\" opacity=\".9\" stroke=\"#FFF\"></path></svg></div></div></div><div class=\"_3pLy-c row\"><div class=\"col col-7-12\"><div class=\"_4rR01T\">POCO C55 (Cool Blue, 64 GB)</div><div class=\"gUuXy-\"><span class=\"_1lRcqv\" id=\"productRating_LSTMOBGMXSW55C7ZJE7OFBLA7_MOBGMXSW55C7ZJE7_\"><div class=\"_3LWZlK\">4.2<img class=\"_1wB99o\" src=\"data:image/svg+xml;base64,PHN2ZyB4bWxucz0iaHR0cDovL3d3dy53My5vcmcvMjAwMC9zdmciIHdpZHRoPSIxMyIgaGVpZ2h0PSIxMiI+PHBhdGggZmlsbD0iI0ZGRiIgZD0iTTYuNSA5LjQzOWwtMy42NzQgMi4yMy45NC00LjI2LTMuMjEtMi44ODMgNC4yNTQtLjQwNEw2LjUuMTEybDEuNjkgNC4wMSA0LjI1NC40MDQtMy4yMSAyLjg4Mi45NCA0LjI2eiIvPjwvc3ZnPg==\"/></div></span><span class=\"_2_R_DZ\"><span><span>22,621 Ratings </span><span class=\"_13vcmD\">&amp;</span><span> 1,255 Reviews</span></span></span></div><div class=\"fMghEO\"><ul class=\"_1xgFaf\"><li class=\"rgWa7D\">4 GB RAM | 64 GB ROM | Expandable Upto 1 TB</li><li class=\"rgWa7D\">17.04 cm (6.71 inch) HD+ Display</li><li class=\"rgWa7D\">50MP Dual Rear Camera | 5MP Front Camera</li><li class=\"rgWa7D\">5000 mAh Battery</li><li class=\"rgWa7D\">Mediatek Helio G85 Processor</li><li class=\"rgWa7D\">1 Year Manufacturer Warranty for Phone and 6 Months Warranty for In the Box Accessories</li></ul></div></div><div class=\"col col-5-12 nlI3QM\"><div class=\"_3tbKJL\"><div class=\"_25b18c\"><div class=\"_30jeq3 _1_WHN1\">₹7,749</div><div class=\"_3I9_wc _27UcVY\">₹<!-- -->11,999</div><div class=\"_3Ay6Sb\"><span>35% off</span></div></div><div class=\"_3tcB5a p8ucoS\"><div><div class=\"_2Tpdn3\" style=\"color:#000000;font-size:12px;font-weight:400\">Free delivery by</div><div class=\"_2Tpdn3\" style=\"color:#000000;font-size:12px;font-style:normal;font-weight:700\"> Today</div></div></div></div><div class=\"_13J9qT\"><img height=\"21\" src=\"//static-assets-web.flixcart.com/fk-p-linchpin-web/fk-cp-zion/img/fa_62673a.png\"/></div><div class=\"_2ZdXDB\"><div class=\"_3xFhiH\"><div class=\"_2Tpdn3 _18hQoS\" style=\"color:#000000;font-size:14px;font-style:normal;font-weight:400\">Upto </div><div class=\"_2Tpdn3 _18hQoS\" style=\"color:#000000;font-size:14px;font-style:normal;font-weight:700\">₹7,200</div><div class=\"_2Tpdn3 _18hQoS\" style=\"color:#000000;font-size:14px;font-style:normal;font-weight:400\"> Off on Exchange</div></div></div><div class=\"_2ZdXDB\"><div class=\"_3xFhiH\"><div class=\"_2Tpdn3 _18hQoS\" style=\"color:#000000;font-size:12px;font-weight:400\">No Cost EMI from ₹1,292/month</div></div></div></div></div></a></div></div></div></div><div class=\"_1AtVbE col-12-12\"><div class=\"_13oc-S\"><div data-id=\"MOBGMXSWFYZYWKTD\" style=\"width:100%\"><div class=\"_2kHMtA\"><a class=\"_1fQZEK\" href=\"/poco-c55-forest-green-64-gb/p/itm8b99ef9bd674c?pid=MOBGMXSWFYZYWKTD&amp;lid=LSTMOBGMXSWFYZYWKTDWKED3U&amp;marketplace=FLIPKART&amp;store=tyy%2F4io&amp;srno=b_1_8&amp;otracker=clp_metro_expandable_3_7.metroExpandable.METRO_EXPANDABLE_Shop%2BNow_mobile-phones-store_O1WYX08RHODP_wp4&amp;fm=organic&amp;iid=d705bd05-ac38-4cf3-87e4-104d57017383.MOBGMXSWFYZYWKTD.SEARCH&amp;ppt=None&amp;ppn=None&amp;ssid=3tk3mmftvk0000001686973846402\" rel=\"noopener noreferrer\" target=\"_blank\"><div class=\"MIXNux\"><div class=\"_2QcLo-\"><div><div class=\"CXW8mj\" style=\"height:200px;width:200px\"><img alt=\"POCO C55 (Forest Green, 64 GB)\" class=\"_396cs4\" loading=\"eager\" src=\"https://rukminim1.flixcart.com/image/312/312/xif0q/mobile/a/6/f/-original-imagnb6nvnqz7hqq.jpeg?q=70\"/></div></div></div><div class=\"_3wLduG\"><div class=\"_3PzNI-\"><span class=\"f3A4_V\"><label class=\"_2iDkf8\"><input class=\"_30VH1S\" readonly=\"\" type=\"checkbox\"/><div class=\"_24_Dny\"></div></label></span><label class=\"_6Up2sF\"><span>Add to Compare</span></label></div></div><div class=\"_2hVSre _3nq8ih\"><div class=\"_36FSn5\"><svg class=\"_1l0elc\" height=\"16\" viewbox=\"0 0 20 16\" width=\"16\" xmlns=\"http://www.w3.org/2000/svg\"><path class=\"eX72wL\" d=\"M8.695 16.682C4.06 12.382 1 9.536 1 6.065 1 3.219 3.178 1 5.95 1c1.566 0 3.069.746 4.05 1.915C10.981 1.745 12.484 1 14.05 1 16.822 1 19 3.22 19 6.065c0 3.471-3.06 6.316-7.695 10.617L10 17.897l-1.305-1.215z\" fill=\"#2874F0\" fill-rule=\"evenodd\" opacity=\".9\" stroke=\"#FFF\"></path></svg></div></div></div><div class=\"_3pLy-c row\"><div class=\"col col-7-12\"><div class=\"_4rR01T\">POCO C55 (Forest Green, 64 GB)</div><div class=\"gUuXy-\"><span class=\"_1lRcqv\" id=\"productRating_LSTMOBGMXSWFYZYWKTDWKED3U_MOBGMXSWFYZYWKTD_\"><div class=\"_3LWZlK\">4.2<img class=\"_1wB99o\" src=\"data:image/svg+xml;base64,PHN2ZyB4bWxucz0iaHR0cDovL3d3dy53My5vcmcvMjAwMC9zdmciIHdpZHRoPSIxMyIgaGVpZ2h0PSIxMiI+PHBhdGggZmlsbD0iI0ZGRiIgZD0iTTYuNSA5LjQzOWwtMy42NzQgMi4yMy45NC00LjI2LTMuMjEtMi44ODMgNC4yNTQtLjQwNEw2LjUuMTEybDEuNjkgNC4wMSA0LjI1NC40MDQtMy4yMSAyLjg4Mi45NCA0LjI2eiIvPjwvc3ZnPg==\"/></div></span><span class=\"_2_R_DZ\"><span><span>22,621 Ratings </span><span class=\"_13vcmD\">&amp;</span><span> 1,255 Reviews</span></span></span></div><div class=\"fMghEO\"><ul class=\"_1xgFaf\"><li class=\"rgWa7D\">4 GB RAM | 64 GB ROM | Expandable Upto 1 TB</li><li class=\"rgWa7D\">17.04 cm (6.71 inch) HD+ Display</li><li class=\"rgWa7D\">50MP Dual Rear Camera | 5MP Front Camera</li><li class=\"rgWa7D\">5000 mAh Battery</li><li class=\"rgWa7D\">Mediatek Helio G85 Processor</li><li class=\"rgWa7D\">1 Year Manufacturer Warranty for Phone and 6 Months Warranty for In the Box Accessories</li></ul></div></div><div class=\"col col-5-12 nlI3QM\"><div class=\"_3tbKJL\"><div class=\"_25b18c\"><div class=\"_30jeq3 _1_WHN1\">₹7,749</div><div class=\"_3I9_wc _27UcVY\">₹<!-- -->11,999</div><div class=\"_3Ay6Sb\"><span>35% off</span></div></div><div class=\"_3tcB5a p8ucoS\"><div><div class=\"_2Tpdn3\" style=\"color:#000000;font-size:12px;font-weight:400\">Free delivery by</div><div class=\"_2Tpdn3\" style=\"color:#000000;font-size:12px;font-style:normal;font-weight:700\"> Today</div></div></div></div><div class=\"_13J9qT\"><img height=\"21\" src=\"//static-assets-web.flixcart.com/fk-p-linchpin-web/fk-cp-zion/img/fa_62673a.png\"/></div><div class=\"_2ZdXDB\"><div class=\"_3xFhiH\"><div class=\"_2Tpdn3 _18hQoS\" style=\"color:#000000;font-size:14px;font-style:normal;font-weight:400\">Upto </div><div class=\"_2Tpdn3 _18hQoS\" style=\"color:#000000;font-size:14px;font-style:normal;font-weight:700\">₹7,200</div><div class=\"_2Tpdn3 _18hQoS\" style=\"color:#000000;font-size:14px;font-style:normal;font-weight:400\"> Off on Exchange</div></div></div><div class=\"_2ZdXDB\"><div class=\"_3xFhiH\"><div class=\"_2Tpdn3 _18hQoS\" style=\"color:#000000;font-size:12px;font-weight:400\">No Cost EMI from ₹1,292/month</div></div></div></div></div></a></div></div></div></div><div class=\"_1AtVbE col-12-12\"><div class=\"_13oc-S\"><div data-id=\"MOBGDRGPKQYB4RNZ\" style=\"width:100%\"><div class=\"_2kHMtA\"><a class=\"_1fQZEK\" href=\"/poco-m4-5g-yellow-128-gb/p/itm391fa74136549?pid=MOBGDRGPKQYB4RNZ&amp;lid=LSTMOBGDRGPKQYB4RNZWXTHJ5&amp;marketplace=FLIPKART&amp;store=tyy%2F4io&amp;srno=b_1_9&amp;otracker=clp_metro_expandable_3_7.metroExpandable.METRO_EXPANDABLE_Shop%2BNow_mobile-phones-store_O1WYX08RHODP_wp4&amp;fm=organic&amp;iid=d705bd05-ac38-4cf3-87e4-104d57017383.MOBGDRGPKQYB4RNZ.SEARCH&amp;ppt=None&amp;ppn=None&amp;ssid=3tk3mmftvk0000001686973846402\" rel=\"noopener noreferrer\" target=\"_blank\"><div class=\"MIXNux\"><div class=\"_2QcLo-\"><div><div class=\"CXW8mj\" style=\"height:200px;width:200px\"><img alt=\"POCO M4 5G (Yellow, 128 GB)\" class=\"_396cs4\" loading=\"eager\" src=\"https://rukminim1.flixcart.com/image/312/312/l2jcccw0/mobile/g/l/5/-original-imagdu8j9k3ejjc3.jpeg?q=70\"/></div></div></div><div class=\"_3wLduG\"><div class=\"_3PzNI-\"><span class=\"f3A4_V\"><label class=\"_2iDkf8\"><input class=\"_30VH1S\" readonly=\"\" type=\"checkbox\"/><div class=\"_24_Dny\"></div></label></span><label class=\"_6Up2sF\"><span>Add to Compare</span></label></div></div><div class=\"_2hVSre _3nq8ih\"><div class=\"_36FSn5\"><svg class=\"_1l0elc\" height=\"16\" viewbox=\"0 0 20 16\" width=\"16\" xmlns=\"http://www.w3.org/2000/svg\"><path class=\"eX72wL\" d=\"M8.695 16.682C4.06 12.382 1 9.536 1 6.065 1 3.219 3.178 1 5.95 1c1.566 0 3.069.746 4.05 1.915C10.981 1.745 12.484 1 14.05 1 16.822 1 19 3.22 19 6.065c0 3.471-3.06 6.316-7.695 10.617L10 17.897l-1.305-1.215z\" fill=\"#2874F0\" fill-rule=\"evenodd\" opacity=\".9\" stroke=\"#FFF\"></path></svg></div></div></div><div class=\"_3pLy-c row\"><div class=\"col col-7-12\"><div class=\"_4rR01T\">POCO M4 5G (Yellow, 128 GB)</div><div class=\"gUuXy-\"><span class=\"_1lRcqv\" id=\"productRating_LSTMOBGDRGPKQYB4RNZWXTHJ5_MOBGDRGPKQYB4RNZ_\"><div class=\"_3LWZlK\">4.2<img class=\"_1wB99o\" src=\"data:image/svg+xml;base64,PHN2ZyB4bWxucz0iaHR0cDovL3d3dy53My5vcmcvMjAwMC9zdmciIHdpZHRoPSIxMyIgaGVpZ2h0PSIxMiI+PHBhdGggZmlsbD0iI0ZGRiIgZD0iTTYuNSA5LjQzOWwtMy42NzQgMi4yMy45NC00LjI2LTMuMjEtMi44ODMgNC4yNTQtLjQwNEw2LjUuMTEybDEuNjkgNC4wMSA0LjI1NC40MDQtMy4yMSAyLjg4Mi45NCA0LjI2eiIvPjwvc3ZnPg==\"/></div></span><span class=\"_2_R_DZ\"><span><span>40,525 Ratings </span><span class=\"_13vcmD\">&amp;</span><span> 2,934 Reviews</span></span></span></div><div class=\"fMghEO\"><ul class=\"_1xgFaf\"><li class=\"rgWa7D\">6 GB RAM | 128 GB ROM | Expandable Upto 512 GB</li><li class=\"rgWa7D\">16.71 cm (6.58 inch) Full HD+ Display</li><li class=\"rgWa7D\">50MP + 2MP | 8MP Front Camera</li><li class=\"rgWa7D\">5000 mAh Lithium Ion Polymer Battery</li><li class=\"rgWa7D\">Mediatek Dimensity 700 Processor</li><li class=\"rgWa7D\">1 Year Warranty for Handset and 6 Months for Accessories</li></ul></div></div><div class=\"col col-5-12 nlI3QM\"><div class=\"_3tbKJL\"><div class=\"_25b18c\"><div class=\"_30jeq3 _1_WHN1\">₹13,999</div><div class=\"_3I9_wc _27UcVY\">₹<!-- -->18,999</div><div class=\"_3Ay6Sb\"><span>26% off</span></div></div><div class=\"_3tcB5a p8ucoS\"><div><div class=\"_2Tpdn3\" style=\"color:#000000;font-size:12px;font-weight:400\">Free delivery by</div><div class=\"_2Tpdn3\" style=\"color:#000000;font-size:12px;font-style:normal;font-weight:700\"> Today</div></div></div></div><div class=\"_13J9qT\"><img height=\"21\" src=\"//static-assets-web.flixcart.com/fk-p-linchpin-web/fk-cp-zion/img/fa_62673a.png\"/></div><div class=\"_2ZdXDB\"><div class=\"_3xFhiH\"><div class=\"_2Tpdn3 _18hQoS\" style=\"color:#000000;font-size:14px;font-style:normal;font-weight:400\">Upto </div><div class=\"_2Tpdn3 _18hQoS\" style=\"color:#000000;font-size:14px;font-style:normal;font-weight:700\">₹13,300</div><div class=\"_2Tpdn3 _18hQoS\" style=\"color:#000000;font-size:14px;font-style:normal;font-weight:400\"> Off on Exchange</div></div></div><div class=\"_2ZdXDB\"><div class=\"_3xFhiH\"><div class=\"_2Tpdn3 _18hQoS\" style=\"color:#000000;font-size:12px;font-weight:400\">No Cost EMI from ₹2,334/month</div></div></div></div></div></a></div></div></div></div><div class=\"_1AtVbE col-12-12\"><div class=\"_13oc-S\"><div data-id=\"MOBGMXSWJHRVUWFE\" style=\"width:100%\"><div class=\"_2kHMtA\"><a class=\"_1fQZEK\" href=\"/poco-c55-cool-blue-128-gb/p/itm26aca9fd143ba?pid=MOBGMXSWJHRVUWFE&amp;lid=LSTMOBGMXSWJHRVUWFESKZGEW&amp;marketplace=FLIPKART&amp;store=tyy%2F4io&amp;srno=b_1_10&amp;otracker=clp_metro_expandable_3_7.metroExpandable.METRO_EXPANDABLE_Shop%2BNow_mobile-phones-store_O1WYX08RHODP_wp4&amp;fm=organic&amp;iid=d705bd05-ac38-4cf3-87e4-104d57017383.MOBGMXSWJHRVUWFE.SEARCH&amp;ppt=None&amp;ppn=None&amp;ssid=3tk3mmftvk0000001686973846402\" rel=\"noopener noreferrer\" target=\"_blank\"><div class=\"MIXNux\"><div class=\"_2QcLo-\"><div><div class=\"CXW8mj\" style=\"height:200px;width:200px\"><img alt=\"POCO C55 (Cool Blue, 128 GB)\" class=\"_396cs4\" loading=\"eager\" src=\"https://rukminim1.flixcart.com/image/312/312/xif0q/mobile/y/9/g/-original-imagnfzyhh8gz8sd.jpeg?q=70\"/></div></div></div><div class=\"_3wLduG\"><div class=\"_3PzNI-\"><span class=\"f3A4_V\"><label class=\"_2iDkf8\"><input class=\"_30VH1S\" readonly=\"\" type=\"checkbox\"/><div class=\"_24_Dny\"></div></label></span><label class=\"_6Up2sF\"><span>Add to Compare</span></label></div></div><div class=\"_2hVSre _3nq8ih\"><div class=\"_36FSn5\"><svg class=\"_1l0elc\" height=\"16\" viewbox=\"0 0 20 16\" width=\"16\" xmlns=\"http://www.w3.org/2000/svg\"><path class=\"eX72wL\" d=\"M8.695 16.682C4.06 12.382 1 9.536 1 6.065 1 3.219 3.178 1 5.95 1c1.566 0 3.069.746 4.05 1.915C10.981 1.745 12.484 1 14.05 1 16.822 1 19 3.22 19 6.065c0 3.471-3.06 6.316-7.695 10.617L10 17.897l-1.305-1.215z\" fill=\"#2874F0\" fill-rule=\"evenodd\" opacity=\".9\" stroke=\"#FFF\"></path></svg></div></div></div><div class=\"_3pLy-c row\"><div class=\"col col-7-12\"><div class=\"_4rR01T\">POCO C55 (Cool Blue, 128 GB)</div><div class=\"gUuXy-\"><span class=\"_1lRcqv\" id=\"productRating_LSTMOBGMXSWJHRVUWFESKZGEW_MOBGMXSWJHRVUWFE_\"><div class=\"_3LWZlK\">4.1<img class=\"_1wB99o\" src=\"data:image/svg+xml;base64,PHN2ZyB4bWxucz0iaHR0cDovL3d3dy53My5vcmcvMjAwMC9zdmciIHdpZHRoPSIxMyIgaGVpZ2h0PSIxMiI+PHBhdGggZmlsbD0iI0ZGRiIgZD0iTTYuNSA5LjQzOWwtMy42NzQgMi4yMy45NC00LjI2LTMuMjEtMi44ODMgNC4yNTQtLjQwNEw2LjUuMTEybDEuNjkgNC4wMSA0LjI1NC40MDQtMy4yMSAyLjg4Mi45NCA0LjI2eiIvPjwvc3ZnPg==\"/></div></span><span class=\"_2_R_DZ\"><span><span>13,647 Ratings </span><span class=\"_13vcmD\">&amp;</span><span> 763 Reviews</span></span></span></div><div class=\"fMghEO\"><ul class=\"_1xgFaf\"><li class=\"rgWa7D\">6 GB RAM | 128 GB ROM | Expandable Upto 1 TB</li><li class=\"rgWa7D\">17.04 cm (6.71 inch) HD+ Display</li><li class=\"rgWa7D\">50MP Dual Rear Camera | 5MP Front Camera</li><li class=\"rgWa7D\">5000 mAh Battery</li><li class=\"rgWa7D\">Mediatek Helio G85 Processor</li><li class=\"rgWa7D\">1 Year Manufacturer Warranty for Phone and 6 Months Warranty for In the Box Accessories</li></ul></div></div><div class=\"col col-5-12 nlI3QM\"><div class=\"_3tbKJL\"><div class=\"_25b18c\"><div class=\"_30jeq3 _1_WHN1\">₹9,249</div><div class=\"_3I9_wc _27UcVY\">₹<!-- -->13,999</div><div class=\"_3Ay6Sb\"><span>33% off</span></div></div><div class=\"_3tcB5a p8ucoS\"><div><div class=\"_2Tpdn3\" style=\"color:#000000;font-size:12px;font-weight:400\">Free delivery by</div><div class=\"_2Tpdn3\" style=\"color:#000000;font-size:12px;font-style:normal;font-weight:700\"> Today</div></div></div></div><div class=\"_13J9qT\"><img height=\"21\" src=\"//static-assets-web.flixcart.com/fk-p-linchpin-web/fk-cp-zion/img/fa_62673a.png\"/></div><div class=\"_2ZdXDB\"><div class=\"_3xFhiH\"><div class=\"_2Tpdn3 _18hQoS\" style=\"color:#000000;font-size:14px;font-style:normal;font-weight:400\">Upto </div><div class=\"_2Tpdn3 _18hQoS\" style=\"color:#000000;font-size:14px;font-style:normal;font-weight:700\">₹8,700</div><div class=\"_2Tpdn3 _18hQoS\" style=\"color:#000000;font-size:14px;font-style:normal;font-weight:400\"> Off on Exchange</div></div></div><div class=\"_2ZdXDB\"><div class=\"_3xFhiH\"><div class=\"_2Tpdn3 _18hQoS\" style=\"color:#000000;font-size:12px;font-weight:400\">No Cost EMI from ₹1,542/month</div></div></div></div></div></a></div></div></div></div><div class=\"_1AtVbE col-12-12\"><div class=\"_13oc-S\"><div data-id=\"MOBGK8WZYEJ3G5AA\" style=\"width:100%\"><div class=\"_2kHMtA\"><a class=\"_1fQZEK\" href=\"/poco-c50-country-green-32-gb/p/itm0b3d5144d9c22?pid=MOBGK8WZYEJ3G5AA&amp;lid=LSTMOBGK8WZYEJ3G5AAMF47BF&amp;marketplace=FLIPKART&amp;store=tyy%2F4io&amp;srno=b_1_11&amp;otracker=clp_metro_expandable_3_7.metroExpandable.METRO_EXPANDABLE_Shop%2BNow_mobile-phones-store_O1WYX08RHODP_wp4&amp;fm=organic&amp;iid=d705bd05-ac38-4cf3-87e4-104d57017383.MOBGK8WZYEJ3G5AA.SEARCH&amp;ppt=None&amp;ppn=None&amp;ssid=3tk3mmftvk0000001686973846402\" rel=\"noopener noreferrer\" target=\"_blank\"><div class=\"MIXNux\"><div class=\"_2QcLo-\"><div><div class=\"CXW8mj\" style=\"height:200px;width:200px\"><img alt=\"POCO C50 (Country Green, 32 GB)\" class=\"_396cs4\" loading=\"eager\" src=\"https://rukminim1.flixcart.com/image/312/312/xif0q/mobile/3/l/x/-original-imaghmtcmxwgypsk.jpeg?q=70\"/></div></div></div><div class=\"_3wLduG\"><div class=\"_3PzNI-\"><span class=\"f3A4_V\"><label class=\"_2iDkf8\"><input class=\"_30VH1S\" readonly=\"\" type=\"checkbox\"/><div class=\"_24_Dny\"></div></label></span><label class=\"_6Up2sF\"><span>Add to Compare</span></label></div></div><div class=\"_2hVSre _3nq8ih\"><div class=\"_36FSn5\"><svg class=\"_1l0elc\" height=\"16\" viewbox=\"0 0 20 16\" width=\"16\" xmlns=\"http://www.w3.org/2000/svg\"><path class=\"eX72wL\" d=\"M8.695 16.682C4.06 12.382 1 9.536 1 6.065 1 3.219 3.178 1 5.95 1c1.566 0 3.069.746 4.05 1.915C10.981 1.745 12.484 1 14.05 1 16.822 1 19 3.22 19 6.065c0 3.471-3.06 6.316-7.695 10.617L10 17.897l-1.305-1.215z\" fill=\"#2874F0\" fill-rule=\"evenodd\" opacity=\".9\" stroke=\"#FFF\"></path></svg></div></div></div><div class=\"_3pLy-c row\"><div class=\"col col-7-12\"><div class=\"_4rR01T\">POCO C50 (Country Green, 32 GB)</div><div class=\"gUuXy-\"><span class=\"_1lRcqv\" id=\"productRating_LSTMOBGK8WZYEJ3G5AAMF47BF_MOBGK8WZYEJ3G5AA_\"><div class=\"_3LWZlK\">4.2<img class=\"_1wB99o\" src=\"data:image/svg+xml;base64,PHN2ZyB4bWxucz0iaHR0cDovL3d3dy53My5vcmcvMjAwMC9zdmciIHdpZHRoPSIxMyIgaGVpZ2h0PSIxMiI+PHBhdGggZmlsbD0iI0ZGRiIgZD0iTTYuNSA5LjQzOWwtMy42NzQgMi4yMy45NC00LjI2LTMuMjEtMi44ODMgNC4yNTQtLjQwNEw2LjUuMTEybDEuNjkgNC4wMSA0LjI1NC40MDQtMy4yMSAyLjg4Mi45NCA0LjI2eiIvPjwvc3ZnPg==\"/></div></span><span class=\"_2_R_DZ\"><span><span>33,561 Ratings </span><span class=\"_13vcmD\">&amp;</span><span> 1,506 Reviews</span></span></span></div><div class=\"fMghEO\"><ul class=\"_1xgFaf\"><li class=\"rgWa7D\">2 GB RAM | 32 GB ROM | Expandable Upto 512 GB</li><li class=\"rgWa7D\">16.56 cm (6.52 inch) HD+ Display</li><li class=\"rgWa7D\">8MP Dual Camera | 5MP Front Camera</li><li class=\"rgWa7D\">5000 mAh Lithium Polymer Battery</li><li class=\"rgWa7D\">Mediatek Helio A22 Processor, Upto 2.0 GHz Processor</li><li class=\"rgWa7D\">1 Year Manufacturer Warranty for Phone and 6 Months Warranty for In the Box Accessories</li></ul></div></div><div class=\"col col-5-12 nlI3QM\"><div class=\"_3tbKJL\"><div class=\"_25b18c\"><div class=\"_30jeq3 _1_WHN1\">₹5,649</div><div class=\"_3I9_wc _27UcVY\">₹<!-- -->8,999</div><div class=\"_3Ay6Sb\"><span>37% off</span></div></div><div class=\"_3tcB5a p8ucoS\"><div><div class=\"_2Tpdn3\" style=\"color:#000000;font-size:12px;font-weight:400\">Free delivery by</div><div class=\"_2Tpdn3\" style=\"color:#000000;font-size:12px;font-style:normal;font-weight:700\"> Today</div></div></div></div><div class=\"_13J9qT\"><img height=\"21\" src=\"//static-assets-web.flixcart.com/fk-p-linchpin-web/fk-cp-zion/img/fa_62673a.png\"/></div><div class=\"_2ZdXDB\"><div class=\"_3xFhiH\"><div class=\"_2Tpdn3 _18hQoS\" style=\"color:#000000;font-size:14px;font-style:normal;font-weight:400\">Upto </div><div class=\"_2Tpdn3 _18hQoS\" style=\"color:#000000;font-size:14px;font-style:normal;font-weight:700\">₹5,100</div><div class=\"_2Tpdn3 _18hQoS\" style=\"color:#000000;font-size:14px;font-style:normal;font-weight:400\"> Off on Exchange</div></div></div><div class=\"_2ZdXDB\"><div class=\"_3xFhiH\"><div class=\"_2Tpdn3 _18hQoS\" style=\"color:#26A541;font-size:14px;font-weight:700\">Bank Offer</div></div></div></div></div></a></div></div></div></div><div class=\"_1AtVbE col-12-12\"><div class=\"_13oc-S\"><div data-id=\"MOBGMXSWPMRNGVGW\" style=\"width:100%\"><div class=\"_2kHMtA\"><a class=\"_1fQZEK\" href=\"/poco-c55-power-black-128-gb/p/itm52dfc91751293?pid=MOBGMXSWPMRNGVGW&amp;lid=LSTMOBGMXSWPMRNGVGWUDX773&amp;marketplace=FLIPKART&amp;store=tyy%2F4io&amp;srno=b_1_12&amp;otracker=clp_metro_expandable_3_7.metroExpandable.METRO_EXPANDABLE_Shop%2BNow_mobile-phones-store_O1WYX08RHODP_wp4&amp;fm=organic&amp;iid=d705bd05-ac38-4cf3-87e4-104d57017383.MOBGMXSWPMRNGVGW.SEARCH&amp;ppt=None&amp;ppn=None&amp;ssid=3tk3mmftvk0000001686973846402\" rel=\"noopener noreferrer\" target=\"_blank\"><div class=\"MIXNux\"><div class=\"_2QcLo-\"><div><div class=\"CXW8mj\" style=\"height:200px;width:200px\"><img alt=\"POCO C55 (Power Black, 128 GB)\" class=\"_396cs4\" loading=\"eager\" src=\"https://rukminim1.flixcart.com/image/312/312/xif0q/mobile/b/y/g/-original-imagnfzybft7wzmp.jpeg?q=70\"/></div></div></div><div class=\"_3wLduG\"><div class=\"_3PzNI-\"><span class=\"f3A4_V\"><label class=\"_2iDkf8\"><input class=\"_30VH1S\" readonly=\"\" type=\"checkbox\"/><div class=\"_24_Dny\"></div></label></span><label class=\"_6Up2sF\"><span>Add to Compare</span></label></div></div><div class=\"_2hVSre _3nq8ih\"><div class=\"_36FSn5\"><svg class=\"_1l0elc\" height=\"16\" viewbox=\"0 0 20 16\" width=\"16\" xmlns=\"http://www.w3.org/2000/svg\"><path class=\"eX72wL\" d=\"M8.695 16.682C4.06 12.382 1 9.536 1 6.065 1 3.219 3.178 1 5.95 1c1.566 0 3.069.746 4.05 1.915C10.981 1.745 12.484 1 14.05 1 16.822 1 19 3.22 19 6.065c0 3.471-3.06 6.316-7.695 10.617L10 17.897l-1.305-1.215z\" fill=\"#2874F0\" fill-rule=\"evenodd\" opacity=\".9\" stroke=\"#FFF\"></path></svg></div></div></div><div class=\"_3pLy-c row\"><div class=\"col col-7-12\"><div class=\"_4rR01T\">POCO C55 (Power Black, 128 GB)</div><div class=\"gUuXy-\"><span class=\"_1lRcqv\" id=\"productRating_LSTMOBGMXSWPMRNGVGWUDX773_MOBGMXSWPMRNGVGW_\"><div class=\"_3LWZlK\">4.1<img class=\"_1wB99o\" src=\"data:image/svg+xml;base64,PHN2ZyB4bWxucz0iaHR0cDovL3d3dy53My5vcmcvMjAwMC9zdmciIHdpZHRoPSIxMyIgaGVpZ2h0PSIxMiI+PHBhdGggZmlsbD0iI0ZGRiIgZD0iTTYuNSA5LjQzOWwtMy42NzQgMi4yMy45NC00LjI2LTMuMjEtMi44ODMgNC4yNTQtLjQwNEw2LjUuMTEybDEuNjkgNC4wMSA0LjI1NC40MDQtMy4yMSAyLjg4Mi45NCA0LjI2eiIvPjwvc3ZnPg==\"/></div></span><span class=\"_2_R_DZ\"><span><span>13,647 Ratings </span><span class=\"_13vcmD\">&amp;</span><span> 763 Reviews</span></span></span></div><div class=\"fMghEO\"><ul class=\"_1xgFaf\"><li class=\"rgWa7D\">6 GB RAM | 128 GB ROM | Expandable Upto 1 TB</li><li class=\"rgWa7D\">17.04 cm (6.71 inch) HD+ Display</li><li class=\"rgWa7D\">50MP Dual Rear Camera | 5MP Front Camera</li><li class=\"rgWa7D\">5000 mAh Battery</li><li class=\"rgWa7D\">Mediatek Helio G85 Processor</li><li class=\"rgWa7D\">1 Year Manufacturer Warranty for Phone and 6 Months Warranty for In the Box Accessories</li></ul></div></div><div class=\"col col-5-12 nlI3QM\"><div class=\"_3tbKJL\"><div class=\"_25b18c\"><div class=\"_30jeq3 _1_WHN1\">₹9,249</div><div class=\"_3I9_wc _27UcVY\">₹<!-- -->13,999</div><div class=\"_3Ay6Sb\"><span>33% off</span></div></div><div class=\"_3tcB5a p8ucoS\"><div><div class=\"_2Tpdn3\" style=\"color:#000000;font-size:12px;font-weight:400\">Free delivery by</div><div class=\"_2Tpdn3\" style=\"color:#000000;font-size:12px;font-style:normal;font-weight:700\"> Today</div></div></div></div><div class=\"_13J9qT\"><img height=\"21\" src=\"//static-assets-web.flixcart.com/fk-p-linchpin-web/fk-cp-zion/img/fa_62673a.png\"/></div><div class=\"_2ZdXDB\"><div class=\"_3xFhiH\"><div class=\"_2Tpdn3 _18hQoS\" style=\"color:#000000;font-size:14px;font-style:normal;font-weight:400\">Upto </div><div class=\"_2Tpdn3 _18hQoS\" style=\"color:#000000;font-size:14px;font-style:normal;font-weight:700\">₹8,700</div><div class=\"_2Tpdn3 _18hQoS\" style=\"color:#000000;font-size:14px;font-style:normal;font-weight:400\"> Off on Exchange</div></div></div><div class=\"_2ZdXDB\"><div class=\"_3xFhiH\"><div class=\"_2Tpdn3 _18hQoS\" style=\"color:#26A541;font-size:14px;font-weight:700\">Bank Offer</div></div></div></div></div></a></div></div></div></div><div class=\"_1AtVbE col-12-12\"><div class=\"_13oc-S\"><div data-id=\"MOBGHMZEGDGXT2BT\" style=\"width:100%\"><div class=\"_2kHMtA\"><a class=\"_1fQZEK\" href=\"/poco-m5-power-black-64-gb/p/itm65951f4147fc4?pid=MOBGHMZEGDGXT2BT&amp;lid=LSTMOBGHMZEGDGXT2BT6YTPRE&amp;marketplace=FLIPKART&amp;store=tyy%2F4io&amp;srno=b_1_13&amp;otracker=clp_metro_expandable_3_7.metroExpandable.METRO_EXPANDABLE_Shop%2BNow_mobile-phones-store_O1WYX08RHODP_wp4&amp;fm=organic&amp;iid=d705bd05-ac38-4cf3-87e4-104d57017383.MOBGHMZEGDGXT2BT.SEARCH&amp;ppt=None&amp;ppn=None&amp;ssid=3tk3mmftvk0000001686973846402\" rel=\"noopener noreferrer\" target=\"_blank\"><div class=\"MIXNux\"><div class=\"_2QcLo-\"><div><div class=\"CXW8mj\" style=\"height:200px;width:200px\"><img alt=\"POCO M5 (Power Black, 64 GB)\" class=\"_396cs4\" loading=\"eager\" src=\"https://rukminim1.flixcart.com/image/312/312/xif0q/mobile/z/8/p/-original-imaghsptt8g6rjz9.jpeg?q=70\"/></div></div></div><div class=\"_3wLduG\"><div class=\"_3PzNI-\"><span class=\"f3A4_V\"><label class=\"_2iDkf8\"><input class=\"_30VH1S\" readonly=\"\" type=\"checkbox\"/><div class=\"_24_Dny\"></div></label></span><label class=\"_6Up2sF\"><span>Add to Compare</span></label></div></div><div class=\"_2hVSre _3nq8ih\"><div class=\"_36FSn5\"><svg class=\"_1l0elc\" height=\"16\" viewbox=\"0 0 20 16\" width=\"16\" xmlns=\"http://www.w3.org/2000/svg\"><path class=\"eX72wL\" d=\"M8.695 16.682C4.06 12.382 1 9.536 1 6.065 1 3.219 3.178 1 5.95 1c1.566 0 3.069.746 4.05 1.915C10.981 1.745 12.484 1 14.05 1 16.822 1 19 3.22 19 6.065c0 3.471-3.06 6.316-7.695 10.617L10 17.897l-1.305-1.215z\" fill=\"#2874F0\" fill-rule=\"evenodd\" opacity=\".9\" stroke=\"#FFF\"></path></svg></div></div></div><div class=\"_3pLy-c row\"><div class=\"col col-7-12\"><div class=\"_4rR01T\">POCO M5 (Power Black, 64 GB)</div><div class=\"gUuXy-\"><span class=\"_1lRcqv\" id=\"productRating_LSTMOBGHMZEGDGXT2BT6YTPRE_MOBGHMZEGDGXT2BT_\"><div class=\"_3LWZlK\">4.2<img class=\"_1wB99o\" src=\"data:image/svg+xml;base64,PHN2ZyB4bWxucz0iaHR0cDovL3d3dy53My5vcmcvMjAwMC9zdmciIHdpZHRoPSIxMyIgaGVpZ2h0PSIxMiI+PHBhdGggZmlsbD0iI0ZGRiIgZD0iTTYuNSA5LjQzOWwtMy42NzQgMi4yMy45NC00LjI2LTMuMjEtMi44ODMgNC4yNTQtLjQwNEw2LjUuMTEybDEuNjkgNC4wMSA0LjI1NC40MDQtMy4yMSAyLjg4Mi45NCA0LjI2eiIvPjwvc3ZnPg==\"/></div></span><span class=\"_2_R_DZ\"><span><span>7,572 Ratings </span><span class=\"_13vcmD\">&amp;</span><span> 595 Reviews</span></span></span></div><div class=\"fMghEO\"><ul class=\"_1xgFaf\"><li class=\"rgWa7D\">4 GB RAM | 64 GB ROM | Expandable Upto 512 GB</li><li class=\"rgWa7D\">16.71 cm (6.58 inch) Full HD+ Display</li><li class=\"rgWa7D\">50MP + 2MP Depth Sensor + 2MP Macro Sensor | 8MP Front Camera</li><li class=\"rgWa7D\">5000 mAh Lithium-ion Polymer Battery</li><li class=\"rgWa7D\">Mediatek Helio G99 Processor</li><li class=\"rgWa7D\">1 Year for Handset, 6 Months for Accessories</li></ul></div></div><div class=\"col col-5-12 nlI3QM\"><div class=\"_3tbKJL\"><div class=\"_25b18c\"><div class=\"_30jeq3 _1_WHN1\">₹8,999</div><div class=\"_3I9_wc _27UcVY\">₹<!-- -->15,999</div><div class=\"_3Ay6Sb\"><span>43% off</span></div></div></div><div class=\"_13J9qT\"><img height=\"21\" src=\"//static-assets-web.flixcart.com/fk-p-linchpin-web/fk-cp-zion/img/fa_62673a.png\"/></div></div></div></a></div></div></div></div><div class=\"_1AtVbE col-12-12\"><div class=\"_13oc-S\"><div data-id=\"MOBGMXSWCYATKHYR\" style=\"width:100%\"><div class=\"_2kHMtA\"><a class=\"_1fQZEK\" href=\"/poco-c55-forest-green-128-gb/p/itm7ed4c1ff2689f?pid=MOBGMXSWCYATKHYR&amp;lid=LSTMOBGMXSWCYATKHYRKSVQMR&amp;marketplace=FLIPKART&amp;store=tyy%2F4io&amp;srno=b_1_14&amp;otracker=clp_metro_expandable_3_7.metroExpandable.METRO_EXPANDABLE_Shop%2BNow_mobile-phones-store_O1WYX08RHODP_wp4&amp;fm=organic&amp;iid=d705bd05-ac38-4cf3-87e4-104d57017383.MOBGMXSWCYATKHYR.SEARCH&amp;ppt=None&amp;ppn=None&amp;ssid=3tk3mmftvk0000001686973846402\" rel=\"noopener noreferrer\" target=\"_blank\"><div class=\"MIXNux\"><div class=\"_2QcLo-\"><div><div class=\"CXW8mj\" style=\"height:200px;width:200px\"><img alt=\"POCO C55 (Forest Green, 128 GB)\" class=\"_396cs4\" loading=\"eager\" src=\"https://rukminim1.flixcart.com/image/312/312/xif0q/mobile/a/6/f/-original-imagnb6nvnqz7hqq.jpeg?q=70\"/></div></div></div><div class=\"_3wLduG\"><div class=\"_3PzNI-\"><span class=\"f3A4_V\"><label class=\"_2iDkf8\"><input class=\"_30VH1S\" readonly=\"\" type=\"checkbox\"/><div class=\"_24_Dny\"></div></label></span><label class=\"_6Up2sF\"><span>Add to Compare</span></label></div></div><div class=\"_2hVSre _3nq8ih\"><div class=\"_36FSn5\"><svg class=\"_1l0elc\" height=\"16\" viewbox=\"0 0 20 16\" width=\"16\" xmlns=\"http://www.w3.org/2000/svg\"><path class=\"eX72wL\" d=\"M8.695 16.682C4.06 12.382 1 9.536 1 6.065 1 3.219 3.178 1 5.95 1c1.566 0 3.069.746 4.05 1.915C10.981 1.745 12.484 1 14.05 1 16.822 1 19 3.22 19 6.065c0 3.471-3.06 6.316-7.695 10.617L10 17.897l-1.305-1.215z\" fill=\"#2874F0\" fill-rule=\"evenodd\" opacity=\".9\" stroke=\"#FFF\"></path></svg></div></div></div><div class=\"_3pLy-c row\"><div class=\"col col-7-12\"><div class=\"_4rR01T\">POCO C55 (Forest Green, 128 GB)</div><div class=\"gUuXy-\"><span class=\"_1lRcqv\" id=\"productRating_LSTMOBGMXSWCYATKHYRKSVQMR_MOBGMXSWCYATKHYR_\"><div class=\"_3LWZlK\">4.1<img class=\"_1wB99o\" src=\"data:image/svg+xml;base64,PHN2ZyB4bWxucz0iaHR0cDovL3d3dy53My5vcmcvMjAwMC9zdmciIHdpZHRoPSIxMyIgaGVpZ2h0PSIxMiI+PHBhdGggZmlsbD0iI0ZGRiIgZD0iTTYuNSA5LjQzOWwtMy42NzQgMi4yMy45NC00LjI2LTMuMjEtMi44ODMgNC4yNTQtLjQwNEw2LjUuMTEybDEuNjkgNC4wMSA0LjI1NC40MDQtMy4yMSAyLjg4Mi45NCA0LjI2eiIvPjwvc3ZnPg==\"/></div></span><span class=\"_2_R_DZ\"><span><span>13,647 Ratings </span><span class=\"_13vcmD\">&amp;</span><span> 763 Reviews</span></span></span></div><div class=\"fMghEO\"><ul class=\"_1xgFaf\"><li class=\"rgWa7D\">6 GB RAM | 128 GB ROM | Expandable Upto 1 TB</li><li class=\"rgWa7D\">17.04 cm (6.71 inch) HD+ Display</li><li class=\"rgWa7D\">50MP Dual Rear Camera | 5MP Front Camera</li><li class=\"rgWa7D\">5000 mAh Battery</li><li class=\"rgWa7D\">Mediatek Helio G85 Processor</li><li class=\"rgWa7D\">1 Year Manufacturer Warranty for Phone and 6 Months Warranty for In the Box Accessories</li></ul></div></div><div class=\"col col-5-12 nlI3QM\"><div class=\"_3tbKJL\"><div class=\"_25b18c\"><div class=\"_30jeq3 _1_WHN1\">₹9,249</div><div class=\"_3I9_wc _27UcVY\">₹<!-- -->13,999</div><div class=\"_3Ay6Sb\"><span>33% off</span></div></div><div class=\"_3tcB5a p8ucoS\"><div><div class=\"_2Tpdn3\" style=\"color:#000000;font-size:12px;font-weight:400\">Free delivery by</div><div class=\"_2Tpdn3\" style=\"color:#000000;font-size:12px;font-style:normal;font-weight:700\"> Today</div></div></div></div><div class=\"_13J9qT\"><img height=\"21\" src=\"//static-assets-web.flixcart.com/fk-p-linchpin-web/fk-cp-zion/img/fa_62673a.png\"/></div><div class=\"_2ZdXDB\"><div class=\"_3xFhiH\"><div class=\"_2Tpdn3 _18hQoS\" style=\"color:#000000;font-size:14px;font-style:normal;font-weight:400\">Upto </div><div class=\"_2Tpdn3 _18hQoS\" style=\"color:#000000;font-size:14px;font-style:normal;font-weight:700\">₹8,700</div><div class=\"_2Tpdn3 _18hQoS\" style=\"color:#000000;font-size:14px;font-style:normal;font-weight:400\"> Off on Exchange</div></div></div><div class=\"_2ZdXDB\"><div class=\"_3xFhiH\"><div class=\"_2Tpdn3 _18hQoS\" style=\"color:#000000;font-size:12px;font-weight:400\">No Cost EMI from ₹1,542/month</div></div></div></div></div></a></div></div></div></div><div class=\"_1AtVbE col-12-12\"><div class=\"_13oc-S\"><div data-id=\"MOBGHMZE5ERRQPJH\" style=\"width:100%\"><div class=\"_2kHMtA\"><a class=\"_1fQZEK\" href=\"/poco-m5-icy-blue-64-gb/p/itmcc02f8aecb269?pid=MOBGHMZE5ERRQPJH&amp;lid=LSTMOBGHMZE5ERRQPJHLZLI63&amp;marketplace=FLIPKART&amp;store=tyy%2F4io&amp;srno=b_1_15&amp;otracker=clp_metro_expandable_3_7.metroExpandable.METRO_EXPANDABLE_Shop%2BNow_mobile-phones-store_O1WYX08RHODP_wp4&amp;fm=organic&amp;iid=d705bd05-ac38-4cf3-87e4-104d57017383.MOBGHMZE5ERRQPJH.SEARCH&amp;ppt=None&amp;ppn=None&amp;ssid=3tk3mmftvk0000001686973846402\" rel=\"noopener noreferrer\" target=\"_blank\"><div class=\"MIXNux\"><div class=\"_2QcLo-\"><div><div class=\"CXW8mj\" style=\"height:200px;width:200px\"><img alt=\"POCO M5 (Icy Blue, 64 GB)\" class=\"_396cs4\" loading=\"eager\" src=\"https://rukminim1.flixcart.com/image/312/312/xif0q/mobile/s/s/a/-original-imaghsptxpgsqqry.jpeg?q=70\"/></div></div></div><div class=\"_3wLduG\"><div class=\"_3PzNI-\"><span class=\"f3A4_V\"><label class=\"_2iDkf8\"><input class=\"_30VH1S\" readonly=\"\" type=\"checkbox\"/><div class=\"_24_Dny\"></div></label></span><label class=\"_6Up2sF\"><span>Add to Compare</span></label></div></div><div class=\"_2hVSre _3nq8ih\"><div class=\"_36FSn5\"><svg class=\"_1l0elc\" height=\"16\" viewbox=\"0 0 20 16\" width=\"16\" xmlns=\"http://www.w3.org/2000/svg\"><path class=\"eX72wL\" d=\"M8.695 16.682C4.06 12.382 1 9.536 1 6.065 1 3.219 3.178 1 5.95 1c1.566 0 3.069.746 4.05 1.915C10.981 1.745 12.484 1 14.05 1 16.822 1 19 3.22 19 6.065c0 3.471-3.06 6.316-7.695 10.617L10 17.897l-1.305-1.215z\" fill=\"#2874F0\" fill-rule=\"evenodd\" opacity=\".9\" stroke=\"#FFF\"></path></svg></div></div></div><div class=\"_3pLy-c row\"><div class=\"col col-7-12\"><div class=\"_4rR01T\">POCO M5 (Icy Blue, 64 GB)</div><div class=\"gUuXy-\"><span class=\"_1lRcqv\" id=\"productRating_LSTMOBGHMZE5ERRQPJHLZLI63_MOBGHMZE5ERRQPJH_\"><div class=\"_3LWZlK\">4.2<img class=\"_1wB99o\" src=\"data:image/svg+xml;base64,PHN2ZyB4bWxucz0iaHR0cDovL3d3dy53My5vcmcvMjAwMC9zdmciIHdpZHRoPSIxMyIgaGVpZ2h0PSIxMiI+PHBhdGggZmlsbD0iI0ZGRiIgZD0iTTYuNSA5LjQzOWwtMy42NzQgMi4yMy45NC00LjI2LTMuMjEtMi44ODMgNC4yNTQtLjQwNEw2LjUuMTEybDEuNjkgNC4wMSA0LjI1NC40MDQtMy4yMSAyLjg4Mi45NCA0LjI2eiIvPjwvc3ZnPg==\"/></div></span><span class=\"_2_R_DZ\"><span><span>7,572 Ratings </span><span class=\"_13vcmD\">&amp;</span><span> 595 Reviews</span></span></span></div><div class=\"fMghEO\"><ul class=\"_1xgFaf\"><li class=\"rgWa7D\">4 GB RAM | 64 GB ROM | Expandable Upto 512 GB</li><li class=\"rgWa7D\">16.71 cm (6.58 inch) Full HD+ Display</li><li class=\"rgWa7D\">50MP + 2MP Depth Sensor + 2MP Macro Sensor | 8MP Front Camera</li><li class=\"rgWa7D\">5000 mAh Lithium-ion Polymer Battery</li><li class=\"rgWa7D\">Mediatek Helio G99 Processor</li><li class=\"rgWa7D\">1 Year for Handset, 6 Months for Accessories</li></ul></div></div><div class=\"col col-5-12 nlI3QM\"><div class=\"_3tbKJL\"><div class=\"_25b18c\"><div class=\"_30jeq3 _1_WHN1\">₹8,999</div><div class=\"_3I9_wc _27UcVY\">₹<!-- -->15,999</div><div class=\"_3Ay6Sb\"><span>43% off</span></div></div></div><div class=\"_13J9qT\"><img height=\"21\" src=\"//static-assets-web.flixcart.com/fk-p-linchpin-web/fk-cp-zion/img/fa_62673a.png\"/></div></div></div></a></div></div></div></div><div class=\"_1AtVbE col-12-12\"><div class=\"_13oc-S\"><div data-id=\"MOBGDRGPBZHUC3VZ\" style=\"width:100%\"><div class=\"_2kHMtA\"><a class=\"_1fQZEK\" href=\"/poco-m4-5g-yellow-64-gb/p/itm5bd9222dd1355?pid=MOBGDRGPBZHUC3VZ&amp;lid=LSTMOBGDRGPBZHUC3VZKR84R7&amp;marketplace=FLIPKART&amp;store=tyy%2F4io&amp;srno=b_1_16&amp;otracker=clp_metro_expandable_3_7.metroExpandable.METRO_EXPANDABLE_Shop%2BNow_mobile-phones-store_O1WYX08RHODP_wp4&amp;fm=organic&amp;iid=d705bd05-ac38-4cf3-87e4-104d57017383.MOBGDRGPBZHUC3VZ.SEARCH&amp;ppt=None&amp;ppn=None&amp;ssid=3tk3mmftvk0000001686973846402\" rel=\"noopener noreferrer\" target=\"_blank\"><div class=\"MIXNux\"><div class=\"_2QcLo-\"><div><div class=\"CXW8mj\" style=\"height:200px;width:200px\"><img alt=\"POCO M4 5G (Yellow, 64 GB)\" class=\"_396cs4\" loading=\"eager\" src=\"https://rukminim1.flixcart.com/image/312/312/l2jcccw0/mobile/g/l/5/-original-imagdu8j9k3ejjc3.jpeg?q=70\"/></div></div></div><div class=\"_3wLduG\"><div class=\"_3PzNI-\"><span class=\"f3A4_V\"><label class=\"_2iDkf8\"><input class=\"_30VH1S\" readonly=\"\" type=\"checkbox\"/><div class=\"_24_Dny\"></div></label></span><label class=\"_6Up2sF\"><span>Add to Compare</span></label></div></div><div class=\"_2hVSre _3nq8ih\"><div class=\"_36FSn5\"><svg class=\"_1l0elc\" height=\"16\" viewbox=\"0 0 20 16\" width=\"16\" xmlns=\"http://www.w3.org/2000/svg\"><path class=\"eX72wL\" d=\"M8.695 16.682C4.06 12.382 1 9.536 1 6.065 1 3.219 3.178 1 5.95 1c1.566 0 3.069.746 4.05 1.915C10.981 1.745 12.484 1 14.05 1 16.822 1 19 3.22 19 6.065c0 3.471-3.06 6.316-7.695 10.617L10 17.897l-1.305-1.215z\" fill=\"#2874F0\" fill-rule=\"evenodd\" opacity=\".9\" stroke=\"#FFF\"></path></svg></div></div></div><div class=\"_3pLy-c row\"><div class=\"col col-7-12\"><div class=\"_4rR01T\">POCO M4 5G (Yellow, 64 GB)</div><div class=\"gUuXy-\"><span class=\"_1lRcqv\" id=\"productRating_LSTMOBGDRGPBZHUC3VZKR84R7_MOBGDRGPBZHUC3VZ_\"><div class=\"_3LWZlK\">4.2<img class=\"_1wB99o\" src=\"data:image/svg+xml;base64,PHN2ZyB4bWxucz0iaHR0cDovL3d3dy53My5vcmcvMjAwMC9zdmciIHdpZHRoPSIxMyIgaGVpZ2h0PSIxMiI+PHBhdGggZmlsbD0iI0ZGRiIgZD0iTTYuNSA5LjQzOWwtMy42NzQgMi4yMy45NC00LjI2LTMuMjEtMi44ODMgNC4yNTQtLjQwNEw2LjUuMTEybDEuNjkgNC4wMSA0LjI1NC40MDQtMy4yMSAyLjg4Mi45NCA0LjI2eiIvPjwvc3ZnPg==\"/></div></span><span class=\"_2_R_DZ\"><span><span>77,128 Ratings </span><span class=\"_13vcmD\">&amp;</span><span> 5,430 Reviews</span></span></span></div><div class=\"fMghEO\"><ul class=\"_1xgFaf\"><li class=\"rgWa7D\">4 GB RAM | 64 GB ROM | Expandable Upto 512 GB</li><li class=\"rgWa7D\">16.71 cm (6.58 inch) Full HD+ Display</li><li class=\"rgWa7D\">50MP + 2MP | 8MP Front Camera</li><li class=\"rgWa7D\">5000 mAh Lithium Ion Polymer Battery</li><li class=\"rgWa7D\">Mediatek Dimensity 700 Processor</li><li class=\"rgWa7D\">1 Year Warranty for Handset and 6 Months for Accessories</li></ul></div></div><div class=\"col col-5-12 nlI3QM\"><div class=\"_3tbKJL\"><div class=\"_25b18c\"><div class=\"_30jeq3 _1_WHN1\">₹11,999</div><div class=\"_3I9_wc _27UcVY\">₹<!-- -->15,999</div><div class=\"_3Ay6Sb\"><span>25% off</span></div></div><div class=\"_3tcB5a p8ucoS\"><div><div class=\"_2Tpdn3\" style=\"color:#000000;font-size:12px;font-weight:400\">Free delivery by</div><div class=\"_2Tpdn3\" style=\"color:#000000;font-size:12px;font-style:normal;font-weight:700\"> Today</div></div></div></div><div class=\"_13J9qT\"><img height=\"21\" src=\"//static-assets-web.flixcart.com/fk-p-linchpin-web/fk-cp-zion/img/fa_62673a.png\"/></div><div class=\"_2ZdXDB\"><div class=\"_3xFhiH\"><div class=\"_2Tpdn3 _18hQoS\" style=\"color:#000000;font-size:14px;font-style:normal;font-weight:400\">Upto </div><div class=\"_2Tpdn3 _18hQoS\" style=\"color:#000000;font-size:14px;font-style:normal;font-weight:700\">₹11,450</div><div class=\"_2Tpdn3 _18hQoS\" style=\"color:#000000;font-size:14px;font-style:normal;font-weight:400\"> Off on Exchange</div></div></div><div class=\"_2ZdXDB\"><div class=\"_3xFhiH\"><div class=\"_2Tpdn3 _18hQoS\" style=\"color:#000000;font-size:12px;font-weight:400\">No Cost EMI from ₹2,000/month</div></div></div></div></div></a></div></div></div></div><div class=\"_1AtVbE col-12-12\"><div class=\"_13oc-S\"><div data-id=\"MOBGDRGPQQGTRXU9\" style=\"width:100%\"><div class=\"_2kHMtA\"><a class=\"_1fQZEK\" href=\"/poco-m4-5g-power-black-128-gb/p/itm967111aabdc3f?pid=MOBGDRGPQQGTRXU9&amp;lid=LSTMOBGDRGPQQGTRXU9P0JJRO&amp;marketplace=FLIPKART&amp;store=tyy%2F4io&amp;srno=b_1_17&amp;otracker=clp_metro_expandable_3_7.metroExpandable.METRO_EXPANDABLE_Shop%2BNow_mobile-phones-store_O1WYX08RHODP_wp4&amp;fm=organic&amp;iid=d705bd05-ac38-4cf3-87e4-104d57017383.MOBGDRGPQQGTRXU9.SEARCH&amp;ppt=None&amp;ppn=None&amp;ssid=3tk3mmftvk0000001686973846402\" rel=\"noopener noreferrer\" target=\"_blank\"><div class=\"MIXNux\"><div class=\"_2QcLo-\"><div><div class=\"CXW8mj\" style=\"height:200px;width:200px\"><img alt=\"POCO M4 5G (Power Black, 128 GB)\" class=\"_396cs4\" loading=\"eager\" src=\"https://rukminim1.flixcart.com/image/312/312/l2jcccw0/mobile/i/1/y/-original-imagdu8gtefvchbn.jpeg?q=70\"/></div></div></div><div class=\"_3wLduG\"><div class=\"_3PzNI-\"><span class=\"f3A4_V\"><label class=\"_2iDkf8\"><input class=\"_30VH1S\" readonly=\"\" type=\"checkbox\"/><div class=\"_24_Dny\"></div></label></span><label class=\"_6Up2sF\"><span>Add to Compare</span></label></div></div><div class=\"_2hVSre _3nq8ih\"><div class=\"_36FSn5\"><svg class=\"_1l0elc\" height=\"16\" viewbox=\"0 0 20 16\" width=\"16\" xmlns=\"http://www.w3.org/2000/svg\"><path class=\"eX72wL\" d=\"M8.695 16.682C4.06 12.382 1 9.536 1 6.065 1 3.219 3.178 1 5.95 1c1.566 0 3.069.746 4.05 1.915C10.981 1.745 12.484 1 14.05 1 16.822 1 19 3.22 19 6.065c0 3.471-3.06 6.316-7.695 10.617L10 17.897l-1.305-1.215z\" fill=\"#2874F0\" fill-rule=\"evenodd\" opacity=\".9\" stroke=\"#FFF\"></path></svg></div></div></div><div class=\"_3pLy-c row\"><div class=\"col col-7-12\"><div class=\"_4rR01T\">POCO M4 5G (Power Black, 128 GB)</div><div class=\"gUuXy-\"><span class=\"_1lRcqv\" id=\"productRating_LSTMOBGDRGPQQGTRXU9P0JJRO_MOBGDRGPQQGTRXU9_\"><div class=\"_3LWZlK\">4.2<img class=\"_1wB99o\" src=\"data:image/svg+xml;base64,PHN2ZyB4bWxucz0iaHR0cDovL3d3dy53My5vcmcvMjAwMC9zdmciIHdpZHRoPSIxMyIgaGVpZ2h0PSIxMiI+PHBhdGggZmlsbD0iI0ZGRiIgZD0iTTYuNSA5LjQzOWwtMy42NzQgMi4yMy45NC00LjI2LTMuMjEtMi44ODMgNC4yNTQtLjQwNEw2LjUuMTEybDEuNjkgNC4wMSA0LjI1NC40MDQtMy4yMSAyLjg4Mi45NCA0LjI2eiIvPjwvc3ZnPg==\"/></div></span><span class=\"_2_R_DZ\"><span><span>40,525 Ratings </span><span class=\"_13vcmD\">&amp;</span><span> 2,934 Reviews</span></span></span></div><div class=\"fMghEO\"><ul class=\"_1xgFaf\"><li class=\"rgWa7D\">6 GB RAM | 128 GB ROM | Expandable Upto 512 GB</li><li class=\"rgWa7D\">16.71 cm (6.58 inch) Full HD+ Display</li><li class=\"rgWa7D\">50MP + 2MP | 8MP Front Camera</li><li class=\"rgWa7D\">5000 mAh Lithium Ion Polymer Battery</li><li class=\"rgWa7D\">Mediatek Dimensity 700 Processor</li><li class=\"rgWa7D\">1 Year Warranty for Handset and 6 Months for Accessories</li></ul></div></div><div class=\"col col-5-12 nlI3QM\"><div class=\"_3tbKJL\"><div class=\"_25b18c\"><div class=\"_30jeq3 _1_WHN1\">₹13,999</div><div class=\"_3I9_wc _27UcVY\">₹<!-- -->18,999</div><div class=\"_3Ay6Sb\"><span>26% off</span></div></div><div class=\"_3tcB5a p8ucoS\"><div><div class=\"_2Tpdn3\" style=\"color:#000000;font-size:12px;font-weight:400\">Free delivery by</div><div class=\"_2Tpdn3\" style=\"color:#000000;font-size:12px;font-style:normal;font-weight:700\"> Today</div></div></div></div><div class=\"_13J9qT\"><img height=\"21\" src=\"//static-assets-web.flixcart.com/fk-p-linchpin-web/fk-cp-zion/img/fa_62673a.png\"/></div><div class=\"_2ZdXDB\"><div class=\"_3xFhiH\"><div class=\"_2Tpdn3 _18hQoS\" style=\"color:#000000;font-size:14px;font-style:normal;font-weight:400\">Upto </div><div class=\"_2Tpdn3 _18hQoS\" style=\"color:#000000;font-size:14px;font-style:normal;font-weight:700\">₹13,300</div><div class=\"_2Tpdn3 _18hQoS\" style=\"color:#000000;font-size:14px;font-style:normal;font-weight:400\"> Off on Exchange</div></div></div><div class=\"_2ZdXDB\"><div class=\"_3xFhiH\"><div class=\"_2Tpdn3 _18hQoS\" style=\"color:#000000;font-size:12px;font-weight:400\">No Cost EMI from ₹2,334/month</div></div></div></div></div></a></div></div></div></div><div class=\"_1AtVbE col-12-12\"><div class=\"_13oc-S\"><div data-id=\"MOBGK8WZPS5BQRFA\" style=\"width:100%\"><div class=\"_2kHMtA\"><a class=\"_1fQZEK\" href=\"/poco-c50-royal-blue-32-gb/p/itm36327e30a3aaa?pid=MOBGK8WZPS5BQRFA&amp;lid=LSTMOBGK8WZPS5BQRFADVCYDI&amp;marketplace=FLIPKART&amp;store=tyy%2F4io&amp;srno=b_1_18&amp;otracker=clp_metro_expandable_3_7.metroExpandable.METRO_EXPANDABLE_Shop%2BNow_mobile-phones-store_O1WYX08RHODP_wp4&amp;fm=organic&amp;iid=d705bd05-ac38-4cf3-87e4-104d57017383.MOBGK8WZPS5BQRFA.SEARCH&amp;ppt=None&amp;ppn=None&amp;ssid=3tk3mmftvk0000001686973846402\" rel=\"noopener noreferrer\" target=\"_blank\"><div class=\"MIXNux\"><div class=\"_2QcLo-\"><div><div class=\"CXW8mj\" style=\"height:200px;width:200px\"><img alt=\"POCO C50 (Royal Blue, 32 GB)\" class=\"_396cs4\" loading=\"eager\" src=\"https://rukminim1.flixcart.com/image/312/312/xif0q/mobile/t/a/x/-original-imaghmtch6qfmfxg.jpeg?q=70\"/></div></div></div><div class=\"_3wLduG\"><div class=\"_3PzNI-\"><span class=\"f3A4_V\"><label class=\"_2iDkf8\"><input class=\"_30VH1S\" readonly=\"\" type=\"checkbox\"/><div class=\"_24_Dny\"></div></label></span><label class=\"_6Up2sF\"><span>Add to Compare</span></label></div></div><div class=\"_2hVSre _3nq8ih\"><div class=\"_36FSn5\"><svg class=\"_1l0elc\" height=\"16\" viewbox=\"0 0 20 16\" width=\"16\" xmlns=\"http://www.w3.org/2000/svg\"><path class=\"eX72wL\" d=\"M8.695 16.682C4.06 12.382 1 9.536 1 6.065 1 3.219 3.178 1 5.95 1c1.566 0 3.069.746 4.05 1.915C10.981 1.745 12.484 1 14.05 1 16.822 1 19 3.22 19 6.065c0 3.471-3.06 6.316-7.695 10.617L10 17.897l-1.305-1.215z\" fill=\"#2874F0\" fill-rule=\"evenodd\" opacity=\".9\" stroke=\"#FFF\"></path></svg></div></div></div><div class=\"_3pLy-c row\"><div class=\"col col-7-12\"><div class=\"_4rR01T\">POCO C50 (Royal Blue, 32 GB)</div><div class=\"gUuXy-\"><span class=\"_1lRcqv\" id=\"productRating_LSTMOBGK8WZPS5BQRFADVCYDI_MOBGK8WZPS5BQRFA_\"><div class=\"_3LWZlK\">4.1<img class=\"_1wB99o\" src=\"data:image/svg+xml;base64,PHN2ZyB4bWxucz0iaHR0cDovL3d3dy53My5vcmcvMjAwMC9zdmciIHdpZHRoPSIxMyIgaGVpZ2h0PSIxMiI+PHBhdGggZmlsbD0iI0ZGRiIgZD0iTTYuNSA5LjQzOWwtMy42NzQgMi4yMy45NC00LjI2LTMuMjEtMi44ODMgNC4yNTQtLjQwNEw2LjUuMTEybDEuNjkgNC4wMSA0LjI1NC40MDQtMy4yMSAyLjg4Mi45NCA0LjI2eiIvPjwvc3ZnPg==\"/></div></span><span class=\"_2_R_DZ\"><span><span>11,675 Ratings </span><span class=\"_13vcmD\">&amp;</span><span> 720 Reviews</span></span></span></div><div class=\"fMghEO\"><ul class=\"_1xgFaf\"><li class=\"rgWa7D\">3 GB RAM | 32 GB ROM | Expandable Upto 512 GB</li><li class=\"rgWa7D\">16.56 cm (6.52 inch) HD+ Display</li><li class=\"rgWa7D\">8MP Dual Camera | 5MP Front Camera</li><li class=\"rgWa7D\">5000 mAh Lithium Polymer Battery</li><li class=\"rgWa7D\">Mediatek Helio A22 Processor, Upto 2.0 GHz Processor</li><li class=\"rgWa7D\">1 Year Manufacturer Warranty for Phone and 6 Months Warranty for In the Box Accessories</li></ul></div></div><div class=\"col col-5-12 nlI3QM\"><div class=\"_3tbKJL\"><div class=\"_25b18c\"><div class=\"_30jeq3 _1_WHN1\">₹6,499</div><div class=\"_3I9_wc _27UcVY\">₹<!-- -->9,999</div><div class=\"_3Ay6Sb\"><span>35% off</span></div></div><div class=\"_3tcB5a p8ucoS\"><div><div class=\"_2Tpdn3\" style=\"color:#000000;font-size:12px;font-weight:400\">Free delivery by</div><div class=\"_2Tpdn3\" style=\"color:#000000;font-size:12px;font-style:normal;font-weight:700\"> Today</div></div></div></div><div class=\"_13J9qT\"><img height=\"21\" src=\"//static-assets-web.flixcart.com/fk-p-linchpin-web/fk-cp-zion/img/fa_62673a.png\"/></div><div class=\"_2ZdXDB\"><div class=\"_3xFhiH\"><div class=\"_2Tpdn3 _18hQoS\" style=\"color:#000000;font-size:14px;font-style:normal;font-weight:400\">Upto </div><div class=\"_2Tpdn3 _18hQoS\" style=\"color:#000000;font-size:14px;font-style:normal;font-weight:700\">₹5,950</div><div class=\"_2Tpdn3 _18hQoS\" style=\"color:#000000;font-size:14px;font-style:normal;font-weight:400\"> Off on Exchange</div></div></div><div class=\"_2ZdXDB\"><div class=\"_3xFhiH\"><div class=\"_2Tpdn3 _18hQoS\" style=\"color:#26A541;font-size:14px;font-weight:700\">Bank Offer</div></div></div></div></div></a></div></div></div></div><div class=\"_1AtVbE col-12-12\"><div class=\"_13oc-S\"><div data-id=\"MOBGBTHFVTYQCZQG\" style=\"width:100%\"><div class=\"_2kHMtA\"><a class=\"_1fQZEK\" href=\"/poco-m4-pro-yellow-128-gb/p/itm2c781ce3142ae?pid=MOBGBTHFVTYQCZQG&amp;lid=LSTMOBGBTHFVTYQCZQGMHTOKH&amp;marketplace=FLIPKART&amp;store=tyy%2F4io&amp;srno=b_1_19&amp;otracker=clp_metro_expandable_3_7.metroExpandable.METRO_EXPANDABLE_Shop%2BNow_mobile-phones-store_O1WYX08RHODP_wp4&amp;fm=organic&amp;iid=d705bd05-ac38-4cf3-87e4-104d57017383.MOBGBTHFVTYQCZQG.SEARCH&amp;ppt=None&amp;ppn=None&amp;ssid=3tk3mmftvk0000001686973846402\" rel=\"noopener noreferrer\" target=\"_blank\"><div class=\"MIXNux\"><div class=\"_2QcLo-\"><div><div class=\"CXW8mj\" style=\"height:200px;width:200px\"><img alt=\"POCO M4 Pro (Yellow, 128 GB)\" class=\"_396cs4\" loading=\"eager\" src=\"https://rukminim1.flixcart.com/image/312/312/l0fm07k0/mobile/a/6/b/-original-imagc7tdwfp2gz4h.jpeg?q=70\"/></div></div></div><div class=\"_3wLduG\"><div class=\"_3PzNI-\"><span class=\"f3A4_V\"><label class=\"_2iDkf8\"><input class=\"_30VH1S\" readonly=\"\" type=\"checkbox\"/><div class=\"_24_Dny\"></div></label></span><label class=\"_6Up2sF\"><span>Add to Compare</span></label></div></div><div class=\"_2hVSre _3nq8ih\"><div class=\"_36FSn5\"><svg class=\"_1l0elc\" height=\"16\" viewbox=\"0 0 20 16\" width=\"16\" xmlns=\"http://www.w3.org/2000/svg\"><path class=\"eX72wL\" d=\"M8.695 16.682C4.06 12.382 1 9.536 1 6.065 1 3.219 3.178 1 5.95 1c1.566 0 3.069.746 4.05 1.915C10.981 1.745 12.484 1 14.05 1 16.822 1 19 3.22 19 6.065c0 3.471-3.06 6.316-7.695 10.617L10 17.897l-1.305-1.215z\" fill=\"#2874F0\" fill-rule=\"evenodd\" opacity=\".9\" stroke=\"#FFF\"></path></svg></div></div></div><div class=\"_3pLy-c row\"><div class=\"col col-7-12\"><div class=\"_4rR01T\">POCO M4 Pro (Yellow, 128 GB)</div><div class=\"gUuXy-\"><span class=\"_1lRcqv\" id=\"productRating_LSTMOBGBTHFVTYQCZQGMHTOKH_MOBGBTHFVTYQCZQG_\"><div class=\"_3LWZlK\">4.2<img class=\"_1wB99o\" src=\"data:image/svg+xml;base64,PHN2ZyB4bWxucz0iaHR0cDovL3d3dy53My5vcmcvMjAwMC9zdmciIHdpZHRoPSIxMyIgaGVpZ2h0PSIxMiI+PHBhdGggZmlsbD0iI0ZGRiIgZD0iTTYuNSA5LjQzOWwtMy42NzQgMi4yMy45NC00LjI2LTMuMjEtMi44ODMgNC4yNTQtLjQwNEw2LjUuMTEybDEuNjkgNC4wMSA0LjI1NC40MDQtMy4yMSAyLjg4Mi45NCA0LjI2eiIvPjwvc3ZnPg==\"/></div></span><span class=\"_2_R_DZ\"><span><span>21,133 Ratings </span><span class=\"_13vcmD\">&amp;</span><span> 1,684 Reviews</span></span></span></div><div class=\"fMghEO\"><ul class=\"_1xgFaf\"><li class=\"rgWa7D\">8 GB RAM | 128 GB ROM | Expandable Upto 1 TB</li><li class=\"rgWa7D\">16.33 cm (6.43 inch) Full HD+ AMOLED Display</li><li class=\"rgWa7D\">64MP + 8MP + 2MP | 16MP Front Camera</li><li class=\"rgWa7D\">5000 mAh Lithium-ion Polymer Battery</li><li class=\"rgWa7D\">Mediatek Helio G96 Processor</li><li class=\"rgWa7D\">One Year for Handset, 6 Months for Accessories</li></ul></div></div><div class=\"col col-5-12 nlI3QM\"><div class=\"_3tbKJL\"><div class=\"_25b18c\"><div class=\"_30jeq3 _1_WHN1\">₹13,999</div><div class=\"_3I9_wc _27UcVY\">₹<!-- -->21,999</div><div class=\"_3Ay6Sb\"><span>36% off</span></div></div><div class=\"_3tcB5a p8ucoS\"><div><div class=\"_2Tpdn3\" style=\"color:#000000;font-size:12px;font-weight:400\">Free delivery by</div><div class=\"_2Tpdn3\" style=\"color:#000000;font-size:12px;font-style:normal;font-weight:700\"> Today</div></div></div></div><div class=\"_13J9qT\"><img height=\"21\" src=\"//static-assets-web.flixcart.com/fk-p-linchpin-web/fk-cp-zion/img/fa_62673a.png\"/></div><div class=\"_2ZdXDB\"><div class=\"_3xFhiH\"><div class=\"_2Tpdn3 _18hQoS\" style=\"color:#000000;font-size:14px;font-style:normal;font-weight:400\">Upto </div><div class=\"_2Tpdn3 _18hQoS\" style=\"color:#000000;font-size:14px;font-style:normal;font-weight:700\">₹13,300</div><div class=\"_2Tpdn3 _18hQoS\" style=\"color:#000000;font-size:14px;font-style:normal;font-weight:400\"> Off on Exchange</div></div></div><div class=\"_2ZdXDB\"><div class=\"_3xFhiH\"><div class=\"_2Tpdn3 _18hQoS\" style=\"color:#26A541;font-size:14px;font-weight:700\">Bank Offer</div></div></div></div></div></a></div></div></div></div><div class=\"_1AtVbE col-12-12\"><div class=\"_13oc-S\"><div data-id=\"MOBGHMZEAF8F7HJS\" style=\"width:100%\"><div class=\"_2kHMtA\"><a class=\"_1fQZEK\" href=\"/poco-m5-yellow-64-gb/p/itmb39102de199c5?pid=MOBGHMZEAF8F7HJS&amp;lid=LSTMOBGHMZEAF8F7HJSURTYMM&amp;marketplace=FLIPKART&amp;store=tyy%2F4io&amp;srno=b_1_20&amp;otracker=clp_metro_expandable_3_7.metroExpandable.METRO_EXPANDABLE_Shop%2BNow_mobile-phones-store_O1WYX08RHODP_wp4&amp;fm=organic&amp;iid=d705bd05-ac38-4cf3-87e4-104d57017383.MOBGHMZEAF8F7HJS.SEARCH&amp;ppt=None&amp;ppn=None&amp;ssid=3tk3mmftvk0000001686973846402\" rel=\"noopener noreferrer\" target=\"_blank\"><div class=\"MIXNux\"><div class=\"_2QcLo-\"><div><div class=\"CXW8mj\" style=\"height:200px;width:200px\"><img alt=\"POCO M5 (Yellow, 64 GB)\" class=\"_396cs4\" loading=\"eager\" src=\"https://rukminim1.flixcart.com/image/312/312/xif0q/mobile/t/w/e/-original-imaghsptc24wahms.jpeg?q=70\"/></div></div></div><div class=\"_3wLduG\"><div class=\"_3PzNI-\"><span class=\"f3A4_V\"><label class=\"_2iDkf8\"><input class=\"_30VH1S\" readonly=\"\" type=\"checkbox\"/><div class=\"_24_Dny\"></div></label></span><label class=\"_6Up2sF\"><span>Add to Compare</span></label></div></div><div class=\"_2hVSre _3nq8ih\"><div class=\"_36FSn5\"><svg class=\"_1l0elc\" height=\"16\" viewbox=\"0 0 20 16\" width=\"16\" xmlns=\"http://www.w3.org/2000/svg\"><path class=\"eX72wL\" d=\"M8.695 16.682C4.06 12.382 1 9.536 1 6.065 1 3.219 3.178 1 5.95 1c1.566 0 3.069.746 4.05 1.915C10.981 1.745 12.484 1 14.05 1 16.822 1 19 3.22 19 6.065c0 3.471-3.06 6.316-7.695 10.617L10 17.897l-1.305-1.215z\" fill=\"#2874F0\" fill-rule=\"evenodd\" opacity=\".9\" stroke=\"#FFF\"></path></svg></div></div></div><div class=\"_3pLy-c row\"><div class=\"col col-7-12\"><div class=\"_4rR01T\">POCO M5 (Yellow, 64 GB)</div><div class=\"gUuXy-\"><span class=\"_1lRcqv\" id=\"productRating_LSTMOBGHMZEAF8F7HJSURTYMM_MOBGHMZEAF8F7HJS_\"><div class=\"_3LWZlK\">4.2<img class=\"_1wB99o\" src=\"data:image/svg+xml;base64,PHN2ZyB4bWxucz0iaHR0cDovL3d3dy53My5vcmcvMjAwMC9zdmciIHdpZHRoPSIxMyIgaGVpZ2h0PSIxMiI+PHBhdGggZmlsbD0iI0ZGRiIgZD0iTTYuNSA5LjQzOWwtMy42NzQgMi4yMy45NC00LjI2LTMuMjEtMi44ODMgNC4yNTQtLjQwNEw2LjUuMTEybDEuNjkgNC4wMSA0LjI1NC40MDQtMy4yMSAyLjg4Mi45NCA0LjI2eiIvPjwvc3ZnPg==\"/></div></span><span class=\"_2_R_DZ\"><span><span>7,572 Ratings </span><span class=\"_13vcmD\">&amp;</span><span> 595 Reviews</span></span></span></div><div class=\"fMghEO\"><ul class=\"_1xgFaf\"><li class=\"rgWa7D\">4 GB RAM | 64 GB ROM | Expandable Upto 512 GB</li><li class=\"rgWa7D\">16.71 cm (6.58 inch) Full HD+ Display</li><li class=\"rgWa7D\">50MP + 2MP Depth Sensor + 2MP Macro Sensor | 8MP Front Camera</li><li class=\"rgWa7D\">5000 mAh Lithium-ion Polymer Battery</li><li class=\"rgWa7D\">Mediatek Helio G99 Processor</li><li class=\"rgWa7D\">1 Year for Handset, 6 Months for Accessories</li></ul></div></div><div class=\"col col-5-12 nlI3QM\"><div class=\"_3tbKJL\"><div class=\"_25b18c\"><div class=\"_30jeq3 _1_WHN1\">₹8,999</div><div class=\"_3I9_wc _27UcVY\">₹<!-- -->15,999</div><div class=\"_3Ay6Sb\"><span>43% off</span></div></div><div class=\"_3tcB5a p8ucoS\"><div><div class=\"_2Tpdn3\" style=\"color:#000000;font-size:12px;font-weight:400\">Free delivery by</div><div class=\"_2Tpdn3\" style=\"color:#000000;font-size:12px;font-style:normal;font-weight:700\"> Today</div></div></div></div><div class=\"_13J9qT\"><img height=\"21\" src=\"//static-assets-web.flixcart.com/fk-p-linchpin-web/fk-cp-zion/img/fa_62673a.png\"/></div><div class=\"_2ZdXDB\"><div class=\"_3xFhiH\"><div class=\"_2Tpdn3 _18hQoS\" style=\"color:#000000;font-size:14px;font-style:normal;font-weight:400\">Upto </div><div class=\"_2Tpdn3 _18hQoS\" style=\"color:#000000;font-size:14px;font-style:normal;font-weight:700\">₹8,450</div><div class=\"_2Tpdn3 _18hQoS\" style=\"color:#000000;font-size:14px;font-style:normal;font-weight:400\"> Off on Exchange</div></div></div><div class=\"_2ZdXDB\"><div class=\"_3xFhiH\"><div class=\"_2Tpdn3 _18hQoS\" style=\"color:#26A541;font-size:14px;font-weight:700\">Bank Offer</div></div></div></div></div></a></div></div></div></div><div class=\"_1AtVbE col-12-12\"><div class=\"_13oc-S\"><div data-id=\"MOBGK8WZAFFKHXRC\" style=\"width:100%\"><div class=\"_2kHMtA\"><a class=\"_1fQZEK\" href=\"/poco-c50-country-green-32-gb/p/itm8bbc26098f785?pid=MOBGK8WZAFFKHXRC&amp;lid=LSTMOBGK8WZAFFKHXRCZKOFDZ&amp;marketplace=FLIPKART&amp;store=tyy%2F4io&amp;srno=b_1_21&amp;otracker=clp_metro_expandable_3_7.metroExpandable.METRO_EXPANDABLE_Shop%2BNow_mobile-phones-store_O1WYX08RHODP_wp4&amp;fm=organic&amp;iid=d705bd05-ac38-4cf3-87e4-104d57017383.MOBGK8WZAFFKHXRC.SEARCH&amp;ppt=None&amp;ppn=None&amp;ssid=3tk3mmftvk0000001686973846402\" rel=\"noopener noreferrer\" target=\"_blank\"><div class=\"MIXNux\"><div class=\"_2QcLo-\"><div><div class=\"CXW8mj\" style=\"height:200px;width:200px\"><img alt=\"POCO C50 (Country Green, 32 GB)\" class=\"_396cs4\" loading=\"eager\" src=\"https://rukminim1.flixcart.com/image/312/312/xif0q/mobile/3/l/x/-original-imaghmtcmxwgypsk.jpeg?q=70\"/></div></div></div><div class=\"_3wLduG\"><div class=\"_3PzNI-\"><span class=\"f3A4_V\"><label class=\"_2iDkf8\"><input class=\"_30VH1S\" readonly=\"\" type=\"checkbox\"/><div class=\"_24_Dny\"></div></label></span><label class=\"_6Up2sF\"><span>Add to Compare</span></label></div></div><div class=\"_2hVSre _3nq8ih\"><div class=\"_36FSn5\"><svg class=\"_1l0elc\" height=\"16\" viewbox=\"0 0 20 16\" width=\"16\" xmlns=\"http://www.w3.org/2000/svg\"><path class=\"eX72wL\" d=\"M8.695 16.682C4.06 12.382 1 9.536 1 6.065 1 3.219 3.178 1 5.95 1c1.566 0 3.069.746 4.05 1.915C10.981 1.745 12.484 1 14.05 1 16.822 1 19 3.22 19 6.065c0 3.471-3.06 6.316-7.695 10.617L10 17.897l-1.305-1.215z\" fill=\"#2874F0\" fill-rule=\"evenodd\" opacity=\".9\" stroke=\"#FFF\"></path></svg></div></div></div><div class=\"_3pLy-c row\"><div class=\"col col-7-12\"><div class=\"_4rR01T\">POCO C50 (Country Green, 32 GB)</div><div class=\"gUuXy-\"><span class=\"_1lRcqv\" id=\"productRating_LSTMOBGK8WZAFFKHXRCZKOFDZ_MOBGK8WZAFFKHXRC_\"><div class=\"_3LWZlK\">4.1<img class=\"_1wB99o\" src=\"data:image/svg+xml;base64,PHN2ZyB4bWxucz0iaHR0cDovL3d3dy53My5vcmcvMjAwMC9zdmciIHdpZHRoPSIxMyIgaGVpZ2h0PSIxMiI+PHBhdGggZmlsbD0iI0ZGRiIgZD0iTTYuNSA5LjQzOWwtMy42NzQgMi4yMy45NC00LjI2LTMuMjEtMi44ODMgNC4yNTQtLjQwNEw2LjUuMTEybDEuNjkgNC4wMSA0LjI1NC40MDQtMy4yMSAyLjg4Mi45NCA0LjI2eiIvPjwvc3ZnPg==\"/></div></span><span class=\"_2_R_DZ\"><span><span>11,675 Ratings </span><span class=\"_13vcmD\">&amp;</span><span> 720 Reviews</span></span></span></div><div class=\"fMghEO\"><ul class=\"_1xgFaf\"><li class=\"rgWa7D\">3 GB RAM | 32 GB ROM | Expandable Upto 512 GB</li><li class=\"rgWa7D\">16.56 cm (6.52 inch) HD+ Display</li><li class=\"rgWa7D\">8MP Dual Camera | 5MP Front Camera</li><li class=\"rgWa7D\">5000 mAh Lithium Polymer Battery</li><li class=\"rgWa7D\">Mediatek Helio A22 Processor, Upto 2.0 GHz Processor</li><li class=\"rgWa7D\">1 Year Manufacturer Warranty for Phone and 6 Months Warranty for In the Box Accessories</li></ul></div></div><div class=\"col col-5-12 nlI3QM\"><div class=\"_3tbKJL\"><div class=\"_25b18c\"><div class=\"_30jeq3 _1_WHN1\">₹6,499</div><div class=\"_3I9_wc _27UcVY\">₹<!-- -->9,999</div><div class=\"_3Ay6Sb\"><span>35% off</span></div></div><div class=\"_3tcB5a p8ucoS\"><div><div class=\"_2Tpdn3\" style=\"color:#000000;font-size:12px;font-weight:400\">Free delivery by</div><div class=\"_2Tpdn3\" style=\"color:#000000;font-size:12px;font-style:normal;font-weight:700\"> Today</div></div></div></div><div class=\"_13J9qT\"><img height=\"21\" src=\"//static-assets-web.flixcart.com/fk-p-linchpin-web/fk-cp-zion/img/fa_62673a.png\"/></div><div class=\"_2ZdXDB\"><div class=\"_3xFhiH\"><div class=\"_2Tpdn3 _18hQoS\" style=\"color:#000000;font-size:14px;font-style:normal;font-weight:400\">Upto </div><div class=\"_2Tpdn3 _18hQoS\" style=\"color:#000000;font-size:14px;font-style:normal;font-weight:700\">₹5,950</div><div class=\"_2Tpdn3 _18hQoS\" style=\"color:#000000;font-size:14px;font-style:normal;font-weight:400\"> Off on Exchange</div></div></div><div class=\"_2ZdXDB\"><div class=\"_3xFhiH\"><div class=\"_2Tpdn3 _18hQoS\" style=\"color:#26A541;font-size:14px;font-weight:700\">Bank Offer</div></div></div></div></div></a></div></div></div></div><div class=\"_1AtVbE col-12-12\"><div class=\"_13oc-S\"><div data-id=\"MOBGNBFB6VKBCARX\" style=\"width:100%\"><div class=\"_2kHMtA\"><a class=\"_1fQZEK\" href=\"/poco-x5-5g-jaguar-black-128-gb/p/itmea3de872e8205?pid=MOBGNBFB6VKBCARX&amp;lid=LSTMOBGNBFB6VKBCARXWGNBVK&amp;marketplace=FLIPKART&amp;store=tyy%2F4io&amp;srno=b_1_22&amp;otracker=clp_metro_expandable_3_7.metroExpandable.METRO_EXPANDABLE_Shop%2BNow_mobile-phones-store_O1WYX08RHODP_wp4&amp;fm=organic&amp;iid=d705bd05-ac38-4cf3-87e4-104d57017383.MOBGNBFB6VKBCARX.SEARCH&amp;ppt=None&amp;ppn=None&amp;ssid=3tk3mmftvk0000001686973846402\" rel=\"noopener noreferrer\" target=\"_blank\"><div class=\"MIXNux\"><div class=\"_2QcLo-\"><div><div class=\"CXW8mj\" style=\"height:200px;width:200px\"><img alt=\"POCO X5 5G (Jaguar Black, 128 GB)\" class=\"_396cs4\" loading=\"eager\" src=\"https://rukminim1.flixcart.com/image/312/312/xif0q/mobile/8/q/q/-original-imagnqpnkkzmgv7h.jpeg?q=70\"/></div></div></div><div class=\"_3wLduG\"><div class=\"_3PzNI-\"><span class=\"f3A4_V\"><label class=\"_2iDkf8\"><input class=\"_30VH1S\" readonly=\"\" type=\"checkbox\"/><div class=\"_24_Dny\"></div></label></span><label class=\"_6Up2sF\"><span>Add to Compare</span></label></div></div><div class=\"_2hVSre _3nq8ih\"><div class=\"_36FSn5\"><svg class=\"_1l0elc\" height=\"16\" viewbox=\"0 0 20 16\" width=\"16\" xmlns=\"http://www.w3.org/2000/svg\"><path class=\"eX72wL\" d=\"M8.695 16.682C4.06 12.382 1 9.536 1 6.065 1 3.219 3.178 1 5.95 1c1.566 0 3.069.746 4.05 1.915C10.981 1.745 12.484 1 14.05 1 16.822 1 19 3.22 19 6.065c0 3.471-3.06 6.316-7.695 10.617L10 17.897l-1.305-1.215z\" fill=\"#2874F0\" fill-rule=\"evenodd\" opacity=\".9\" stroke=\"#FFF\"></path></svg></div></div></div><div class=\"_3pLy-c row\"><div class=\"col col-7-12\"><div class=\"_4rR01T\">POCO X5 5G (Jaguar Black, 128 GB)</div><div class=\"gUuXy-\"><span class=\"_1lRcqv\" id=\"productRating_LSTMOBGNBFB6VKBCARXWGNBVK_MOBGNBFB6VKBCARX_\"><div class=\"_3LWZlK\">4.1<img class=\"_1wB99o\" src=\"data:image/svg+xml;base64,PHN2ZyB4bWxucz0iaHR0cDovL3d3dy53My5vcmcvMjAwMC9zdmciIHdpZHRoPSIxMyIgaGVpZ2h0PSIxMiI+PHBhdGggZmlsbD0iI0ZGRiIgZD0iTTYuNSA5LjQzOWwtMy42NzQgMi4yMy45NC00LjI2LTMuMjEtMi44ODMgNC4yNTQtLjQwNEw2LjUuMTEybDEuNjkgNC4wMSA0LjI1NC40MDQtMy4yMSAyLjg4Mi45NCA0LjI2eiIvPjwvc3ZnPg==\"/></div></span><span class=\"_2_R_DZ\"><span><span>7,285 Ratings </span><span class=\"_13vcmD\">&amp;</span><span> 566 Reviews</span></span></span></div><div class=\"fMghEO\"><ul class=\"_1xgFaf\"><li class=\"rgWa7D\">6 GB RAM | 128 GB ROM | Expandable Upto 1 TB</li><li class=\"rgWa7D\">16.94 cm (6.67 inch) Full HD+ Display</li><li class=\"rgWa7D\">48MP + 8MP + 2MP | 13MP Front Camera</li><li class=\"rgWa7D\">5000 mAh Battery</li><li class=\"rgWa7D\">Qualcomm Snapdragon 695 Processor</li><li class=\"rgWa7D\">1 Year Manufacturer Warranty for Phone and 6 Months Warranty for In the Box Accessories</li></ul></div></div><div class=\"col col-5-12 nlI3QM\"><div class=\"_3tbKJL\"><div class=\"_25b18c\"><div class=\"_30jeq3 _1_WHN1\">₹15,999</div><div class=\"_3I9_wc _27UcVY\">₹<!-- -->20,999</div><div class=\"_3Ay6Sb\"><span>23% off</span></div></div><div class=\"_3tcB5a p8ucoS\"><div><div class=\"_2Tpdn3\" style=\"color:#000000;font-size:12px;font-weight:400\">Free delivery by</div><div class=\"_2Tpdn3\" style=\"color:#000000;font-size:12px;font-style:normal;font-weight:700\"> Today</div></div></div></div><div class=\"_13J9qT\"><img height=\"21\" src=\"//static-assets-web.flixcart.com/fk-p-linchpin-web/fk-cp-zion/img/fa_62673a.png\"/></div><div class=\"_2ZdXDB\"><div class=\"_3xFhiH\"><div class=\"_2Tpdn3 _18hQoS\" style=\"color:#000000;font-size:14px;font-style:normal;font-weight:400\">Upto </div><div class=\"_2Tpdn3 _18hQoS\" style=\"color:#000000;font-size:14px;font-style:normal;font-weight:700\">₹15,150</div><div class=\"_2Tpdn3 _18hQoS\" style=\"color:#000000;font-size:14px;font-style:normal;font-weight:400\"> Off on Exchange</div></div></div><div class=\"_2ZdXDB\"><div class=\"_3xFhiH\"><div class=\"_2Tpdn3 _18hQoS\" style=\"color:#000000;font-size:12px;font-weight:400\">No Cost EMI from ₹2,667/month</div></div></div></div></div></a></div></div></div></div><div class=\"_1AtVbE col-12-12\"><div class=\"_13oc-S\"><div data-id=\"MOBGNBFBPH6Q5ZN4\" style=\"width:100%\"><div class=\"_2kHMtA\"><a class=\"_1fQZEK\" href=\"/poco-x5-5g-wildcat-blue-128-gb/p/itm6a8049291a98f?pid=MOBGNBFBPH6Q5ZN4&amp;lid=LSTMOBGNBFBPH6Q5ZN4WSEDVR&amp;marketplace=FLIPKART&amp;store=tyy%2F4io&amp;srno=b_1_23&amp;otracker=clp_metro_expandable_3_7.metroExpandable.METRO_EXPANDABLE_Shop%2BNow_mobile-phones-store_O1WYX08RHODP_wp4&amp;fm=organic&amp;iid=d705bd05-ac38-4cf3-87e4-104d57017383.MOBGNBFBPH6Q5ZN4.SEARCH&amp;ppt=None&amp;ppn=None&amp;ssid=3tk3mmftvk0000001686973846402\" rel=\"noopener noreferrer\" target=\"_blank\"><div class=\"MIXNux\"><div class=\"_2QcLo-\"><div><div class=\"CXW8mj\" style=\"height:200px;width:200px\"><img alt=\"POCO X5 5G (Wildcat Blue, 128 GB)\" class=\"_396cs4\" loading=\"eager\" src=\"https://rukminim1.flixcart.com/image/312/312/xif0q/mobile/f/e/l/-original-imagnqpndcmxghyq.jpeg?q=70\"/></div></div></div><div class=\"_3wLduG\"><div class=\"_3PzNI-\"><span class=\"f3A4_V\"><label class=\"_2iDkf8\"><input class=\"_30VH1S\" readonly=\"\" type=\"checkbox\"/><div class=\"_24_Dny\"></div></label></span><label class=\"_6Up2sF\"><span>Add to Compare</span></label></div></div><div class=\"_2hVSre _3nq8ih\"><div class=\"_36FSn5\"><svg class=\"_1l0elc\" height=\"16\" viewbox=\"0 0 20 16\" width=\"16\" xmlns=\"http://www.w3.org/2000/svg\"><path class=\"eX72wL\" d=\"M8.695 16.682C4.06 12.382 1 9.536 1 6.065 1 3.219 3.178 1 5.95 1c1.566 0 3.069.746 4.05 1.915C10.981 1.745 12.484 1 14.05 1 16.822 1 19 3.22 19 6.065c0 3.471-3.06 6.316-7.695 10.617L10 17.897l-1.305-1.215z\" fill=\"#2874F0\" fill-rule=\"evenodd\" opacity=\".9\" stroke=\"#FFF\"></path></svg></div></div></div><div class=\"_3pLy-c row\"><div class=\"col col-7-12\"><div class=\"_4rR01T\">POCO X5 5G (Wildcat Blue, 128 GB)</div><div class=\"gUuXy-\"><span class=\"_1lRcqv\" id=\"productRating_LSTMOBGNBFBPH6Q5ZN4WSEDVR_MOBGNBFBPH6Q5ZN4_\"><div class=\"_3LWZlK\">4.1<img class=\"_1wB99o\" src=\"data:image/svg+xml;base64,PHN2ZyB4bWxucz0iaHR0cDovL3d3dy53My5vcmcvMjAwMC9zdmciIHdpZHRoPSIxMyIgaGVpZ2h0PSIxMiI+PHBhdGggZmlsbD0iI0ZGRiIgZD0iTTYuNSA5LjQzOWwtMy42NzQgMi4yMy45NC00LjI2LTMuMjEtMi44ODMgNC4yNTQtLjQwNEw2LjUuMTEybDEuNjkgNC4wMSA0LjI1NC40MDQtMy4yMSAyLjg4Mi45NCA0LjI2eiIvPjwvc3ZnPg==\"/></div></span><span class=\"_2_R_DZ\"><span><span>7,285 Ratings </span><span class=\"_13vcmD\">&amp;</span><span> 566 Reviews</span></span></span></div><div class=\"fMghEO\"><ul class=\"_1xgFaf\"><li class=\"rgWa7D\">6 GB RAM | 128 GB ROM | Expandable Upto 1 TB</li><li class=\"rgWa7D\">16.94 cm (6.67 inch) Full HD+ Display</li><li class=\"rgWa7D\">48MP + 8MP + 2MP | 13MP Front Camera</li><li class=\"rgWa7D\">5000 mAh Battery</li><li class=\"rgWa7D\">Qualcomm Snapdragon 695 Processor</li><li class=\"rgWa7D\">1 Year Manufacturer Warranty for Phone and 6 Months Warranty for In the Box Accessories</li></ul></div></div><div class=\"col col-5-12 nlI3QM\"><div class=\"_3tbKJL\"><div class=\"_25b18c\"><div class=\"_30jeq3 _1_WHN1\">₹15,999</div><div class=\"_3I9_wc _27UcVY\">₹<!-- -->20,999</div><div class=\"_3Ay6Sb\"><span>23% off</span></div></div><div class=\"_3tcB5a p8ucoS\"><div><div class=\"_2Tpdn3\" style=\"color:#000000;font-size:12px;font-weight:400\">Free delivery by</div><div class=\"_2Tpdn3\" style=\"color:#000000;font-size:12px;font-style:normal;font-weight:700\"> Today</div></div></div></div><div class=\"_13J9qT\"><img height=\"21\" src=\"//static-assets-web.flixcart.com/fk-p-linchpin-web/fk-cp-zion/img/fa_62673a.png\"/></div><div class=\"_2ZdXDB\"><div class=\"_3xFhiH\"><div class=\"_2Tpdn3 _18hQoS\" style=\"color:#000000;font-size:14px;font-style:normal;font-weight:400\">Upto </div><div class=\"_2Tpdn3 _18hQoS\" style=\"color:#000000;font-size:14px;font-style:normal;font-weight:700\">₹15,150</div><div class=\"_2Tpdn3 _18hQoS\" style=\"color:#000000;font-size:14px;font-style:normal;font-weight:400\"> Off on Exchange</div></div></div><div class=\"_2ZdXDB\"><div class=\"_3xFhiH\"><div class=\"_2Tpdn3 _18hQoS\" style=\"color:#000000;font-size:12px;font-weight:400\">No Cost EMI from ₹2,667/month</div></div></div></div></div></a></div></div></div></div><div class=\"_1AtVbE col-12-12\"><div class=\"_13oc-S\"><div data-id=\"MOBGHMZE7EWP7XR2\" style=\"width:100%\"><div class=\"_2kHMtA\"><a class=\"_1fQZEK\" href=\"/poco-m5-power-black-128-gb/p/itm5fa50bdbbdf1c?pid=MOBGHMZE7EWP7XR2&amp;lid=LSTMOBGHMZE7EWP7XR2PH3QDO&amp;marketplace=FLIPKART&amp;store=tyy%2F4io&amp;srno=b_1_24&amp;otracker=clp_metro_expandable_3_7.metroExpandable.METRO_EXPANDABLE_Shop%2BNow_mobile-phones-store_O1WYX08RHODP_wp4&amp;fm=organic&amp;iid=d705bd05-ac38-4cf3-87e4-104d57017383.MOBGHMZE7EWP7XR2.SEARCH&amp;ppt=None&amp;ppn=None&amp;ssid=3tk3mmftvk0000001686973846402\" rel=\"noopener noreferrer\" target=\"_blank\"><div class=\"MIXNux\"><div class=\"_2QcLo-\"><div><div class=\"CXW8mj\" style=\"height:200px;width:200px\"><img alt=\"POCO M5 (Power Black, 128 GB)\" class=\"_396cs4\" loading=\"eager\" src=\"https://rukminim1.flixcart.com/image/312/312/xif0q/mobile/z/8/p/-original-imaghsptt8g6rjz9.jpeg?q=70\"/></div></div></div><div class=\"_3wLduG\"><div class=\"_3PzNI-\"><span class=\"f3A4_V\"><label class=\"_2iDkf8\"><input class=\"_30VH1S\" readonly=\"\" type=\"checkbox\"/><div class=\"_24_Dny\"></div></label></span><label class=\"_6Up2sF\"><span>Add to Compare</span></label></div></div><div class=\"_2hVSre _3nq8ih\"><div class=\"_36FSn5\"><svg class=\"_1l0elc\" height=\"16\" viewbox=\"0 0 20 16\" width=\"16\" xmlns=\"http://www.w3.org/2000/svg\"><path class=\"eX72wL\" d=\"M8.695 16.682C4.06 12.382 1 9.536 1 6.065 1 3.219 3.178 1 5.95 1c1.566 0 3.069.746 4.05 1.915C10.981 1.745 12.484 1 14.05 1 16.822 1 19 3.22 19 6.065c0 3.471-3.06 6.316-7.695 10.617L10 17.897l-1.305-1.215z\" fill=\"#2874F0\" fill-rule=\"evenodd\" opacity=\".9\" stroke=\"#FFF\"></path></svg></div></div></div><div class=\"_3pLy-c row\"><div class=\"col col-7-12\"><div class=\"_4rR01T\">POCO M5 (Power Black, 128 GB)</div><div class=\"gUuXy-\"><span class=\"_1lRcqv\" id=\"productRating_LSTMOBGHMZE7EWP7XR2PH3QDO_MOBGHMZE7EWP7XR2_\"><div class=\"_3LWZlK\">4.2<img class=\"_1wB99o\" src=\"data:image/svg+xml;base64,PHN2ZyB4bWxucz0iaHR0cDovL3d3dy53My5vcmcvMjAwMC9zdmciIHdpZHRoPSIxMyIgaGVpZ2h0PSIxMiI+PHBhdGggZmlsbD0iI0ZGRiIgZD0iTTYuNSA5LjQzOWwtMy42NzQgMi4yMy45NC00LjI2LTMuMjEtMi44ODMgNC4yNTQtLjQwNEw2LjUuMTEybDEuNjkgNC4wMSA0LjI1NC40MDQtMy4yMSAyLjg4Mi45NCA0LjI2eiIvPjwvc3ZnPg==\"/></div></span><span class=\"_2_R_DZ\"><span><span>3,525 Ratings </span><span class=\"_13vcmD\">&amp;</span><span> 213 Reviews</span></span></span></div><div class=\"fMghEO\"><ul class=\"_1xgFaf\"><li class=\"rgWa7D\">6 GB RAM | 128 GB ROM | Expandable Upto 512 GB</li><li class=\"rgWa7D\">16.71 cm (6.58 inch) Full HD+ Display</li><li class=\"rgWa7D\">50MP + 2MP Depth Sensor + 2MP Macro Sensor | 8MP Front Camera</li><li class=\"rgWa7D\">5000 mAh Lithium-ion Polymer Battery</li><li class=\"rgWa7D\">Mediatek Helio G99 Processor</li><li class=\"rgWa7D\">1 Year for Handset, 6 Months for Accessories</li></ul></div></div><div class=\"col col-5-12 nlI3QM\"><div class=\"_3tbKJL\"><div class=\"_25b18c\"><div class=\"_30jeq3 _1_WHN1\">₹10,999</div><div class=\"_3I9_wc _27UcVY\">₹<!-- -->18,999</div><div class=\"_3Ay6Sb\"><span>42% off</span></div></div></div><div class=\"_13J9qT\"><img height=\"21\" src=\"//static-assets-web.flixcart.com/fk-p-linchpin-web/fk-cp-zion/img/fa_62673a.png\"/></div></div></div></a></div></div></div></div><div class=\"_1AtVbE col-12-12\"><div><div class=\"_2MImiq\"><span>Page 1 of 6</span><nav class=\"yFHi8N\"><a class=\"ge-49M _2Kfbh8\" href=\"/mobiles/pr?sid=tyy%2C4io&amp;p%5B%5D=facets.brand%255B%255D%3Dpoco&amp;ctx=eyJjYXJkQ29udGV4dCI6eyJhdHRyaWJ1dGVzIjp7InRpdGxlIjp7Im11bHRpVmFsdWVkQXR0cmlidXRlIjp7ImtleSI6InRpdGxlIiwiaW5mZXJlbmNlVHlwZSI6IlRJVExFIiwidmFsdWVzIjpbIlNob3AgTm93Il0sInZhbHVlVHlwZSI6Ik1VTFRJX1ZBTFVFRCJ9fX19fQ%3D%3D&amp;otracker=clp_metro_expandable_3_7.metroExpandable.METRO_EXPANDABLE_Shop%2BNow_mobile-phones-store_O1WYX08RHODP_wp4&amp;fm=neo%2Fmerchandising&amp;iid=M_4e0e5fa0-a883-4ce6-978f-bc6f6dbe2151_7.O1WYX08RHODP&amp;ppt=hp&amp;ppn=homepage&amp;ssid=6rg6uvho8w0000001686888534336&amp;page=1\">1</a><a class=\"ge-49M\" href=\"/mobiles/pr?sid=tyy%2C4io&amp;p%5B%5D=facets.brand%255B%255D%3Dpoco&amp;ctx=eyJjYXJkQ29udGV4dCI6eyJhdHRyaWJ1dGVzIjp7InRpdGxlIjp7Im11bHRpVmFsdWVkQXR0cmlidXRlIjp7ImtleSI6InRpdGxlIiwiaW5mZXJlbmNlVHlwZSI6IlRJVExFIiwidmFsdWVzIjpbIlNob3AgTm93Il0sInZhbHVlVHlwZSI6Ik1VTFRJX1ZBTFVFRCJ9fX19fQ%3D%3D&amp;otracker=clp_metro_expandable_3_7.metroExpandable.METRO_EXPANDABLE_Shop%2BNow_mobile-phones-store_O1WYX08RHODP_wp4&amp;fm=neo%2Fmerchandising&amp;iid=M_4e0e5fa0-a883-4ce6-978f-bc6f6dbe2151_7.O1WYX08RHODP&amp;ppt=hp&amp;ppn=homepage&amp;ssid=6rg6uvho8w0000001686888534336&amp;page=2\">2</a><a class=\"ge-49M\" href=\"/mobiles/pr?sid=tyy%2C4io&amp;p%5B%5D=facets.brand%255B%255D%3Dpoco&amp;ctx=eyJjYXJkQ29udGV4dCI6eyJhdHRyaWJ1dGVzIjp7InRpdGxlIjp7Im11bHRpVmFsdWVkQXR0cmlidXRlIjp7ImtleSI6InRpdGxlIiwiaW5mZXJlbmNlVHlwZSI6IlRJVExFIiwidmFsdWVzIjpbIlNob3AgTm93Il0sInZhbHVlVHlwZSI6Ik1VTFRJX1ZBTFVFRCJ9fX19fQ%3D%3D&amp;otracker=clp_metro_expandable_3_7.metroExpandable.METRO_EXPANDABLE_Shop%2BNow_mobile-phones-store_O1WYX08RHODP_wp4&amp;fm=neo%2Fmerchandising&amp;iid=M_4e0e5fa0-a883-4ce6-978f-bc6f6dbe2151_7.O1WYX08RHODP&amp;ppt=hp&amp;ppn=homepage&amp;ssid=6rg6uvho8w0000001686888534336&amp;page=3\">3</a><a class=\"ge-49M\" href=\"/mobiles/pr?sid=tyy%2C4io&amp;p%5B%5D=facets.brand%255B%255D%3Dpoco&amp;ctx=eyJjYXJkQ29udGV4dCI6eyJhdHRyaWJ1dGVzIjp7InRpdGxlIjp7Im11bHRpVmFsdWVkQXR0cmlidXRlIjp7ImtleSI6InRpdGxlIiwiaW5mZXJlbmNlVHlwZSI6IlRJVExFIiwidmFsdWVzIjpbIlNob3AgTm93Il0sInZhbHVlVHlwZSI6Ik1VTFRJX1ZBTFVFRCJ9fX19fQ%3D%3D&amp;otracker=clp_metro_expandable_3_7.metroExpandable.METRO_EXPANDABLE_Shop%2BNow_mobile-phones-store_O1WYX08RHODP_wp4&amp;fm=neo%2Fmerchandising&amp;iid=M_4e0e5fa0-a883-4ce6-978f-bc6f6dbe2151_7.O1WYX08RHODP&amp;ppt=hp&amp;ppn=homepage&amp;ssid=6rg6uvho8w0000001686888534336&amp;page=4\">4</a><a class=\"ge-49M\" href=\"/mobiles/pr?sid=tyy%2C4io&amp;p%5B%5D=facets.brand%255B%255D%3Dpoco&amp;ctx=eyJjYXJkQ29udGV4dCI6eyJhdHRyaWJ1dGVzIjp7InRpdGxlIjp7Im11bHRpVmFsdWVkQXR0cmlidXRlIjp7ImtleSI6InRpdGxlIiwiaW5mZXJlbmNlVHlwZSI6IlRJVExFIiwidmFsdWVzIjpbIlNob3AgTm93Il0sInZhbHVlVHlwZSI6Ik1VTFRJX1ZBTFVFRCJ9fX19fQ%3D%3D&amp;otracker=clp_metro_expandable_3_7.metroExpandable.METRO_EXPANDABLE_Shop%2BNow_mobile-phones-store_O1WYX08RHODP_wp4&amp;fm=neo%2Fmerchandising&amp;iid=M_4e0e5fa0-a883-4ce6-978f-bc6f6dbe2151_7.O1WYX08RHODP&amp;ppt=hp&amp;ppn=homepage&amp;ssid=6rg6uvho8w0000001686888534336&amp;page=5\">5</a><a class=\"ge-49M\" href=\"/mobiles/pr?sid=tyy%2C4io&amp;p%5B%5D=facets.brand%255B%255D%3Dpoco&amp;ctx=eyJjYXJkQ29udGV4dCI6eyJhdHRyaWJ1dGVzIjp7InRpdGxlIjp7Im11bHRpVmFsdWVkQXR0cmlidXRlIjp7ImtleSI6InRpdGxlIiwiaW5mZXJlbmNlVHlwZSI6IlRJVExFIiwidmFsdWVzIjpbIlNob3AgTm93Il0sInZhbHVlVHlwZSI6Ik1VTFRJX1ZBTFVFRCJ9fX19fQ%3D%3D&amp;otracker=clp_metro_expandable_3_7.metroExpandable.METRO_EXPANDABLE_Shop%2BNow_mobile-phones-store_O1WYX08RHODP_wp4&amp;fm=neo%2Fmerchandising&amp;iid=M_4e0e5fa0-a883-4ce6-978f-bc6f6dbe2151_7.O1WYX08RHODP&amp;ppt=hp&amp;ppn=homepage&amp;ssid=6rg6uvho8w0000001686888534336&amp;page=6\">6</a><a class=\"_1LKTO3\" href=\"/mobiles/pr?sid=tyy%2C4io&amp;p%5B%5D=facets.brand%255B%255D%3Dpoco&amp;ctx=eyJjYXJkQ29udGV4dCI6eyJhdHRyaWJ1dGVzIjp7InRpdGxlIjp7Im11bHRpVmFsdWVkQXR0cmlidXRlIjp7ImtleSI6InRpdGxlIiwiaW5mZXJlbmNlVHlwZSI6IlRJVExFIiwidmFsdWVzIjpbIlNob3AgTm93Il0sInZhbHVlVHlwZSI6Ik1VTFRJX1ZBTFVFRCJ9fX19fQ%3D%3D&amp;otracker=clp_metro_expandable_3_7.metroExpandable.METRO_EXPANDABLE_Shop%2BNow_mobile-phones-store_O1WYX08RHODP_wp4&amp;fm=neo%2Fmerchandising&amp;iid=M_4e0e5fa0-a883-4ce6-978f-bc6f6dbe2151_7.O1WYX08RHODP&amp;ppt=hp&amp;ppn=homepage&amp;ssid=6rg6uvho8w0000001686888534336&amp;page=2\"><span>Next</span></a></nav><span class=\"_22Tduf\"></span></div></div></div><div class=\"_1AtVbE col-12-12\" style=\"margin:10px 0px 0px 0px\"><div class=\"_1anD2T\"><span class=\"PTpXCl\">Did you find what you were looking for?</span><div class=\"_1ye8x2 _1xLf4B\"><span class=\"_2eFmU2 _3ZMjMT\">Yes</span><span class=\"_2eFmU2 _3ZMjMT\">No</span></div></div></div></div></div></div><footer class=\"_3voSl0\"><div class=\"_3rc_xQ\"><div class=\"row\"><div class=\"col gu12 _8Qljeg\"></div></div><div><div class=\"_2WErco row\"><div class=\"_2Brcj4\"><div class=\"_3-dnWo\">ABOUT</div><a class=\"_1arVWX\" href=\"/helpcentre?otracker=undefined_footer_navlinks\">Contact Us</a><a class=\"_1arVWX\" href=\"https://corporate.flipkart.net/corporate-home\">About Us</a><a class=\"_1arVWX\" href=\"https://www.flipkartcareers.com/?otracker=undefined_footer_navlinks\">Careers</a><a class=\"_1arVWX\" href=\"http://stories.flipkart.com/?otracker=undefined_footer_navlinks\">Flipkart Stories</a><a class=\"_1arVWX\" href=\"/s/press?otracker=undefined_footer_navlinks\">Press</a><a class=\"_1arVWX\" href=\"https://www.flipkartwholesale.com/?otracker=undefined_footer_navlinks\" rel=\"noopener noreferrer\" target=\"_blank\">Flipkart Wholesale</a><a class=\"_1arVWX\" href=\"/corporate-information\">Corporate Information</a></div><div class=\"_2Brcj4\"><div class=\"_3-dnWo\">HELP</div><a class=\"_1arVWX\" href=\"/pages/payments\">Payments</a><a class=\"_1arVWX\" href=\"/pages/shipping\">Shipping</a><a class=\"_1arVWX\" href=\"/helpcentre?catalog=55c9c6edb000002e002c1701&amp;view=CATALOG\">Cancellation &amp; Returns</a><a class=\"_1arVWX\" href=\"/helpcentre?catalog=55c9c8e2b0000023002c1702&amp;view=CATALOG\">FAQ</a><a class=\"_1arVWX\" href=\"https://seller.flipkart.com/fiv?otracker=undefined_footer_navlinks\">Report Infringement</a></div><div class=\"_2Brcj4\"><div class=\"_3-dnWo\">CONSUMER POLICY</div><a class=\"_1arVWX\" href=\"/pages/returnpolicy?otracker=undefined_footer_navlinks\">Return Policy</a><a class=\"_1arVWX\" href=\"/pages/terms?otracker=undefined_footer_navlinks\">Terms Of Use</a><a class=\"_1arVWX\" href=\"/pages/paymentsecurity?otracker=undefined_footer_navlinks\">Security</a><a class=\"_1arVWX\" href=\"/pages/privacypolicy?otracker=undefined_footer_navlinks\">Privacy</a><a class=\"_1arVWX\" href=\"/sitemap?otracker=undefined_footer_navlinks\">Sitemap</a><a class=\"_1arVWX\" href=\"/pages/grievance-redressal-mechanism?otracker=undefined_footer_navlinks\">Grievance Redressal</a><a class=\"_1arVWX\" href=\"/pages/ewaste-compliance-tnc?otracker=undefined_footer_navlinks\">EPR Compliance</a></div><div class=\"_2Brcj4\"><div class=\"_3-dnWo\">SOCIAL</div><a class=\"_1arVWX\" href=\"https://www.facebook.com/flipkart\">Facebook</a><a class=\"_1arVWX\" href=\"https://www.twitter.com/flipkart\">Twitter</a><a class=\"_1arVWX\" href=\"https://www.youtube.com/flipkart\">YouTube</a></div><div class=\"_2Brcj4 address\"><div class=\"_3JHi0r\"><div class=\"_3-dnWo\"><span>Mail Us:</span></div><div class=\"_1U1qnR\"><div class=\"_1LJS6T\"><div class=\"_2NKhZn _1U1qnR\"><p>Flipkart Internet Private Limited, </p>\n",
       "<p> Buildings Alyssa, Begonia &amp; </p>\n",
       "<p> Clove Embassy Tech Village, </p>\n",
       "<p> Outer Ring Road, Devarabeesanahalli Village, </p>\n",
       "<p> Bengaluru, 560103, </p>\n",
       "<p> Karnataka, India</p>\n",
       "</div></div></div></div></div><div class=\"_2Brcj4 address\"><div class=\"_3IT4e6\"><div class=\"_3-dnWo\"><span>Registered Office Address:</span></div><div class=\"_1U1qnR\"><div class=\"_1LJS6T\"><div class=\"_2NKhZn _1U1qnR\"><p>Flipkart Internet Private Limited, </p>\n",
       "<p> Buildings Alyssa, Begonia &amp; </p>\n",
       "<p> Clove Embassy Tech Village, </p>\n",
       "<p> Outer Ring Road, Devarabeesanahalli Village, </p>\n",
       "<p> Bengaluru, 560103, </p>\n",
       "<p> Karnataka, India </p>\n",
       "<p> CIN : U51109KA2012PTC066107 </p>\n",
       "<p> Telephone: <a href=\"tel:044-45614700\">044-45614700</a></p>\n",
       "</div></div></div></div></div></div><div><div class=\"_2uz0vJ\"><div><img src=\"data:image/svg+xml;base64,PHN2ZyB4bWxucz0iaHR0cDovL3d3dy53My5vcmcvMjAwMC9zdmciIHdpZHRoPSIxNiIgaGVpZ2h0PSIxNSIgdmlld0JveD0iMCAwIDE2IDE1Ij4KICAgIDxkZWZzPgogICAgICAgIDxsaW5lYXJHcmFkaWVudCBpZD0iYSIgeDE9IjAlIiB4Mj0iODYuODc2JSIgeTE9IjAlIiB5Mj0iODAuMjAyJSI+CiAgICAgICAgICAgIDxzdG9wIG9mZnNldD0iMCUiIHN0b3AtY29sb3I9IiNGRkQ4MDAiLz4KICAgICAgICAgICAgPHN0b3Agb2Zmc2V0PSIxMDAlIiBzdG9wLWNvbG9yPSIjRkZBRjAwIi8+CiAgICAgICAgPC9saW5lYXJHcmFkaWVudD4KICAgIDwvZGVmcz4KICAgIDxnIGZpbGw9Im5vbmUiIGZpbGwtcnVsZT0iZXZlbm9kZCI+CiAgICAgICAgPHBhdGggZD0iTS0yLTJoMjB2MjBILTJ6Ii8+CiAgICAgICAgPHBhdGggZmlsbD0idXJsKCNhKSIgZmlsbC1ydWxlPSJub256ZXJvIiBkPSJNMTUuOTMgNS42MTRoLTIuOTQ4VjQuMTRjMC0uODE4LS42NTUtMS40NzMtMS40NzMtMS40NzNIOC41NmMtLjgxNyAwLTEuNDczLjY1NS0xLjQ3MyAxLjQ3M3YxLjQ3NEg0LjE0Yy0uODE4IDAtMS40NjYuNjU2LTEuNDY2IDEuNDc0bC0uMDA3IDguMTA1YzAgLjgxOC42NTUgMS40NzQgMS40NzMgMS40NzRoMTEuNzljLjgxOCAwIDEuNDc0LS42NTYgMS40NzQtMS40NzRWNy4wODhjMC0uODE4LS42NTYtMS40NzQtMS40NzQtMS40NzR6bS00LjQyMSAwSDguNTZWNC4xNGgyLjk0OHYxLjQ3NHoiIHRyYW5zZm9ybT0idHJhbnNsYXRlKC0yIC0yKSIvPgogICAgPC9nPgo8L3N2Zz4K\"/><a href=\"https://seller.flipkart.com/?utm_source=fkwebsite&amp;utm_medium=websitedirect\"><span class=\"hDTmm5\">Become a Seller</span></a></div><div><img src=\"data:image/svg+xml;base64,PHN2ZyB4bWxucz0iaHR0cDovL3d3dy53My5vcmcvMjAwMC9zdmciIHdpZHRoPSIxNSIgaGVpZ2h0PSIxNSIgdmlld0JveD0iMCAwIDE1IDE1Ij4KICAgIDxkZWZzPgogICAgICAgIDxsaW5lYXJHcmFkaWVudCBpZD0iYSIgeDE9IjAlIiB4Mj0iODYuODc2JSIgeTE9IjAlIiB5Mj0iODAuMjAyJSI+CiAgICAgICAgICAgIDxzdG9wIG9mZnNldD0iMCUiIHN0b3AtY29sb3I9IiNGRkQ4MDAiLz4KICAgICAgICAgICAgPHN0b3Agb2Zmc2V0PSIxMDAlIiBzdG9wLWNvbG9yPSIjRkZBRjAwIi8+CiAgICAgICAgPC9saW5lYXJHcmFkaWVudD4KICAgIDwvZGVmcz4KICAgIDxnIGZpbGw9Im5vbmUiIGZpbGwtcnVsZT0iZXZlbm9kZCI+CiAgICAgICAgPHBhdGggZD0iTS0zLTNoMjB2MjBILTN6Ii8+CiAgICAgICAgPHBhdGggZmlsbD0idXJsKCNhKSIgZmlsbC1ydWxlPSJub256ZXJvIiBkPSJNMTAuNDkyIDNDNi4zNTMgMyAzIDYuMzYgMyAxMC41YzAgNC4xNCAzLjM1MyA3LjUgNy40OTIgNy41QzE0LjY0IDE4IDE4IDE0LjY0IDE4IDEwLjUgMTggNi4zNiAxNC42NCAzIDEwLjQ5MiAzem0zLjE4IDEyTDEwLjUgMTMuMDg4IDcuMzI3IDE1bC44NC0zLjYwN0w1LjM3IDguOTdsMy42OS0uMzE1TDEwLjUgNS4yNWwxLjQ0IDMuMzk4IDMuNjkuMzE1LTIuNzk4IDIuNDIyLjg0IDMuNjE1eiIgdHJhbnNmb3JtPSJ0cmFuc2xhdGUoLTMgLTMpIi8+CiAgICA8L2c+Cjwvc3ZnPgo=\"/><a href=\"https://brands.flipkart.com\"><span class=\"hDTmm5\">Advertise</span></a></div><div><img src=\"data:image/svg+xml;base64,PHN2ZyB4bWxucz0iaHR0cDovL3d3dy53My5vcmcvMjAwMC9zdmciIHdpZHRoPSIxOCIgaGVpZ2h0PSIxNyIgdmlld0JveD0iMCAwIDE4IDE3Ij4KICAgIDxkZWZzPgogICAgICAgIDxsaW5lYXJHcmFkaWVudCBpZD0iYSIgeDE9IjAlIiB4Mj0iODYuODc2JSIgeTE9IjAlIiB5Mj0iODAuMjAyJSI+CiAgICAgICAgICAgIDxzdG9wIG9mZnNldD0iMCUiIHN0b3AtY29sb3I9IiNGRkQ4MDAiLz4KICAgICAgICAgICAgPHN0b3Agb2Zmc2V0PSIxMDAlIiBzdG9wLWNvbG9yPSIjRkZBRjAwIi8+CiAgICAgICAgPC9saW5lYXJHcmFkaWVudD4KICAgIDwvZGVmcz4KICAgIDxnIGZpbGw9Im5vbmUiIGZpbGwtcnVsZT0iZXZlbm9kZCI+CiAgICAgICAgPHBhdGggZD0iTS0xLTFoMjB2MjBILTF6Ii8+CiAgICAgICAgPHBhdGggZmlsbD0idXJsKCNhKSIgZmlsbC1ydWxlPSJub256ZXJvIiBkPSJNMTYuNjY3IDVIMTQuODVjLjA5Mi0uMjU4LjE1LS41NDIuMTUtLjgzM2EyLjQ5NyAyLjQ5NyAwIDAgMC00LjU4My0xLjM3NUwxMCAzLjM1bC0uNDE3LS41NjdBMi41MSAyLjUxIDAgMCAwIDcuNSAxLjY2N2EyLjQ5NyAyLjQ5NyAwIDAgMC0yLjUgMi41YzAgLjI5MS4wNTguNTc1LjE1LjgzM0gzLjMzM2MtLjkyNSAwLTEuNjU4Ljc0Mi0xLjY1OCAxLjY2N2wtLjAwOCA5LjE2NkExLjY2IDEuNjYgMCAwIDAgMy4zMzMgMTcuNWgxMy4zMzRhMS42NiAxLjY2IDAgMCAwIDEuNjY2LTEuNjY3VjYuNjY3QTEuNjYgMS42NiAwIDAgMCAxNi42NjcgNXptMCA2LjY2N0gzLjMzM3YtNWg0LjIzNEw1LjgzMyA5LjAyNWwxLjM1Ljk3NSAxLjk4NC0yLjdMMTAgNi4xNjdsLjgzMyAxLjEzMyAxLjk4NCAyLjcgMS4zNS0uOTc1LTEuNzM0LTIuMzU4aDQuMjM0djV6IiB0cmFuc2Zvcm09InRyYW5zbGF0ZSgtMSAtMSkiLz4KICAgIDwvZz4KPC9zdmc+Cg==\"/><a href=\"/the-gift-card-store?otracker=undefined_footer_footer_navlinks\"><span class=\"hDTmm5\">Gift Cards</span></a></div><div><img src=\"data:image/svg+xml;base64,PHN2ZyB4bWxucz0iaHR0cDovL3d3dy53My5vcmcvMjAwMC9zdmciIHdpZHRoPSIxNSIgaGVpZ2h0PSIxNSIgdmlld0JveD0iMCAwIDE1IDE1Ij4KICAgIDxkZWZzPgogICAgICAgIDxsaW5lYXJHcmFkaWVudCBpZD0iYSIgeDE9IjAlIiB4Mj0iODYuODc2JSIgeTE9IjAlIiB5Mj0iODAuMjAyJSI+CiAgICAgICAgICAgIDxzdG9wIG9mZnNldD0iMCUiIHN0b3AtY29sb3I9IiNGRkQ4MDAiLz4KICAgICAgICAgICAgPHN0b3Agb2Zmc2V0PSIxMDAlIiBzdG9wLWNvbG9yPSIjRkZBRjAwIi8+CiAgICAgICAgPC9saW5lYXJHcmFkaWVudD4KICAgIDwvZGVmcz4KICAgIDxnIGZpbGw9Im5vbmUiIGZpbGwtcnVsZT0iZXZlbm9kZCI+CiAgICAgICAgPHBhdGggZD0iTS0yLTNoMjB2MjBILTJ6Ii8+CiAgICAgICAgPHBhdGggZmlsbD0idXJsKCNhKSIgZmlsbC1ydWxlPSJub256ZXJvIiBkPSJNOS41IDNDNS4zNiAzIDIgNi4zNiAyIDEwLjUgMiAxNC42NCA1LjM2IDE4IDkuNSAxOGM0LjE0IDAgNy41LTMuMzYgNy41LTcuNUMxNyA2LjM2IDEzLjY0IDMgOS41IDN6bS43NSAxMi43NWgtMS41di0xLjVoMS41djEuNXptMS41NTMtNS44MTNsLS42NzYuNjljLS41NC41NDgtLjg3Ny45OTgtLjg3NyAyLjEyM2gtMS41di0uMzc1YzAtLjgyNS4zMzgtMS41NzUuODc3LTIuMTIzbC45My0uOTQ1Yy4yNzgtLjI3LjQ0My0uNjQ1LjQ0My0xLjA1NyAwLS44MjUtLjY3NS0xLjUtMS41LTEuNVM4IDcuNDI1IDggOC4yNUg2LjVhMyAzIDAgMSAxIDYgMGMwIC42Ni0uMjcgMS4yNi0uNjk3IDEuNjg4eiIgdHJhbnNmb3JtPSJ0cmFuc2xhdGUoLTIgLTMpIi8+CiAgICA8L2c+Cjwvc3ZnPgo=\"/><a href=\"/helpcentre?otracker=undefined_footer_footer_navlinks\"><span class=\"hDTmm5\">Help Center</span></a></div><span class=\"z3ht-w\">© 2007-<!-- -->2023<!-- --> <span>Flipkart.com</span></span><img src=\"//static-assets-web.flixcart.com/fk-p-linchpin-web/fk-cp-zion/img/payment-method_69e7ec.svg\"/></div></div></div></div></footer><div class=\"_1EcK2J _38JCdA\"><div class=\"bra6U8\"><svg class=\"_2TdLiZ\" height=\"27\" viewbox=\"0 0 16 27\" width=\"16\" xmlns=\"http://www.w3.org/2000/svg\"><path class=\"_3ZKfA2\" d=\"M16 23.207L6.11 13.161 16 3.093 12.955 0 0 13.161l12.955 13.161z\" fill=\"#fff\"></path></svg><span>Back to top</span></div></div></div></div> <script id=\"jsonLD\" nonce=\"3104953045934506010\" type=\"application/ld+json\">{\"@context\":\"http://schema.org\",\"@type\":\"ItemList\",\"itemListElement\":[{\"@type\":\"ListItem\",\"position\":1,\"url\":\"https://www.flipkart.com/poco-c50-royal-blue-32-gb/p/itma43af9d14952e?pid=MOBGK8WZUTGDEZFA&lid=LSTMOBGK8WZUTGDEZFAWKBDLT&marketplace=FLIPKART&store=tyy%2F4io&spotlightTagId=BestsellerId_tyy%2F4io\",\"name\":\"POCO C50 (Royal Blue, 32 GB)\"},{\"@type\":\"ListItem\",\"position\":2,\"url\":\"https://www.flipkart.com/poco-m4-5g-cool-blue-64-gb/p/itm7b27dd2f5da7e?pid=MOBGDRGPD6YGVHXZ&lid=LSTMOBGDRGPD6YGVHXZXRTTHJ&marketplace=FLIPKART&store=tyy%2F4io\",\"name\":\"POCO M4 5G (Cool Blue, 64 GB)\"},{\"@type\":\"ListItem\",\"position\":3,\"url\":\"https://www.flipkart.com/poco-c51-royal-blue-64-gb/p/itm1e4e8373537a7?pid=MOBGZCQFCWNDK89P&lid=LSTMOBGZCQFCWNDK89PTMGT86&marketplace=FLIPKART&store=tyy%2F4io&spotlightTagId=BestsellerId_tyy%2F4io\",\"name\":\"POCO C51 (Royal Blue, 64 GB)\"},{\"@type\":\"ListItem\",\"position\":4,\"url\":\"https://www.flipkart.com/poco-c51-power-black-64-gb/p/itm62bcd2634619e?pid=MOBGZCQFWM5HZHXX&lid=LSTMOBGZCQFWM5HZHXXVV2MKC&marketplace=FLIPKART&store=tyy%2F4io\",\"name\":\"POCO C51 (Power Black, 64 GB)\"},{\"@type\":\"ListItem\",\"position\":5,\"url\":\"https://www.flipkart.com/poco-m4-5g-power-black-64-gb/p/itmdca739218a8a0?pid=MOBGDRGPZTSHNQ5H&lid=LSTMOBGDRGPZTSHNQ5HK2U5VI&marketplace=FLIPKART&store=tyy%2F4io\",\"name\":\"POCO M4 5G (Power Black, 64 GB)\"},{\"@type\":\"ListItem\",\"position\":6,\"url\":\"https://www.flipkart.com/poco-c55-power-black-64-gb/p/itme567bcd596fe9?pid=MOBGMXSW9PHJVQCA&lid=LSTMOBGMXSW9PHJVQCALTZQ3D&marketplace=FLIPKART&store=tyy%2F4io&spotlightTagId=FkPickId_tyy%2F4io\",\"name\":\"POCO C55 (Power Black, 64 GB)\"},{\"@type\":\"ListItem\",\"position\":7,\"url\":\"https://www.flipkart.com/poco-c55-cool-blue-64-gb/p/itm166c52f5d5dc0?pid=MOBGMXSW55C7ZJE7&lid=LSTMOBGMXSW55C7ZJE7OFBLA7&marketplace=FLIPKART&store=tyy%2F4io&spotlightTagId=BestsellerId_tyy%2F4io\",\"name\":\"POCO C55 (Cool Blue, 64 GB)\"},{\"@type\":\"ListItem\",\"position\":8,\"url\":\"https://www.flipkart.com/poco-c55-forest-green-64-gb/p/itm8b99ef9bd674c?pid=MOBGMXSWFYZYWKTD&lid=LSTMOBGMXSWFYZYWKTDWKED3U&marketplace=FLIPKART&store=tyy%2F4io\",\"name\":\"POCO C55 (Forest Green, 64 GB)\"},{\"@type\":\"ListItem\",\"position\":9,\"url\":\"https://www.flipkart.com/poco-m4-5g-yellow-128-gb/p/itm391fa74136549?pid=MOBGDRGPKQYB4RNZ&lid=LSTMOBGDRGPKQYB4RNZWXTHJ5&marketplace=FLIPKART&store=tyy%2F4io\",\"name\":\"POCO M4 5G (Yellow, 128 GB)\"},{\"@type\":\"ListItem\",\"position\":10,\"url\":\"https://www.flipkart.com/poco-c55-cool-blue-128-gb/p/itm26aca9fd143ba?pid=MOBGMXSWJHRVUWFE&lid=LSTMOBGMXSWJHRVUWFESKZGEW&marketplace=FLIPKART&store=tyy%2F4io\",\"name\":\"POCO C55 (Cool Blue, 128 GB)\"}]}</script> <script id=\"jsonLD\" nonce=\"3104953045934506010\" type=\"application/ld+json\">{}</script><script nonce=\"3104953045934506010\" type=\"application/ld+json\">{\n",
       "    \"@context\": \"http://schema.org\",\n",
       "    \"@type\": \"WebSite\",\n",
       "    \"url\": \"http://www.flipkart.com/\",\n",
       "    \"potentialAction\": [{\n",
       "        \"@type\": \"SearchAction\",\n",
       "        \"target\": \"http://www.flipkart.com/search?q={search_term_string}\",\n",
       "        \"query-input\": \"required name=search_term_string\"\n",
       "        },{\n",
       "        \"@type\": \"SearchAction\",\n",
       "        \"target\": \"android-app://com.flipkart.android/flipkart/de_sq_seg_-search.flipkart.com-_{search_term_string}\",\n",
       "        \"query-input\": \"required name=search_term_string\"\n",
       "    }]\n",
       "}</script><script id=\"is_script\" nonce=\"3104953045934506010\">window.__INITIAL_STATE__ = {};</script> <link data-chunk=\"NavMenu\" href=\"//static-assets-web.flixcart.com/fk-p-linchpin-web/fk-cp-zion/css/NavMenu.chunk.10ffe7.css\" rel=\"stylesheet\"/>\n",
       "<link data-chunk=\"MulwidgetBaseChunk\" href=\"//static-assets-web.flixcart.com/fk-p-linchpin-web/fk-cp-zion/css/MulwidgetBaseChunk.chunk.a340c6.css\" rel=\"stylesheet\"/>\n",
       "<link data-chunk=\"SearchFeedback\" href=\"//static-assets-web.flixcart.com/fk-p-linchpin-web/fk-cp-zion/css/SearchFeedback.chunk.d16248.css\" rel=\"stylesheet\"/> <script id=\"__LOADABLE_REQUIRED_CHUNKS__\" type=\"application/json\">[128,124,201]</script><script id=\"__LOADABLE_REQUIRED_CHUNKS___ext\" type=\"application/json\">{\"namedChunks\":[\"NavMenu\",\"MulwidgetBaseChunk\",\"SearchFeedback\"]}</script>\n",
       "<script async=\"\" data-chunk=\"NavMenu\" src=\"//static-assets-web.flixcart.com/fk-p-linchpin-web/fk-cp-zion/js/NavMenu.chunk.21cb96d0.js\"></script>\n",
       "<script async=\"\" data-chunk=\"MulwidgetBaseChunk\" src=\"//static-assets-web.flixcart.com/fk-p-linchpin-web/fk-cp-zion/js/MulwidgetBaseChunk.chunk.628fc0d8.js\"></script>\n",
       "<script async=\"\" data-chunk=\"SearchFeedback\" src=\"//static-assets-web.flixcart.com/fk-p-linchpin-web/fk-cp-zion/js/SearchFeedback.chunk.7d3ed586.js\"></script><script nonce=\"3104953045934506010\">window.omniture={tpv:[],tl:[]};window.omniture.trackPageView=function(){window.omniture.tpv.push(arguments)};window.omniture.trackLink=function(){window.omniture.tl.push(arguments)}\n",
       "\n",
       "    if(window.location.host === 'www.flipkart.com' || /\\.store\\.flipkart\\.com/i.test(window.location.host)){\n",
       "        window.s_account = \"flipkart-prd\"; //omniture account id\n",
       "    }else{\n",
       "        window.s_account = \"flipkart-prd-test\";\n",
       "    }\n",
       "    window.s_isDesktop = true;</script><script nonce=\"3104953045934506010\">function isMobile(){\n",
       "\t\tif (!!(navigator.userAgentData && navigator.userAgentData.mobile) || navigator.userAgent.indexOf(\"Mobile\") !== -1){\n",
       "\t\t\treturn true;\n",
       "\t\t}\n",
       "\t\telse {\n",
       "\t\t\treturn false;\n",
       "\t\t}\n",
       "\t}\n",
       "\n",
       "\tif ('serviceWorker' in navigator && !isMobile()) {\n",
       "\t\tnavigator.serviceWorker.register('/sw.js').then(function(registration) {\n",
       "\t\t\tconsole.log('ServiceWorker registration successful with scope: ', registration.scope);\n",
       "\t\t\tnavigator.onLine && navigator.serviceWorker.controller && navigator.serviceWorker.controller.postMessage('BANDWIDTH_COMPUTE');\n",
       "\t\t\tnavigator.serviceWorker.addEventListener('message', function (event) {\n",
       "\t\t\t\ttry {\n",
       "\t\t\t\t\tconst bandwidthData = JSON.parse(event.data);\n",
       "\t\t\t\t\tif (bandwidthData && bandwidthData.data) {\n",
       "\t\t\t\t\t\twindow.bandwidth = bandwidthData.data.downlink + '_' + bandwidthData.data.computeMethod + '_' + bandwidthData.data.effectiveType + '_' + bandwidthData.data.type;\n",
       "\t\t\t\t\t}\n",
       "\t\t\t\t}catch(err) {\n",
       "\t\t\t\t\tconsole.error('JSON.parse failed:', err);\n",
       "\t\t\t\t}\n",
       "\t\t\t});\n",
       "\t\t})\n",
       "\t\t.catch(function(err) {\n",
       "\t\t\tconsole.error('ServiceWorker registration failed: ', err);\n",
       "\t\t});\n",
       "\t} else if('serviceWorker' in navigator && isMobile()){\n",
       "        navigator.serviceWorker.getRegistration().then(function(registration) {\n",
       "            var serviceWorkerUnregistered=false;\n",
       "            if(registration) {\n",
       "                registration.unregister();\n",
       "                serviceWorkerUnregistered=true;\n",
       "            }\n",
       "            serviceWorkerUnregistered && window.location.reload();\n",
       "        });\n",
       "    }</script> <script async=\"\" defer=\"defer\" id=\"omni_script\" nonce=\"3104953045934506010\" src=\"///www/linchpin/batman-returns/omni/omni16.js\"></script> <script nonce=\"3104953045934506010\">window._pxAppId = 'PXgNtTli3A';</script><script async=\"\" nonce=\"3104953045934506010\" src=\"///px/gNtTli3A/init.js\"></script></body></html>"
      ]
     },
     "execution_count": 243,
     "metadata": {},
     "output_type": "execute_result"
    }
   ],
   "source": [
    "soup = BeautifulSoup(response.text,'html.parser')\n",
    "soup"
   ]
  },
  {
   "cell_type": "code",
   "execution_count": 244,
   "id": "a2f8bf24",
   "metadata": {},
   "outputs": [
    {
     "data": {
      "text/plain": [
       "24"
      ]
     },
     "execution_count": 244,
     "metadata": {},
     "output_type": "execute_result"
    }
   ],
   "source": [
    "cards = soup.find_all('div', '_3pLy-c row')\n",
    "len(cards)"
   ]
  },
  {
   "cell_type": "code",
   "execution_count": null,
   "id": "7efcd594",
   "metadata": {},
   "outputs": [],
   "source": [
    "cards"
   ]
  },
  {
   "cell_type": "code",
   "execution_count": 53,
   "id": "fa0c68d5",
   "metadata": {},
   "outputs": [],
   "source": [
    "card = cards[0]"
   ]
  },
  {
   "cell_type": "code",
   "execution_count": 164,
   "id": "892e113a",
   "metadata": {},
   "outputs": [
    {
     "data": {
      "text/plain": [
       "'POCO M5 (Power Black, 128 GB)'"
      ]
     },
     "execution_count": 164,
     "metadata": {},
     "output_type": "execute_result"
    }
   ],
   "source": [
    "phone_name = card.find('div', '_4rR01T').text\n",
    "phone_name"
   ]
  },
  {
   "cell_type": "code",
   "execution_count": 315,
   "id": "5eacb4f5",
   "metadata": {},
   "outputs": [
    {
     "data": {
      "text/plain": [
       "4.2"
      ]
     },
     "execution_count": 315,
     "metadata": {},
     "output_type": "execute_result"
    }
   ],
   "source": [
    "try:\n",
    "    rating = float(card.find('span','_1lRcqv').text)\n",
    "except Exception:\n",
    "    rating = 0\n",
    "rating"
   ]
  },
  {
   "cell_type": "code",
   "execution_count": 313,
   "id": "7217399b",
   "metadata": {},
   "outputs": [
    {
     "data": {
      "text/plain": [
       "'33,561'"
      ]
     },
     "execution_count": 313,
     "metadata": {},
     "output_type": "execute_result"
    }
   ],
   "source": [
    "try:\n",
    "    num_rating = card.find('span', '_2_R_DZ').text.split(\" \")[0]\n",
    "except Exception:\n",
    "    num_rating = 0\n",
    "num_rating"
   ]
  },
  {
   "cell_type": "code",
   "execution_count": 312,
   "id": "28f39f83",
   "metadata": {},
   "outputs": [
    {
     "data": {
      "text/plain": [
       "'2 GB RAM'"
      ]
     },
     "execution_count": 312,
     "metadata": {},
     "output_type": "execute_result"
    }
   ],
   "source": [
    "specs = card.find('div','fMghEO').find_all('li','rgWa7D')\n",
    "try:\n",
    "    ram_size = specs[0].text.split(\"|\")[0].strip()\n",
    "except Exception:\n",
    "    ram_size = np.nan\n",
    "ram_size"
   ]
  },
  {
   "cell_type": "code",
   "execution_count": 311,
   "id": "3b676a68",
   "metadata": {},
   "outputs": [
    {
     "data": {
      "text/plain": [
       "'32 GB ROM'"
      ]
     },
     "execution_count": 311,
     "metadata": {},
     "output_type": "execute_result"
    }
   ],
   "source": [
    "try:\n",
    "    storage_size = specs[0].text.split(\"|\")[1].strip()\n",
    "except Exception:\n",
    "    storage_size= np.nan\n",
    "storage_size"
   ]
  },
  {
   "cell_type": "code",
   "execution_count": 316,
   "id": "32634c9d",
   "metadata": {},
   "outputs": [
    {
     "data": {
      "text/plain": [
       "'8MP Dual Camera'"
      ]
     },
     "execution_count": 316,
     "metadata": {},
     "output_type": "execute_result"
    }
   ],
   "source": [
    "try:\n",
    "    rear_camera = specs[2].text.split(\"|\")[0].strip()\n",
    "except Exception:\n",
    "    rear_camera = np.nan\n",
    "rear_camera"
   ]
  },
  {
   "cell_type": "code",
   "execution_count": 317,
   "id": "09329b79",
   "metadata": {},
   "outputs": [
    {
     "data": {
      "text/plain": [
       "'5MP Front Camera'"
      ]
     },
     "execution_count": 317,
     "metadata": {},
     "output_type": "execute_result"
    }
   ],
   "source": [
    "try:\n",
    "    front_camera = specs[2].text.split(\"|\")[1].strip()\n",
    "except Exception:\n",
    "    front_camera= np.nan\n",
    "front_camera"
   ]
  },
  {
   "cell_type": "code",
   "execution_count": 302,
   "id": "db15b863",
   "metadata": {},
   "outputs": [
    {
     "data": {
      "text/plain": [
       "'4000 mAh'"
      ]
     },
     "execution_count": 302,
     "metadata": {},
     "output_type": "execute_result"
    }
   ],
   "source": [
    "try:\n",
    "    battery_size = specs[3].text.split(' ')[0]+\" mAh\"\n",
    "except Exception:\n",
    "    battery_size = np.nan\n",
    "battery_size"
   ]
  },
  {
   "cell_type": "code",
   "execution_count": 303,
   "id": "ec05a175",
   "metadata": {},
   "outputs": [
    {
     "data": {
      "text/plain": [
       "'Helio P22 (MTK6762) Processor'"
      ]
     },
     "execution_count": 303,
     "metadata": {},
     "output_type": "execute_result"
    }
   ],
   "source": [
    "try:\n",
    "    processor = specs[4].text\n",
    "except Exception:\n",
    "    processor = np.nan\n",
    "processor"
   ]
  },
  {
   "cell_type": "code",
   "execution_count": 137,
   "id": "f1bbe669",
   "metadata": {},
   "outputs": [
    {
     "data": {
      "text/plain": [
       "'₹5,999'"
      ]
     },
     "execution_count": 137,
     "metadata": {},
     "output_type": "execute_result"
    }
   ],
   "source": [
    "price = card.find('div','_30jeq3 _1_WHN1').text\n",
    "price"
   ]
  },
  {
   "cell_type": "code",
   "execution_count": 140,
   "id": "b12f1bc0",
   "metadata": {},
   "outputs": [
    {
     "data": {
      "text/plain": [
       "'2023-06-16'"
      ]
     },
     "execution_count": 140,
     "metadata": {},
     "output_type": "execute_result"
    }
   ],
   "source": [
    "today_date = datetime.today().strftime(\"%Y-%m-%d\")\n",
    "today_date"
   ]
  },
  {
   "cell_type": "markdown",
   "id": "e04723cc",
   "metadata": {},
   "source": [
    "# Now doing this for all the values and all the pages"
   ]
  },
  {
   "cell_type": "code",
   "execution_count": 328,
   "id": "1e0ca88f",
   "metadata": {},
   "outputs": [],
   "source": [
    "#Define a function to extract all the records\n",
    "def get_record(card):\n",
    "    phone_name = card.find('div', '_4rR01T').text\n",
    "    \n",
    "    #Rating\n",
    "    try:\n",
    "        rating = float(card.find('span','_1lRcqv').text)\n",
    "    except Exception:\n",
    "        rating = 0\n",
    "        \n",
    "    #Number of Ratings\n",
    "    try:\n",
    "        num_rating = card.find('span', '_2_R_DZ').text.split(\" \")[0]\n",
    "    except Exception:\n",
    "        num_rating = 0\n",
    "    \n",
    "    specs = card.find('div','fMghEO').find_all('li','rgWa7D')\n",
    "    \n",
    "    #Ram Size\n",
    "    try:\n",
    "        ram_size = specs[0].text.split(\"|\")[0].strip()\n",
    "    except Exception:\n",
    "        ram_size = np.nan\n",
    "    \n",
    "    #Storage size\n",
    "    try:\n",
    "        storage_size = specs[0].text.split(\"|\")[1].strip()\n",
    "    except Exception:\n",
    "        storage_size= np.nan\n",
    "        \n",
    "    #Rear Camera\n",
    "    try:\n",
    "        rear_camera = specs[2].text.split(\"|\")[0].strip()\n",
    "    except Exception:\n",
    "        rear_camera = np.nan\n",
    "    \n",
    "    #Front Camera\n",
    "    try:\n",
    "        front_camera = specs[2].text.split(\"|\")[1].strip()\n",
    "    except Exception:\n",
    "        front_camera = np.nan\n",
    "        \n",
    "    #Battery_size\n",
    "    try:\n",
    "        battery_size = specs[3].text.split(' ')[0]+\" mAh\"\n",
    "    except Exception:\n",
    "        battery_size = np.nan\n",
    "    \n",
    "    #Processor\n",
    "    try:\n",
    "        processor = specs[4].text\n",
    "    except Exception:\n",
    "        processor = np.nan\n",
    "    \n",
    "    price_in_INR = card.find('div','_30jeq3 _1_WHN1').text\n",
    "    #price_usd = price/81.91\n",
    "    today_date = datetime.today().strftime(\"%Y-%m-%d\")\n",
    "    \n",
    "    record = (phone_name, rating, num_rating, ram_size, storage_size, rear_camera, front_camera, battery_size, processor, price_in_INR, today_date)\n",
    "    \n",
    "    return record"
   ]
  },
  {
   "cell_type": "code",
   "execution_count": 174,
   "id": "8e27f394",
   "metadata": {},
   "outputs": [],
   "source": [
    "records = []\n",
    "\n",
    "for card in cards:\n",
    "    record = get_record(card)\n",
    "    records.append(record)"
   ]
  },
  {
   "cell_type": "code",
   "execution_count": 281,
   "id": "490206d0",
   "metadata": {},
   "outputs": [],
   "source": [
    "brand_list=['poco','realme','apple','samsung','oppo','google','vivo','nothing','mi','nokia','motorola','oneplus','huawei','alcatel','lenovo','infinix']"
   ]
  },
  {
   "cell_type": "code",
   "execution_count": 329,
   "id": "108624b5",
   "metadata": {},
   "outputs": [],
   "source": [
    "records = []\n",
    "num_page = 0\n",
    "for brand in brand_list:\n",
    "    if brand == 'poco':\n",
    "        num_page=6\n",
    "    elif brand == 'realme':\n",
    "        num_page = 11\n",
    "    elif brand == 'apple':\n",
    "        num_page = 7\n",
    "    elif brand == 'samsung':\n",
    "        num_page = 11\n",
    "    elif brand == 'oppo':\n",
    "        num_page = 6\n",
    "    elif brand == 'google':\n",
    "        num_page = 2\n",
    "    elif brand == 'vivo':\n",
    "        num_page = 10\n",
    "    elif brand == 'nothing':\n",
    "        num_page = 2\n",
    "    elif brand == 'mi':\n",
    "        num_page = 9\n",
    "    elif brand == 'nokia':\n",
    "        num_page = 7\n",
    "    elif brand == 'motorola':\n",
    "        num_page = 5\n",
    "    elif brand == 'oneplus':\n",
    "        num_page = 6\n",
    "    elif brand == 'huawei':\n",
    "        num_page = 2\n",
    "    elif brand == 'alcatel':\n",
    "        num_page = 2\n",
    "    elif brand == 'lenovo':\n",
    "        num_page = 2\n",
    "    elif brand == 'infinix':\n",
    "        num_page = 6\n",
    "    else:\n",
    "        num_page=15\n",
    "        \n",
    "        \n",
    "    for page in range(1,num_page):\n",
    "        url = \"https://www.flipkart.com/mobiles/pr?sid=tyy%2C4io&p%5B%5D=facets.brand%255B%255D%3D{}&ctx=eyJjYXJkQ29udGV4dCI6eyJhdHRyaWJ1dGVzIjp7InRpdGxlIjp7Im11bHRpVmFsdWVkQXR0cmlidXRlIjp7ImtleSI6InRpdGxlIiwiaW5mZXJlbmNlVHlwZSI6IlRJVExFIiwidmFsdWVzIjpbIlNob3AgTm93Il0sInZhbHVlVHlwZSI6Ik1VTFRJX1ZBTFVFRCJ9fX19fQ%3D%3D&otracker=clp_metro_expandable_3_7.metroExpandable.METRO_EXPANDABLE_Shop%2BNow_mobile-phones-store_O1WYX08RHODP_wp4&fm=neo%2Fmerchandising&iid=M_4e0e5fa0-a883-4ce6-978f-bc6f6dbe2151_7.O1WYX08RHODP&ppt=hp&ppn=homepage&ssid=6rg6uvho8w0000001686888534336&page={}\".format(brand, page)\n",
    "        response = requests.get(url)\n",
    "        soup = BeautifulSoup(response.text,'html.parser')\n",
    "        cards = soup.find_all('div', '_3pLy-c row')\n",
    "\n",
    "        for card in cards:\n",
    "            record = get_record(card)\n",
    "            records.append(record)\n",
    "\n",
    "    "
   ]
  },
  {
   "cell_type": "code",
   "execution_count": 331,
   "id": "2dbf3185",
   "metadata": {},
   "outputs": [
    {
     "data": {
      "text/plain": [
       "1836"
      ]
     },
     "execution_count": 331,
     "metadata": {},
     "output_type": "execute_result"
    }
   ],
   "source": [
    "len(records)"
   ]
  },
  {
   "cell_type": "code",
   "execution_count": 332,
   "id": "0f0e2170",
   "metadata": {},
   "outputs": [],
   "source": [
    "with open('mobile_prices_2023.csv','w',newline='', encoding='utf-8') as f:\n",
    "    writer = csv.writer(f)\n",
    "    writer.writerow(['Phone Name', 'Rating ?/5', 'Number of Ratings', 'RAM', 'ROM/Storage', 'Back/Rare Camera', 'Front Camera', 'Battery', 'Processor','Price in INR', 'Date of Scraping'])\n",
    "    writer.writerows(records)"
   ]
  },
  {
   "cell_type": "code",
   "execution_count": 333,
   "id": "1c36c7a4",
   "metadata": {},
   "outputs": [
    {
     "data": {
      "text/plain": [
       "1836"
      ]
     },
     "execution_count": 333,
     "metadata": {},
     "output_type": "execute_result"
    }
   ],
   "source": [
    "df=pd.read_csv('mobile_prices_2023.csv')\n",
    "len(df)"
   ]
  },
  {
   "cell_type": "code",
   "execution_count": 335,
   "id": "1a0894d1",
   "metadata": {},
   "outputs": [
    {
     "data": {
      "text/html": [
       "<div>\n",
       "<style scoped>\n",
       "    .dataframe tbody tr th:only-of-type {\n",
       "        vertical-align: middle;\n",
       "    }\n",
       "\n",
       "    .dataframe tbody tr th {\n",
       "        vertical-align: top;\n",
       "    }\n",
       "\n",
       "    .dataframe thead th {\n",
       "        text-align: right;\n",
       "    }\n",
       "</style>\n",
       "<table border=\"1\" class=\"dataframe\">\n",
       "  <thead>\n",
       "    <tr style=\"text-align: right;\">\n",
       "      <th></th>\n",
       "      <th>Phone Name</th>\n",
       "      <th>Rating ?/5</th>\n",
       "      <th>Number of Ratings</th>\n",
       "      <th>RAM</th>\n",
       "      <th>ROM/Storage</th>\n",
       "      <th>Back/Rare Camera</th>\n",
       "      <th>Front Camera</th>\n",
       "      <th>Battery</th>\n",
       "      <th>Processor</th>\n",
       "      <th>Price in INR</th>\n",
       "      <th>Date of Scraping</th>\n",
       "    </tr>\n",
       "  </thead>\n",
       "  <tbody>\n",
       "    <tr>\n",
       "      <th>417</th>\n",
       "      <td>APPLE iPhone 14 ((PRODUCT)RED, 512 GB)</td>\n",
       "      <td>4.6</td>\n",
       "      <td>36,349</td>\n",
       "      <td>512 GB ROM</td>\n",
       "      <td>NaN</td>\n",
       "      <td>12MP + 12MP</td>\n",
       "      <td>12MP Front Camera</td>\n",
       "      <td>A15 mAh</td>\n",
       "      <td>1 Year Warranty for Phone and 6 Months Warrant...</td>\n",
       "      <td>₹1,00,999</td>\n",
       "      <td>2023-06-17</td>\n",
       "    </tr>\n",
       "    <tr>\n",
       "      <th>574</th>\n",
       "      <td>SAMSUNG Galaxy A23 (Blue, 128 GB)</td>\n",
       "      <td>4.2</td>\n",
       "      <td>995</td>\n",
       "      <td>6 GB RAM</td>\n",
       "      <td>128 GB ROM</td>\n",
       "      <td>50MP Rear Camera</td>\n",
       "      <td>8MP Front Camera</td>\n",
       "      <td>5000 mAh</td>\n",
       "      <td>Octa-core(EXYNOS) Processor</td>\n",
       "      <td>₹17,499</td>\n",
       "      <td>2023-06-17</td>\n",
       "    </tr>\n",
       "    <tr>\n",
       "      <th>1565</th>\n",
       "      <td>OnePlus 9 Pro 5G (Pine Green, 256 GB)</td>\n",
       "      <td>3.9</td>\n",
       "      <td>227</td>\n",
       "      <td>12 GB RAM</td>\n",
       "      <td>256 GB ROM</td>\n",
       "      <td>48MP Rear Camera</td>\n",
       "      <td>NaN</td>\n",
       "      <td>4500 mAh</td>\n",
       "      <td>1 Year Manufacturer Warranty for Handset and 6...</td>\n",
       "      <td>₹49,999</td>\n",
       "      <td>2023-06-17</td>\n",
       "    </tr>\n",
       "    <tr>\n",
       "      <th>342</th>\n",
       "      <td>realme 8i (Space Purple, 128 GB)</td>\n",
       "      <td>4.4</td>\n",
       "      <td>70,506</td>\n",
       "      <td>6 GB RAM</td>\n",
       "      <td>128 GB ROM</td>\n",
       "      <td>50MP + 2MP + 2MP</td>\n",
       "      <td>16MP Front Camera</td>\n",
       "      <td>5000 mAh</td>\n",
       "      <td>MediaTek Helio G96 Processor</td>\n",
       "      <td>₹17,999</td>\n",
       "      <td>2023-06-17</td>\n",
       "    </tr>\n",
       "    <tr>\n",
       "      <th>332</th>\n",
       "      <td>realme C21 (Cross Blue, 32 GB)</td>\n",
       "      <td>4.4</td>\n",
       "      <td>72,333</td>\n",
       "      <td>3 GB RAM</td>\n",
       "      <td>32 GB ROM</td>\n",
       "      <td>13MP + 2MP + 2MP</td>\n",
       "      <td>5MP Front Camera</td>\n",
       "      <td>5000 mAh</td>\n",
       "      <td>MediaTek Helio G35 Processor</td>\n",
       "      <td>₹9,499</td>\n",
       "      <td>2023-06-17</td>\n",
       "    </tr>\n",
       "    <tr>\n",
       "      <th>954</th>\n",
       "      <td>vivo Y22 (Starlit Blue, 128 GB)</td>\n",
       "      <td>4.3</td>\n",
       "      <td>1,320</td>\n",
       "      <td>6 GB RAM</td>\n",
       "      <td>128 GB ROM</td>\n",
       "      <td>50MP + 2MP</td>\n",
       "      <td>8MP Front Camera</td>\n",
       "      <td>5000 mAh</td>\n",
       "      <td>Mediatek Helio G70 Processor</td>\n",
       "      <td>₹19,990</td>\n",
       "      <td>2023-06-17</td>\n",
       "    </tr>\n",
       "    <tr>\n",
       "      <th>1567</th>\n",
       "      <td>OnePlus 8 (Glacial Green, 128 GB)</td>\n",
       "      <td>4.5</td>\n",
       "      <td>442</td>\n",
       "      <td>8 GB RAM</td>\n",
       "      <td>128 GB ROM</td>\n",
       "      <td>48MP + 2MP + 16MP</td>\n",
       "      <td>16MP Front Camera</td>\n",
       "      <td>4300 mAh</td>\n",
       "      <td>Qualcomm Snapdragon 865 Processor</td>\n",
       "      <td>₹34,990</td>\n",
       "      <td>2023-06-17</td>\n",
       "    </tr>\n",
       "    <tr>\n",
       "      <th>294</th>\n",
       "      <td>realme C12 (Power Blue, 32 GB)</td>\n",
       "      <td>4.4</td>\n",
       "      <td>3,24,571</td>\n",
       "      <td>3 GB RAM</td>\n",
       "      <td>32 GB ROM</td>\n",
       "      <td>13MP + 2MP + 2MP</td>\n",
       "      <td>5MP Front Camera</td>\n",
       "      <td>6000 mAh</td>\n",
       "      <td>Mediatek Helio G35 Processor</td>\n",
       "      <td>₹10,999</td>\n",
       "      <td>2023-06-17</td>\n",
       "    </tr>\n",
       "    <tr>\n",
       "      <th>310</th>\n",
       "      <td>realme 9 5G (Stargaze White, 64 GB)</td>\n",
       "      <td>4.5</td>\n",
       "      <td>41,495</td>\n",
       "      <td>4 GB RAM</td>\n",
       "      <td>64 GB ROM</td>\n",
       "      <td>48MP + 2MP + 2MP</td>\n",
       "      <td>16MP Front Camera</td>\n",
       "      <td>5000 mAh</td>\n",
       "      <td>Mediatek Dimensity 810 Processor</td>\n",
       "      <td>₹13,499</td>\n",
       "      <td>2023-06-17</td>\n",
       "    </tr>\n",
       "    <tr>\n",
       "      <th>515</th>\n",
       "      <td>SAMSUNG Galaxy F13 (Sunrise Copper, 128 GB)</td>\n",
       "      <td>4.3</td>\n",
       "      <td>1,51,074</td>\n",
       "      <td>4 GB RAM</td>\n",
       "      <td>128 GB ROM</td>\n",
       "      <td>50MP + 5MP + 2MP</td>\n",
       "      <td>8MP Front Camera</td>\n",
       "      <td>6000 mAh</td>\n",
       "      <td>Exynos 850 Processor</td>\n",
       "      <td>₹11,999</td>\n",
       "      <td>2023-06-17</td>\n",
       "    </tr>\n",
       "  </tbody>\n",
       "</table>\n",
       "</div>"
      ],
      "text/plain": [
       "                                       Phone Name  Rating ?/5   \n",
       "417        APPLE iPhone 14 ((PRODUCT)RED, 512 GB)         4.6  \\\n",
       "574             SAMSUNG Galaxy A23 (Blue, 128 GB)         4.2   \n",
       "1565        OnePlus 9 Pro 5G (Pine Green, 256 GB)         3.9   \n",
       "342              realme 8i (Space Purple, 128 GB)         4.4   \n",
       "332                realme C21 (Cross Blue, 32 GB)         4.4   \n",
       "954               vivo Y22 (Starlit Blue, 128 GB)         4.3   \n",
       "1567            OnePlus 8 (Glacial Green, 128 GB)         4.5   \n",
       "294                realme C12 (Power Blue, 32 GB)         4.4   \n",
       "310           realme 9 5G (Stargaze White, 64 GB)         4.5   \n",
       "515   SAMSUNG Galaxy F13 (Sunrise Copper, 128 GB)         4.3   \n",
       "\n",
       "     Number of Ratings         RAM ROM/Storage   Back/Rare Camera   \n",
       "417             36,349  512 GB ROM         NaN        12MP + 12MP  \\\n",
       "574                995    6 GB RAM  128 GB ROM   50MP Rear Camera   \n",
       "1565               227   12 GB RAM  256 GB ROM   48MP Rear Camera   \n",
       "342             70,506    6 GB RAM  128 GB ROM   50MP + 2MP + 2MP   \n",
       "332             72,333    3 GB RAM   32 GB ROM   13MP + 2MP + 2MP   \n",
       "954              1,320    6 GB RAM  128 GB ROM         50MP + 2MP   \n",
       "1567               442    8 GB RAM  128 GB ROM  48MP + 2MP + 16MP   \n",
       "294           3,24,571    3 GB RAM   32 GB ROM   13MP + 2MP + 2MP   \n",
       "310             41,495    4 GB RAM   64 GB ROM   48MP + 2MP + 2MP   \n",
       "515           1,51,074    4 GB RAM  128 GB ROM   50MP + 5MP + 2MP   \n",
       "\n",
       "           Front Camera   Battery   \n",
       "417   12MP Front Camera   A15 mAh  \\\n",
       "574    8MP Front Camera  5000 mAh   \n",
       "1565                NaN  4500 mAh   \n",
       "342   16MP Front Camera  5000 mAh   \n",
       "332    5MP Front Camera  5000 mAh   \n",
       "954    8MP Front Camera  5000 mAh   \n",
       "1567  16MP Front Camera  4300 mAh   \n",
       "294    5MP Front Camera  6000 mAh   \n",
       "310   16MP Front Camera  5000 mAh   \n",
       "515    8MP Front Camera  6000 mAh   \n",
       "\n",
       "                                              Processor Price in INR   \n",
       "417   1 Year Warranty for Phone and 6 Months Warrant...    ₹1,00,999  \\\n",
       "574                         Octa-core(EXYNOS) Processor      ₹17,499   \n",
       "1565  1 Year Manufacturer Warranty for Handset and 6...      ₹49,999   \n",
       "342                        MediaTek Helio G96 Processor      ₹17,999   \n",
       "332                        MediaTek Helio G35 Processor       ₹9,499   \n",
       "954                        Mediatek Helio G70 Processor      ₹19,990   \n",
       "1567                  Qualcomm Snapdragon 865 Processor      ₹34,990   \n",
       "294                        Mediatek Helio G35 Processor      ₹10,999   \n",
       "310                    Mediatek Dimensity 810 Processor      ₹13,499   \n",
       "515                                Exynos 850 Processor      ₹11,999   \n",
       "\n",
       "     Date of Scraping  \n",
       "417        2023-06-17  \n",
       "574        2023-06-17  \n",
       "1565       2023-06-17  \n",
       "342        2023-06-17  \n",
       "332        2023-06-17  \n",
       "954        2023-06-17  \n",
       "1567       2023-06-17  \n",
       "294        2023-06-17  \n",
       "310        2023-06-17  \n",
       "515        2023-06-17  "
      ]
     },
     "execution_count": 335,
     "metadata": {},
     "output_type": "execute_result"
    }
   ],
   "source": [
    "df.sample(10)"
   ]
  },
  {
   "cell_type": "code",
   "execution_count": 327,
   "id": "6bbb6dc1",
   "metadata": {},
   "outputs": [
    {
     "data": {
      "text/plain": [
       "0       0\n",
       "1       0\n",
       "2       0\n",
       "3       0\n",
       "4       0\n",
       "       ..\n",
       "1831    0\n",
       "1832    0\n",
       "1833    0\n",
       "1834    0\n",
       "1835    0\n",
       "Name: Rating ?/5, Length: 1836, dtype: int64"
      ]
     },
     "execution_count": 327,
     "metadata": {},
     "output_type": "execute_result"
    }
   ],
   "source": [
    "df['Rating ?/5']"
   ]
  },
  {
   "cell_type": "code",
   "execution_count": null,
   "id": "6870d4a6",
   "metadata": {},
   "outputs": [],
   "source": []
  }
 ],
 "metadata": {
  "kernelspec": {
   "display_name": "Python 3 (ipykernel)",
   "language": "python",
   "name": "python3"
  },
  "language_info": {
   "codemirror_mode": {
    "name": "ipython",
    "version": 3
   },
   "file_extension": ".py",
   "mimetype": "text/x-python",
   "name": "python",
   "nbconvert_exporter": "python",
   "pygments_lexer": "ipython3",
   "version": "3.11.5"
  }
 },
 "nbformat": 4,
 "nbformat_minor": 5
}
